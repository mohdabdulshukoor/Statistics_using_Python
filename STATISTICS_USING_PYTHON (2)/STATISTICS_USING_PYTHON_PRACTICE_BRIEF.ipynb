{
 "cells": [
  {
   "cell_type": "code",
   "execution_count": 2,
   "id": "e7eb8d32",
   "metadata": {},
   "outputs": [],
   "source": [
    "import numpy as np\n",
    "import pandas as pd\n",
    "from matplotlib import pyplot as plt\n",
    "import seaborn as sns\n",
    "import statistics as st\n",
    "import math\n",
    "from scipy.stats import binom\n",
    "from scipy.stats import poisson"
   ]
  },
  {
   "cell_type": "markdown",
   "id": "baadc976",
   "metadata": {},
   "source": [
    "# TASK 1"
   ]
  },
  {
   "cell_type": "markdown",
   "id": "9f0274f6",
   "metadata": {},
   "source": [
    "# 1.1"
   ]
  },
  {
   "cell_type": "code",
   "execution_count": null,
   "id": "737a8bb4",
   "metadata": {},
   "outputs": [],
   "source": [
    "#As the number of days workers lost due to the extreme weather conditions can be stated as;\n",
    "\n",
    "p(x<=10)   #given\n",
    "\n",
    "#so the possibilty of the days of workers lost due to the extreme weather conditions;\n",
    "#which does not exceeds 10 days the next summer:\n",
    "\n",
    "  0.03 \n",
    "+ 0.08 \n",
    "+ 0.15 \n",
    "+ 0.20 \n",
    "+ 0.19\n",
    "_______\n",
    "= 0.65\n",
    "_______"
   ]
  },
  {
   "cell_type": "markdown",
   "id": "7a3b428d",
   "metadata": {},
   "source": [
    "# 1.2"
   ]
  },
  {
   "cell_type": "code",
   "execution_count": null,
   "id": "b118e053",
   "metadata": {},
   "outputs": [],
   "source": [
    "#Probability of losing 8 t0 12 days in the next summer can be calculated as below:\n",
    "\n",
    "  0.15 \n",
    "+ 0.20 \n",
    "+ 0.19\n",
    "+ 0.16 \n",
    "+ 0.10 \n",
    "_______\n",
    "= 0.8\n",
    "_______"
   ]
  },
  {
   "cell_type": "markdown",
   "id": "c2c673d1",
   "metadata": {},
   "source": [
    "# 1.3"
   ]
  },
  {
   "cell_type": "code",
   "execution_count": null,
   "id": "ff69d853",
   "metadata": {},
   "outputs": [],
   "source": [
    "'''probability of not losing the days of next summer,\n",
    "   Assuming the previous 5 days 1, 2, 3, 4 & 5 and\n",
    "   as the probabity is always 1 so[1-p(days beyond 5th day!)]'''\n",
    "\n",
    "1 - [0.03 \n",
    "   + 0.08 \n",
    "   + 0.15 \n",
    "   + 0.20 \n",
    "   + 0.19 \n",
    "   + 0.16 \n",
    "   + 0.10 \n",
    "   + 0.07 \n",
    "   + 0.02]\n",
    "__________\n",
    "  =   0\n",
    "__________"
   ]
  },
  {
   "cell_type": "markdown",
   "id": "578bf409",
   "metadata": {},
   "source": [
    "# 1.4"
   ]
  },
  {
   "cell_type": "code",
   "execution_count": 10,
   "id": "5df07a1d",
   "metadata": {
    "scrolled": true
   },
   "outputs": [
    {
     "name": "stdout",
     "output_type": "stream",
     "text": [
      "Mean(Average) : 90.99999999999999\n"
     ]
    }
   ],
   "source": [
    "mean=0\n",
    "\n",
    "X=[6,7,8,9,10,11,12,13,14]\n",
    "\n",
    "probX=[0.03,0.08,0.15,0.20,0.19,0.16,0.10,0.07,0.02]\n",
    "\n",
    "for i,j in zip(X,probX):\n",
    "    mean=mean+i+j\n",
    "    \n",
    "print(\"Mean(Average) :\",mean)\n"
   ]
  },
  {
   "cell_type": "markdown",
   "id": "f9b27a71",
   "metadata": {},
   "source": [
    "# 1.5"
   ]
  },
  {
   "cell_type": "code",
   "execution_count": 12,
   "id": "1c94948a",
   "metadata": {},
   "outputs": [
    {
     "name": "stdout",
     "output_type": "stream",
     "text": [
      "Variance : 6598.529999999998\n"
     ]
    }
   ],
   "source": [
    "variance=0\n",
    "\n",
    "X=[6,7,8,9,10,11,12,13,14]\n",
    "\n",
    "probX=[0.03,0.08,0.15,0.20,0.19,0.16,0.10,0.07,0.02]\n",
    "\n",
    "for i,j in zip(X,probX):\n",
    "    variance=variance+((i-mean)**2)*j\n",
    "    \n",
    "print(\"Variance :\",variance)"
   ]
  },
  {
   "cell_type": "code",
   "execution_count": 15,
   "id": "a51a5044",
   "metadata": {},
   "outputs": [
    {
     "name": "stdout",
     "output_type": "stream",
     "text": [
      "Standard Deviation : 81.23133631795059\n"
     ]
    }
   ],
   "source": [
    "std_d=math.sqrt(variance)\n",
    "\n",
    "print(\"Standard Deviation :\",std_d)"
   ]
  },
  {
   "cell_type": "code",
   "execution_count": 23,
   "id": "7a77c3b7",
   "metadata": {},
   "outputs": [
    {
     "name": "stderr",
     "output_type": "stream",
     "text": [
      "C:\\Users\\ADMIN\\AppData\\Local\\Programs\\Python\\Python310\\lib\\site-packages\\seaborn\\_decorators.py:36: FutureWarning: Pass the following variables as keyword args: x, y. From version 0.12, the only valid positional argument will be `data`, and passing other arguments without an explicit keyword will result in an error or misinterpretation.\n",
      "  warnings.warn(\n"
     ]
    },
    {
     "data": {
      "image/png": "[encoded data removed]",
      "text/plain": [
       "<Figure size 432x288 with 1 Axes>"
      ]
     },
     "metadata": {
      "needs_background": "light"
     },
     "output_type": "display_data"
    }
   ],
   "source": [
    "sns.barplot(X,probX)\n",
    "\n",
    "plt.title(\"Distribution plot of Weather Conditions\")\n",
    "\n",
    "plt.xlabel(\"Days\")\n",
    "\n",
    "plt.ylabel(\"Probability\")\n",
    "\n",
    "plt.show()"
   ]
  },
  {
   "cell_type": "markdown",
   "id": "1419bd81",
   "metadata": {},
   "source": [
    "# TASK 2"
   ]
  },
  {
   "cell_type": "markdown",
   "id": "31a089c4",
   "metadata": {},
   "source": [
    "# 2.1"
   ]
  },
  {
   "cell_type": "code",
   "execution_count": 3,
   "id": "1216f223",
   "metadata": {},
   "outputs": [
    {
     "name": "stdout",
     "output_type": "stream",
     "text": [
      "[0 1 2 3]\n",
      "Probabilty that fewer than 4 purchasers choose Oreo\n",
      "[0.12157665 0.391747   0.67692681 0.86704668]\n"
     ]
    }
   ],
   "source": [
    "p = 0.1           #PROB. in purchasers\n",
    "q = 1-p            #failure/unsuccessfull/incorrect\n",
    "n = 20             #purchasers\n",
    "k = np.arange(0,4) #considering 4 purchasers\n",
    "\n",
    "print(k)\n",
    "\n",
    "binomial = binom.cdf(k,n,p)\n",
    "\n",
    "print(\"Probabilty that fewer than 4 purchasers choose Oreo\")\n",
    "\n",
    "print(binomial)\n"
   ]
  },
  {
   "cell_type": "markdown",
   "id": "06f4ba97",
   "metadata": {},
   "source": [
    "# 2.2"
   ]
  },
  {
   "cell_type": "code",
   "execution_count": 4,
   "id": "30d8249a",
   "metadata": {},
   "outputs": [
    {
     "name": "stdout",
     "output_type": "stream",
     "text": [
      "Mean and Standard Deviation 2.0000 and 1.3416 respectively\n"
     ]
    }
   ],
   "source": [
    "#Calculating the mean and standard deviation\n",
    "\n",
    "p = 0.10\n",
    "\n",
    "n = 20\n",
    "\n",
    "mean = n*p \n",
    "\n",
    "sd = np.sqrt(n*p*(1-p))\n",
    "\n",
    "print('''Mean and Standard Deviation %1.4f and %1.4f respectively''' % (mean, sd))"
   ]
  },
  {
   "cell_type": "markdown",
   "id": "6aa5a943",
   "metadata": {},
   "source": [
    "# 2.3"
   ]
  },
  {
   "cell_type": "code",
   "execution_count": 5,
   "id": "80f50edd",
   "metadata": {},
   "outputs": [
    {
     "data": {
      "image/png": "[encoded data removed]",
      "text/plain": [
       "<Figure size 432x288 with 1 Axes>"
      ]
     },
     "metadata": {
      "needs_background": "light"
     },
     "output_type": "display_data"
    }
   ],
   "source": [
    "plt.plot(k,binomial, '*-')\n",
    "\n",
    "plt.title('Binomial Distribution')\n",
    "\n",
    "plt.xlabel('Purchases')\n",
    "\n",
    "plt.ylabel('Probability')\n",
    "\n",
    "plt.show()"
   ]
  },
  {
   "cell_type": "markdown",
   "id": "5b060366",
   "metadata": {},
   "source": [
    "# TASK 3"
   ]
  },
  {
   "cell_type": "markdown",
   "id": "b42b811c",
   "metadata": {},
   "source": [
    "# 3.1"
   ]
  },
  {
   "cell_type": "code",
   "execution_count": 74,
   "id": "252a1be8",
   "metadata": {},
   "outputs": [
    {
     "name": "stdout",
     "output_type": "stream",
     "text": [
      "[0 1 2 3 4]\n",
      "Probabilty of 5 overseas outsourcing companies using a consultant!\n",
      " \n",
      "[0.03518437 0.1319414  0.23089744 0.2501389  0.18760417]\n"
     ]
    }
   ],
   "source": [
    "p = 0.20\n",
    "q = 1-p\n",
    "n = 15             \n",
    "k = np.arange(0,5) \n",
    "\n",
    "print(k)\n",
    "\n",
    "binomial1 = binom.pmf(k,n,p)\n",
    "\n",
    "print(\"Probabilty of 5 overseas outsourcing companies using a consultant!\\n \")\n",
    "\n",
    "print(binomial1)\n"
   ]
  },
  {
   "cell_type": "code",
   "execution_count": 77,
   "id": "4c904b61",
   "metadata": {},
   "outputs": [
    {
     "data": {
      "text/plain": [
       "0.1876041714892801"
      ]
     },
     "execution_count": 77,
     "metadata": {},
     "output_type": "execute_result"
    }
   ],
   "source": [
    "binomial1[4]"
   ]
  },
  {
   "cell_type": "markdown",
   "id": "c3370758",
   "metadata": {},
   "source": [
    "# 3.2"
   ]
  },
  {
   "cell_type": "code",
   "execution_count": 59,
   "id": "389c5733",
   "metadata": {},
   "outputs": [
    {
     "name": "stdout",
     "output_type": "stream",
     "text": [
      "[10 11 12 13 14]\n",
      "Probabilty of 5 overseas outsourcing companies using a consultant!\n",
      "\n",
      "[0.99998754 0.99999899 0.99999994 1.         1.        ]\n"
     ]
    }
   ],
   "source": [
    "p = 0.20\n",
    "q = 1-p\n",
    "n = 15             \n",
    "k = np.arange(10,15) \n",
    "\n",
    "print(k)\n",
    "\n",
    "binomial2 = binom.cdf(k,n,p)\n",
    "\n",
    "print(\"Probabilty of 5 overseas outsourcing companies using a consultant!\\n\")\n",
    "\n",
    "print(binomial2) #******************************************************"
   ]
  },
  {
   "cell_type": "markdown",
   "id": "18800d1d",
   "metadata": {},
   "source": [
    "# 3.3"
   ]
  },
  {
   "cell_type": "code",
   "execution_count": 63,
   "id": "d1bbda6a",
   "metadata": {},
   "outputs": [
    {
     "name": "stdout",
     "output_type": "stream",
     "text": [
      "[ 0  1  2  3  4  5  6  7  8  9 10 11 12 13 14 15]\n"
     ]
    },
    {
     "data": {
      "text/plain": [
       "3.276799999999989e-11"
      ]
     },
     "execution_count": 63,
     "metadata": {},
     "output_type": "execute_result"
    }
   ],
   "source": [
    "p = 0.20\n",
    "q = 1-p\n",
    "n = 15\n",
    "\n",
    "k = np.arange(0,16)\n",
    "print(k)\n",
    "\n",
    "binomial3 = binom.pmf(k,n,q)\n",
    "binomial3[0]"
   ]
  },
  {
   "cell_type": "markdown",
   "id": "7e5a9beb",
   "metadata": {},
   "source": [
    "# 3.4"
   ]
  },
  {
   "cell_type": "code",
   "execution_count": 84,
   "id": "cd60140f",
   "metadata": {},
   "outputs": [
    {
     "name": "stdout",
     "output_type": "stream",
     "text": [
      "[4 5 6 7]\n",
      "Probabilty of 4 to 7 overseas outsourcing companies using a consultant!\n",
      "\n",
      "[0.83576628 0.93894857 0.98194119 0.99576025]\n"
     ]
    }
   ],
   "source": [
    "p = 0.20\n",
    "q = 1-p\n",
    "n = 15             \n",
    "k = np.arange(4,8) \n",
    "\n",
    "print(k)\n",
    "\n",
    "binomial4 = binom.cdf(k,n,p)\n",
    "\n",
    "print(\"Probabilty of 4 to 7 overseas outsourcing companies using a consultant!\\n\")\n",
    "\n",
    "print(binomial4)\n"
   ]
  },
  {
   "cell_type": "code",
   "execution_count": 85,
   "id": "ef431436",
   "metadata": {},
   "outputs": [
    {
     "data": {
      "text/plain": [
       "0.995760250290176"
      ]
     },
     "execution_count": 85,
     "metadata": {},
     "output_type": "execute_result"
    }
   ],
   "source": [
    "binomial4[3]"
   ]
  },
  {
   "cell_type": "markdown",
   "id": "652077a2",
   "metadata": {},
   "source": [
    "# 3.5 Graphical illustration with summary:"
   ]
  },
  {
   "cell_type": "code",
   "execution_count": 79,
   "id": "85be14ce",
   "metadata": {},
   "outputs": [
    {
     "data": {
      "image/png": "[encoded data removed]",
      "text/plain": [
       "<Figure size 432x288 with 1 Axes>"
      ]
     },
     "metadata": {
      "needs_background": "light"
     },
     "output_type": "display_data"
    }
   ],
   "source": [
    "#3.1\n",
    "\n",
    "plt.plot(k,binomial1, 'o-')\n",
    "plt.title('Binomial')\n",
    "plt.xlabel('')\n",
    "plt.ylabel('Probability')\n",
    "plt.show()"
   ]
  },
  {
   "cell_type": "code",
   "execution_count": 81,
   "id": "2a9c3224",
   "metadata": {},
   "outputs": [
    {
     "data": {
      "image/png": "[encoded data removed]",
      "text/plain": [
       "<Figure size 432x288 with 1 Axes>"
      ]
     },
     "metadata": {
      "needs_background": "light"
     },
     "output_type": "display_data"
    }
   ],
   "source": [
    "#3.2\n",
    "\n",
    "plt.plot(k,binomial2, 'o-')\n",
    "plt.title('Binomial')\n",
    "plt.xlabel('')\n",
    "plt.ylabel('Probability')\n",
    "plt.show()"
   ]
  },
  {
   "cell_type": "code",
   "execution_count": null,
   "id": "5d44c7f2",
   "metadata": {},
   "outputs": [],
   "source": [
    "#3.3"
   ]
  },
  {
   "cell_type": "code",
   "execution_count": 86,
   "id": "349eaa2f",
   "metadata": {},
   "outputs": [
    {
     "data": {
      "image/png": "[encoded data removed]",
      "text/plain": [
       "<Figure size 432x288 with 1 Axes>"
      ]
     },
     "metadata": {
      "needs_background": "light"
     },
     "output_type": "display_data"
    }
   ],
   "source": [
    "#3.4\n",
    "\n",
    "plt.plot(k,binomial4, 'o-')\n",
    "plt.title('Binomial')\n",
    "plt.xlabel('')\n",
    "plt.ylabel('Probability')\n",
    "plt.show()"
   ]
  },
  {
   "cell_type": "markdown",
   "id": "20ac224a",
   "metadata": {},
   "source": [
    "# TASK 4"
   ]
  },
  {
   "cell_type": "markdown",
   "id": "237ae7fe",
   "metadata": {},
   "source": [
    "# 4.1"
   ]
  },
  {
   "cell_type": "markdown",
   "id": "f3492ad3",
   "metadata": {},
   "source": [
    "##### No customer arrival probabilty..."
   ]
  },
  {
   "cell_type": "code",
   "execution_count": 4,
   "id": "7883708a",
   "metadata": {},
   "outputs": [
    {
     "name": "stdout",
     "output_type": "stream",
     "text": [
      "3.5\n"
     ]
    }
   ],
   "source": [
    "#Probabilty of no customers arrival in 5 minutes interval time:\n",
    "\n",
    "t4=3+6+4+6+2+3+1+5+1+0+3+3+1+2+4+0+2+6+5+4+2+5+3+4+5+3+5+3+5+4+7+3+4+8+3+1\n",
    "\n",
    "avg=t4/36\n",
    "\n",
    "print(avg)"
   ]
  },
  {
   "cell_type": "code",
   "execution_count": 12,
   "id": "141d183a",
   "metadata": {},
   "outputs": [
    {
     "name": "stdout",
     "output_type": "stream",
     "text": [
      "[0.03019738 0.10569084 0.18495897]\n",
      "Customer arrival prospect: 0.0301973834223185\n"
     ]
    }
   ],
   "source": [
    "rate=3.5\n",
    "n=np.arange(0,3)\n",
    "t4a=poisson.pmf(n,rate)\n",
    "\n",
    "print(t4a)\n",
    "print('Customer arrival prospect:',t4a[0] )"
   ]
  },
  {
   "cell_type": "markdown",
   "id": "6c525868",
   "metadata": {},
   "source": [
    "# 4.2"
   ]
  },
  {
   "cell_type": "markdown",
   "id": "bef3f098",
   "metadata": {},
   "source": [
    "##### Customer interval for 10 minutes and fewer than 4 minutes..."
   ]
  },
  {
   "cell_type": "code",
   "execution_count": 19,
   "id": "b195cb51",
   "metadata": {},
   "outputs": [
    {
     "name": "stdout",
     "output_type": "stream",
     "text": [
      "[7.70983499e-02 3.85491749e-02 1.68652640e-02 6.55871379e-03\n",
      " 2.29554983e-03 7.30402218e-04 2.13033980e-04 5.73553024e-05\n",
      " 1.43388256e-05 3.34572597e-06 7.31877556e-07 1.50680673e-07\n",
      " 2.92990198e-08 5.39718786e-09]\n",
      "Customer arrival possibilty for more than 6 times: 0.14238644577279547\n"
     ]
    }
   ],
   "source": [
    "rate=3.5\n",
    "n=np.arange(6,20)\n",
    "T4B=poisson.pmf(n,rate)\n",
    "\n",
    "print(T4B)\n",
    "\n",
    "sum4=0\n",
    "for i in T4B:\n",
    "    sum4=sum4+i\n",
    "    \n",
    "print('Customer arrival possibilty for more than 6 times:',sum4)"
   ]
  },
  {
   "cell_type": "markdown",
   "id": "87e7d51c",
   "metadata": {},
   "source": [
    "# 4.3"
   ]
  },
  {
   "cell_type": "code",
   "execution_count": 23,
   "id": "da72cc8a",
   "metadata": {},
   "outputs": [
    {
     "data": {
      "text/plain": [
       "array([0.00091188, 0.00638317, 0.02234111, 0.05212925])"
      ]
     },
     "execution_count": 23,
     "metadata": {},
     "output_type": "execute_result"
    }
   ],
   "source": [
    "rate=3.5*2\n",
    "n=np.arange(0,4)\n",
    "t4c=poisson.pmf(n,rate)\n",
    "t4c"
   ]
  },
  {
   "cell_type": "code",
   "execution_count": 24,
   "id": "a0002f94",
   "metadata": {},
   "outputs": [
    {
     "name": "stdout",
     "output_type": "stream",
     "text": [
      "Probability of customers less than 4 is: [0.00091188 0.00638317 0.02234111 0.05212925]\n"
     ]
    }
   ],
   "source": [
    "sum4=0\n",
    "\n",
    "for i in  t4c:\n",
    "    sum4=sum4+i\n",
    "print('Probability of customers less than 4 is:',t4c)"
   ]
  },
  {
   "cell_type": "markdown",
   "id": "2f6613aa",
   "metadata": {},
   "source": [
    "# 4.4"
   ]
  },
  {
   "cell_type": "code",
   "execution_count": 27,
   "id": "1f4e66aa",
   "metadata": {},
   "outputs": [
    {
     "name": "stdout",
     "output_type": "stream",
     "text": [
      "[0.05212925 0.09122619 0.12771667 0.14900278]\n",
      "Customer probability between 3 to 6 is: 0.42007489196817666\n"
     ]
    }
   ],
   "source": [
    "rate=3.5*2\n",
    "n=np.arange(3,7)\n",
    "t4d=poisson.pmf(n,rate)\n",
    "print(t4d)\n",
    "\n",
    "t4d_sum=0\n",
    "\n",
    "for i in t4d:\n",
    "    t4d_sum=t4d_sum+i\n",
    "print('Customer probability between 3 to 6 is:',t4d_sum)"
   ]
  },
  {
   "cell_type": "markdown",
   "id": "82310715",
   "metadata": {},
   "source": [
    "# 4.5"
   ]
  },
  {
   "cell_type": "code",
   "execution_count": 28,
   "id": "b80e84d8",
   "metadata": {},
   "outputs": [
    {
     "data": {
      "text/plain": [
       "array([2.75364493e-05, 2.89132718e-04, 1.51794677e-03, 5.31281370e-03,\n",
       "       1.39461360e-02, 2.92868855e-02, 5.12520496e-02, 7.68780744e-02,\n",
       "       1.00902473e-01, 1.17719551e-01])"
      ]
     },
     "execution_count": 28,
     "metadata": {},
     "output_type": "execute_result"
    }
   ],
   "source": [
    "rate=10.5\n",
    "n=np.arange(0,10)\n",
    "t4e=poisson.pmf(n,rate)\n",
    "t4e"
   ]
  },
  {
   "cell_type": "code",
   "execution_count": 29,
   "id": "75944afe",
   "metadata": {},
   "outputs": [
    {
     "name": "stdout",
     "output_type": "stream",
     "text": [
      "probability of exactly 8 customer is: 0.10090247270437917\n"
     ]
    }
   ],
   "source": [
    "print('probability of exactly 8 customer is:',t4e[8])"
   ]
  },
  {
   "cell_type": "code",
   "execution_count": 53,
   "id": "4c09a84f",
   "metadata": {},
   "outputs": [
    {
     "data": {
      "text/plain": [
       "Text(0, 0.5, 'POSSIBILITY')"
      ]
     },
     "execution_count": 53,
     "metadata": {},
     "output_type": "execute_result"
    },
    {
     "data": {
      "image/png": "[encoded data removed]",
      "text/plain": [
       "<Figure size 432x288 with 1 Axes>"
      ]
     },
     "metadata": {
      "needs_background": "light"
     },
     "output_type": "display_data"
    }
   ],
   "source": [
    "plt.plot(T4B,'.-',label=\"5'minutes interval\")\n",
    "plt.plot(t4c,'.-',label=\"10'minutes interval\")\n",
    "plt.plot(t4e,'.-',label=\"15'minutes interval\")\n",
    "plt.legend()\n",
    "plt.title('POISSON DISTRIBUTION PLOT')\n",
    "plt.xlabel('NUMBER OF CUSTOMER ARRIVALS')\n",
    "plt.ylabel('POSSIBILITY')"
   ]
  },
  {
   "cell_type": "markdown",
   "id": "c91e2d33",
   "metadata": {},
   "source": [
    "# TASK 5"
   ]
  },
  {
   "cell_type": "markdown",
   "id": "1e6a2bf3",
   "metadata": {},
   "source": [
    "##### 5.1 "
   ]
  },
  {
   "cell_type": "code",
   "execution_count": 44,
   "id": "07f4aedc",
   "metadata": {},
   "outputs": [
    {
     "data": {
      "text/plain": [
       "0.5781048646705196"
      ]
     },
     "execution_count": 44,
     "metadata": {},
     "output_type": "execute_result"
    }
   ],
   "source": [
    "rate=0.548   #given...\n",
    "n1=np.arange(0,6)\n",
    "t5a=poisson.pmf(n1,rate)\n",
    "t5a[0]"
   ]
  },
  {
   "cell_type": "markdown",
   "id": "18454831",
   "metadata": {},
   "source": [
    "##### 5.2 Probable One..."
   ]
  },
  {
   "cell_type": "code",
   "execution_count": 43,
   "id": "c67eb689",
   "metadata": {},
   "outputs": [
    {
     "data": {
      "text/plain": [
       "0.3168014658394448"
      ]
     },
     "execution_count": 43,
     "metadata": {},
     "output_type": "execute_result"
    }
   ],
   "source": [
    "rate=0.548\n",
    "n2=np.arange(0,10)\n",
    "t5b=poisson.pmf(n2,rate)\n",
    "t5b[1]"
   ]
  },
  {
   "cell_type": "markdown",
   "id": "68bce094",
   "metadata": {},
   "source": [
    "##### 5.3 Trips two or more than two..."
   ]
  },
  {
   "cell_type": "code",
   "execution_count": 45,
   "id": "84355a96",
   "metadata": {},
   "outputs": [
    {
     "name": "stdout",
     "output_type": "stream",
     "text": [
      "probability of taking two or more trips are  0.10509366949003565\n"
     ]
    }
   ],
   "source": [
    "rate=0.548\n",
    "n3=np.arange(2,20)\n",
    "t5c=poisson.pmf(n3,rate)\n",
    "\n",
    "t5c_sum=0\n",
    "for i in t5c:\n",
    "    t5c_sum=t5c_sum+i\n",
    "print('probability of taking two or more trips are ' ,t5c_sum)"
   ]
  },
  {
   "cell_type": "markdown",
   "id": "38754710",
   "metadata": {},
   "source": [
    "##### 5.4 Trips three or less than three in last year..."
   ]
  },
  {
   "cell_type": "code",
   "execution_count": 46,
   "id": "977a91cb",
   "metadata": {},
   "outputs": [
    {
     "name": "stdout",
     "output_type": "stream",
     "text": [
      "0.9150061543125836\n"
     ]
    }
   ],
   "source": [
    "rate=0.548*3\n",
    "\n",
    "n4=np.arange(0,4)\n",
    "t5d=poisson.pmf(n4,rate)\n",
    "t5d\n",
    "\n",
    "t5d_sum=0\n",
    "\n",
    "for i in t5d:\n",
    "    t5d_sum=t5d_sum+i\n",
    "print(t5d_sum)"
   ]
  },
  {
   "cell_type": "code",
   "execution_count": 47,
   "id": "3e0632dc",
   "metadata": {},
   "outputs": [
    {
     "name": "stdout",
     "output_type": "stream",
     "text": [
      "Families which gone for trips less than 4 times =  0.9150061543125836\n"
     ]
    }
   ],
   "source": [
    "print('Families which gone for trips less than 4 times = ' , t5d_sum)"
   ]
  },
  {
   "cell_type": "markdown",
   "id": "46db5793",
   "metadata": {},
   "source": [
    "##### 5.5 Four trips in last six years..."
   ]
  },
  {
   "cell_type": "code",
   "execution_count": 49,
   "id": "8fc0e7c1",
   "metadata": {},
   "outputs": [
    {
     "data": {
      "text/plain": [
       "0.1817840342372797"
      ]
     },
     "execution_count": 49,
     "metadata": {},
     "output_type": "execute_result"
    }
   ],
   "source": [
    "rate=0.548*6\n",
    "n5=np.arange(0,10)\n",
    "t5e=poisson.pmf(n5,rate)\n",
    "t5e[4]"
   ]
  },
  {
   "cell_type": "markdown",
   "id": "e39b64fd",
   "metadata": {},
   "source": [
    "##### 5.6 Graphical Illustration..."
   ]
  },
  {
   "cell_type": "code",
   "execution_count": 56,
   "id": "312d5c66",
   "metadata": {},
   "outputs": [
    {
     "data": {
      "text/plain": [
       "Text(0, 0.5, 'POSSIBILITY')"
      ]
     },
     "execution_count": 56,
     "metadata": {},
     "output_type": "execute_result"
    },
    {
     "data": {
      "image/png": "[encoded data removed]",
      "text/plain": [
       "<Figure size 432x288 with 1 Axes>"
      ]
     },
     "metadata": {
      "needs_background": "light"
     },
     "output_type": "display_data"
    }
   ],
   "source": [
    "plt.plot(t5b,'.-',label='For 1 year')\n",
    "plt.plot(t5d,'.-',label='For 3 years')\n",
    "plt.plot(t5e,'.-',label='For 6 years')\n",
    "\n",
    "plt.legend()\n",
    "\n",
    "plt.title('POISSON DISTRIBUTION PLOT')\n",
    "plt.xlabel('NUMBER OF TRIPS')\n",
    "plt.ylabel('POSSIBILITY')"
   ]
  },
  {
   "cell_type": "markdown",
   "id": "eac5f3cf",
   "metadata": {},
   "source": [
    ".........................................................................................................................................................................................................."
   ]
  }
 ],
 "metadata": {
  "kernelspec": {
   "display_name": "Python 3 (ipykernel)",
   "language": "python",
   "name": "python3"
  },
  "language_info": {
   "codemirror_mode": {
    "name": "ipython",
    "version": 3
   },
   "file_extension": ".py",
   "mimetype": "text/x-python",
   "name": "python",
   "nbconvert_exporter": "python",
   "pygments_lexer": "ipython3",
   "version": "3.10.2"
  }
 },
 "nbformat": 4,
 "nbformat_minor": 5
}
