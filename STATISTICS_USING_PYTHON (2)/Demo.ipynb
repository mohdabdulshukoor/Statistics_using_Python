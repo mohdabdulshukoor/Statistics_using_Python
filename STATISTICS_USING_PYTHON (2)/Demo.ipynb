{
 "cells": [
  {
   "cell_type": "code",
   "execution_count": 44,
   "id": "00a4d4ff",
   "metadata": {},
   "outputs": [
    {
     "name": "stdout",
     "output_type": "stream",
     "text": [
      "[0 1 2 3]\n"
     ]
    }
   ],
   "source": [
    "import numpy as np\n",
    "# prob of success\n",
    "p = 0.869 \n",
    "# prob of failuare\n",
    "q = 1-p\n",
    "\n",
    "n = 3\n",
    "\n",
    "k = np.arange(0,4)\n",
    "\n",
    "print(k)"
   ]
  },
  {
   "cell_type": "code",
   "execution_count": 35,
   "id": "83e08fbd",
   "metadata": {},
   "outputs": [
    {
     "name": "stdout",
     "output_type": "stream",
     "text": [
      "zero success one success two success three success\n",
      "[0.00224809 0.04473873 0.29677827 0.65623491]\n",
      "3 error 2 error 1 error 0 error\n"
     ]
    }
   ],
   "source": [
    "from scipy.stats import binom\n",
    "\n",
    "binomial_with_p = binom.pmf(k,n,p)\n",
    "\n",
    "print(\"zero success one success two success three success\")\n",
    "\n",
    "print(binomial_with_p)\n",
    "print(\"3 error 2 error 1 error 0 error\")"
   ]
  },
  {
   "cell_type": "code",
   "execution_count": 36,
   "id": "70a4ca0d",
   "metadata": {},
   "outputs": [
    {
     "name": "stdout",
     "output_type": "stream",
     "text": [
      "zero error one error two error three error\n",
      "[0.65623491 0.29677827 0.04473873 0.00224809]\n",
      "3 success 2 success 1 success 0 success\n"
     ]
    }
   ],
   "source": [
    "binomial_with_q = binom.pmf(k,n,q)\n",
    "\n",
    "print(\"zero error one error two error three error\")\n",
    "\n",
    "print(binomial_with_q)\n",
    "print(\"3 success 2 success 1 success 0 success\")\n"
   ]
  },
  {
   "cell_type": "code",
   "execution_count": 22,
   "id": "d94fbdfe",
   "metadata": {},
   "outputs": [
    {
     "data": {
      "text/plain": [
       "0.656234909"
      ]
     },
     "execution_count": 22,
     "metadata": {},
     "output_type": "execute_result"
    }
   ],
   "source": [
    "binomial_test_q= binom.pmf(0,n,q)\n",
    "binomial_test_q"
   ]
  },
  {
   "cell_type": "code",
   "execution_count": 50,
   "id": "fb19cadb",
   "metadata": {},
   "outputs": [
    {
     "data": {
      "text/plain": [
       "0.0022480910000000002"
      ]
     },
     "execution_count": 50,
     "metadata": {},
     "output_type": "execute_result"
    }
   ],
   "source": [
    "binomial_test_p= binom.pmf(0,n,p)\n",
    "binomial_test_p"
   ]
  },
  {
   "cell_type": "code",
   "execution_count": 52,
   "id": "c6fc286f",
   "metadata": {},
   "outputs": [
    {
     "name": "stdout",
     "output_type": "stream",
     "text": [
      "All the three orders are filled correctly? is 0.6562\n",
      "None of the three orders are filled incorrectly? is 0.0022\n"
     ]
    }
   ],
   "source": [
    "# All three orders are filled correctly\n",
    "print('All the three orders are filled correctly? is %1.4f' %binomial_with_q[0])\n",
    "\n",
    "# None of the three orders are filled correctly\n",
    "print('None of the three orders are filled incorrectly? is %1.4f' %binomial_with_q[3])\n",
    "\n"
   ]
  },
  {
   "cell_type": "code",
   "execution_count": 53,
   "id": "77668ed9",
   "metadata": {},
   "outputs": [
    {
     "name": "stdout",
     "output_type": "stream",
     "text": [
      "At most 0 correct at most 1 correct at most 2 correct at most 3 correct\n",
      "[0.0022480910000000002, 0.04698681800000001, 0.34376509099999997, 1.0]\n",
      "At most two of the three orders are filled correctly ? is 0.3438\n"
     ]
    }
   ],
   "source": [
    "# At most two of the three orders will be filled correctly\n",
    "# at most 2 means maximum will be 2 minimum can be 0 or 1\n",
    "cumbinomial = list(binom.cdf(k,n,p))\n",
    "\n",
    "print(\"At most 0 correct at most 1 correct at most 2 correct at most 3 correct\")\n",
    "\n",
    "print(cumbinomial)\n",
    "\n",
    "print('At most two of the three orders are filled correctly ? is %1.4f' % cumbinomial[2])"
   ]
  },
  {
   "cell_type": "code",
   "execution_count": 58,
   "id": "e53a2ac5",
   "metadata": {},
   "outputs": [
    {
     "data": {
      "text/plain": [
       "[0.656234909, 0.953013182, 0.997751909, 1.0]"
      ]
     },
     "execution_count": 58,
     "metadata": {},
     "output_type": "execute_result"
    }
   ],
   "source": [
    "cumbinomial = list(binom.cdf(k,n,q))\n",
    "cumbinomial"
   ]
  },
  {
   "cell_type": "code",
   "execution_count": 29,
   "id": "5d8cbc6f",
   "metadata": {},
   "outputs": [
    {
     "data": {
      "text/plain": [
       "0.3437650910000001"
      ]
     },
     "execution_count": 29,
     "metadata": {},
     "output_type": "execute_result"
    }
   ],
   "source": [
    "binomial_with_p[0]+binomial_with_p[1]+binomial_with_p[2]"
   ]
  },
  {
   "cell_type": "code",
   "execution_count": 39,
   "id": "2fd0378e",
   "metadata": {},
   "outputs": [
    {
     "data": {
      "text/plain": [
       "0.9530131820000001"
      ]
     },
     "execution_count": 39,
     "metadata": {},
     "output_type": "execute_result"
    }
   ],
   "source": [
    "# At least two of three orders are filled correctly?\n",
    "# minimun is 2 maximum can be 3\n",
    "binomial_with_p[2]+binomial_with_p[3]"
   ]
  },
  {
   "cell_type": "code",
   "execution_count": 55,
   "id": "1e606c47",
   "metadata": {},
   "outputs": [
    {
     "data": {
      "text/plain": [
       "0.953013182"
      ]
     },
     "execution_count": 55,
     "metadata": {},
     "output_type": "execute_result"
    }
   ],
   "source": [
    "1-cumbinomial[2-1]"
   ]
  },
  {
   "cell_type": "code",
   "execution_count": 56,
   "id": "1ff1cc81",
   "metadata": {},
   "outputs": [
    {
     "data": {
      "text/plain": [
       "[0.0022480910000000002, 0.04698681800000001, 0.34376509099999997, 1.0]"
      ]
     },
     "execution_count": 56,
     "metadata": {},
     "output_type": "execute_result"
    }
   ],
   "source": [
    "cumbinomial"
   ]
  },
  {
   "cell_type": "code",
   "execution_count": null,
   "id": "21cbb405",
   "metadata": {},
   "outputs": [],
   "source": []
  },
  {
   "cell_type": "code",
   "execution_count": null,
   "id": "89e863bf",
   "metadata": {},
   "outputs": [],
   "source": []
  }
 ],
 "metadata": {
  "kernelspec": {
   "display_name": "Python 3 (ipykernel)",
   "language": "python",
   "name": "python3"
  },
  "language_info": {
   "codemirror_mode": {
    "name": "ipython",
    "version": 3
   },
   "file_extension": ".py",
   "mimetype": "text/x-python",
   "name": "python",
   "nbconvert_exporter": "python",
   "pygments_lexer": "ipython3",
   "version": "3.9.7"
  }
 },
 "nbformat": 4,
 "nbformat_minor": 5
}
