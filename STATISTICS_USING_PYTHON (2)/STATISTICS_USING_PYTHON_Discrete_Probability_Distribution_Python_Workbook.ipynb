{
 "cells": [
  {
   "cell_type": "markdown",
   "metadata": {},
   "source": [
    "# Discrete Probability Distribution"
   ]
  },
  {
   "cell_type": "markdown",
   "metadata": {},
   "source": [
    "## Concept Session"
   ]
  },
  {
   "cell_type": "markdown",
   "metadata": {},
   "source": [
    "## Demo - 4.1: Discrete Probability Distribution"
   ]
  },
  {
   "cell_type": "markdown",
   "metadata": {},
   "source": [
    "### Construct the probability distribution of X"
   ]
  },
  {
   "cell_type": "code",
   "execution_count": 21,
   "metadata": {},
   "outputs": [],
   "source": [
    "import matplotlib.pyplot as plt\n",
    "import seaborn as sns\n",
    "import numpy as np\n",
    "from scipy.stats import poisson"
   ]
  },
  {
   "cell_type": "code",
   "execution_count": 2,
   "metadata": {},
   "outputs": [
    {
     "name": "stdout",
     "output_type": "stream",
     "text": [
      "[2, 3, 4, 5, 6, 7, 8, 9, 10, 11, 12]\n",
      "[0.027777777777777776, 0.05555555555555555, 0.08333333333333333, 0.1111111111111111, 0.1388888888888889, 0.16666666666666666, 0.1388888888888889, 0.1111111111111111, 0.08333333333333333, 0.05555555555555555, 0.027777777777777776]\n"
     ]
    },
    {
     "name": "stderr",
     "output_type": "stream",
     "text": [
      "C:\\Users\\ADMIN\\AppData\\Local\\Programs\\Python\\Python310\\lib\\site-packages\\seaborn\\_decorators.py:36: FutureWarning: Pass the following variables as keyword args: x, y. From version 0.12, the only valid positional argument will be `data`, and passing other arguments without an explicit keyword will result in an error or misinterpretation.\n",
      "  warnings.warn(\n"
     ]
    },
    {
     "data": {
      "image/png": "[encoded data removed]",
      "text/plain": [
       "<Figure size 432x288 with 1 Axes>"
      ]
     },
     "metadata": {
      "needs_background": "light"
     },
     "output_type": "display_data"
    }
   ],
   "source": [
    "X=[2,3,4,5,6,7,8,9,10,11,12]\n",
    "P_X=[1/36,2/36,3/36,4/36,5/36,6/36,5/36,4/36,3/36,2/36,1/36]\n",
    "\n",
    "print(X)\n",
    "print(P_X)\n",
    "\n",
    "sns.barplot(X,P_X)\n",
    "plt.title(\"Discrete Probability Distribution for Fair 6-Sided Dice rolls\")\n",
    "plt.ylabel(\"Probability\")\n",
    "plt.xlabel(\"Outcome\")\n",
    "plt.show()"
   ]
  },
  {
   "cell_type": "markdown",
   "metadata": {},
   "source": [
    "### Calculate the expected value, the variance and the standard deviation of rolling dices"
   ]
  },
  {
   "cell_type": "code",
   "execution_count": 4,
   "metadata": {},
   "outputs": [
    {
     "name": "stdout",
     "output_type": "stream",
     "text": [
      "Expected Value= 6.999999999999999\n"
     ]
    }
   ],
   "source": [
    "mean=0\n",
    "for x,p in zip(X,P_X):\n",
    "    mean=mean+x*p\n",
    "print(\"Expected Value= \"+str(mean))"
   ]
  },
  {
   "cell_type": "code",
   "execution_count": 5,
   "metadata": {},
   "outputs": [
    {
     "name": "stdout",
     "output_type": "stream",
     "text": [
      "Variance= 5.833333333333334\n"
     ]
    }
   ],
   "source": [
    "var=0\n",
    "for x,p in zip(X,P_X):\n",
    "    var=var+((x-mean)**2)*p\n",
    "print(\"Variance= \"+str(var))"
   ]
  },
  {
   "cell_type": "code",
   "execution_count": 7,
   "metadata": {},
   "outputs": [
    {
     "name": "stdout",
     "output_type": "stream",
     "text": [
      "2.41522945769824\n"
     ]
    }
   ],
   "source": [
    "import math\n",
    "sd=math.sqrt(var)\n",
    "print(sd)"
   ]
  },
  {
   "cell_type": "markdown",
   "metadata": {},
   "source": [
    "## Demo - 4.2: Binomial Distribution"
   ]
  },
  {
   "cell_type": "code",
   "execution_count": 9,
   "metadata": {},
   "outputs": [
    {
     "name": "stdout",
     "output_type": "stream",
     "text": [
      "[0 1 2 3]\n"
     ]
    }
   ],
   "source": [
    "p = 0.869\n",
    "q = 1-p      # PROBABILITY OF FAILURE\n",
    "n = 3\n",
    "k = np.arange(0,4)   # SHOULD BE IN RANGE  \n",
    "print(k)"
   ]
  },
  {
   "cell_type": "code",
   "execution_count": 10,
   "metadata": {},
   "outputs": [
    {
     "name": "stdout",
     "output_type": "stream",
     "text": [
      "zero error one error two errors three errors\n",
      "[0.65623491 0.29677827 0.04473873 0.00224809]\n"
     ]
    }
   ],
   "source": [
    "from scipy.stats import binom\n",
    "\n",
    "binomial = binom.pmf(k,n,q)\n",
    "\n",
    "print(\"zero error one error two errors three errors\")\n",
    "print(binomial)"
   ]
  },
  {
   "cell_type": "markdown",
   "metadata": {},
   "source": [
    "### All three orders are filled correctly"
   ]
  },
  {
   "cell_type": "code",
   "execution_count": 11,
   "metadata": {},
   "outputs": [
    {
     "name": "stdout",
     "output_type": "stream",
     "text": [
      "All the three orders are filled correctly? is 0.6562\n"
     ]
    }
   ],
   "source": [
    "print('All the three orders are filled correctly? is %1.4f' %binomial[0])"
   ]
  },
  {
   "cell_type": "markdown",
   "metadata": {},
   "source": [
    "### None of the three orders are filled correctly"
   ]
  },
  {
   "cell_type": "code",
   "execution_count": 12,
   "metadata": {},
   "outputs": [
    {
     "name": "stdout",
     "output_type": "stream",
     "text": [
      "None of the three orders are filled incorrectly? is 0.0022\n"
     ]
    }
   ],
   "source": [
    "print('None of the three orders are filled incorrectly? is %1.4f' %binomial[3])"
   ]
  },
  {
   "cell_type": "markdown",
   "metadata": {},
   "source": [
    "### At least two of the three orders will be filled correctly"
   ]
  },
  {
   "cell_type": "code",
   "execution_count": 13,
   "metadata": {},
   "outputs": [
    {
     "name": "stdout",
     "output_type": "stream",
     "text": [
      "At least 0 correct at least 1 correct at least 2 correct at least 3 correct\n",
      "[0.0022480910000000002, 0.04698681800000001, 0.34376509099999997, 1.0]\n",
      "At least two of the three orders are filled correctly ? is 0.3438\n"
     ]
    }
   ],
   "source": [
    "cumbinomial = list(binom.cdf(k,n,p))  #CUMULATIVE DISTRIBUTION FUNCTION\n",
    "\n",
    "print(\"At least 0 correct at least 1 correct at least 2 correct at least 3 correct\")\n",
    "\n",
    "print(cumbinomial)\n",
    "\n",
    "print('At least two of the three orders are filled correctly ? is %1.4f' % cumbinomial[2]) #the statement is wrong somewhere!!!"
   ]
  },
  {
   "cell_type": "markdown",
   "metadata": {},
   "source": [
    "### Calculate the mean and standard deviation of the orders filled correctly"
   ]
  },
  {
   "cell_type": "code",
   "execution_count": 18,
   "metadata": {},
   "outputs": [
    {
     "name": "stdout",
     "output_type": "stream",
     "text": [
      "Mean and Standard Deviation of the orders filled correctly are 2.6070 and 0.5844 respectively\n"
     ]
    }
   ],
   "source": [
    "p = 0.869\n",
    "n = 3\n",
    "\n",
    "mean = n*p # = 3 0.869\n",
    "\n",
    "sd = np.sqrt(n*p*(1 - p))\n",
    "\n",
    "print('Mean and Standard Deviation of the orders filled correctly are %1.4f and %1.4f respectively' % (mean, sd))"
   ]
  },
  {
   "cell_type": "markdown",
   "metadata": {},
   "source": [
    "### Plot the binomial distribution function"
   ]
  },
  {
   "cell_type": "code",
   "execution_count": 19,
   "metadata": {},
   "outputs": [
    {
     "data": {
      "image/png": "[encoded data removed]",
      "text/plain": [
       "<Figure size 432x288 with 1 Axes>"
      ]
     },
     "metadata": {
      "needs_background": "light"
     },
     "output_type": "display_data"
    }
   ],
   "source": [
    "plt.plot(k,binomial, 'o-')\n",
    "plt.title('Binomial')\n",
    "plt.xlabel('Number of Orders filled in a wrong way')\n",
    "plt.ylabel('Prob of Orders filled in a wrong way')\n",
    "plt.show()"
   ]
  },
  {
   "cell_type": "markdown",
   "metadata": {},
   "source": [
    "### Plot the binomial distribution for 30 orders placed in Wendy's"
   ]
  },
  {
   "cell_type": "code",
   "execution_count": 20,
   "metadata": {},
   "outputs": [
    {
     "data": {
      "image/png": "[encoded data removed]",
      "text/plain": [
       "<Figure size 432x288 with 1 Axes>"
      ]
     },
     "metadata": {
      "needs_background": "light"
     },
     "output_type": "display_data"
    }
   ],
   "source": [
    "n = 30\n",
    "p = 0.869\n",
    "q = 1-p\n",
    "k = np.arange(0,31)\n",
    "\n",
    "binomial = binom.pmf(k,n,q)\n",
    "plt.plot(k,binomial, 'o-')\n",
    "plt.title('Binomial')\n",
    "plt.xlabel('Number of Orders filled in a wrong way')\n",
    "plt.ylabel('Prob of Orders filled in a wrong way')\n",
    "plt.show()"
   ]
  },
  {
   "cell_type": "markdown",
   "metadata": {},
   "source": [
    "## Demo – 4.3: Poisson Distribution"
   ]
  },
  {
   "cell_type": "code",
   "execution_count": 22,
   "metadata": {},
   "outputs": [
    {
     "name": "stdout",
     "output_type": "stream",
     "text": [
      "[0 1 2 3 4 5]\n",
      "[0.0407622  0.13043905 0.20870248 0.22261598 0.17809279 0.11397938]\n",
      "Probability of exactly 5 customers are arriving in a 4-minute interval on a weekday afternoon is 0.1140\n"
     ]
    }
   ],
   "source": [
    "rate = 3.2\n",
    "\n",
    "n = np.arange(0,6)\n",
    "\n",
    "print(n)\n",
    "\n",
    "poisson_data = poisson.pmf(n,rate)\n",
    "\n",
    "print(poisson_data)\n",
    "\n",
    "print('Probability of exactly 5 customers are arriving in a 4-minute interval on a weekday afternoon is %1.4f' % poisson_data[-1])"
   ]
  },
  {
   "cell_type": "markdown",
   "metadata": {},
   "source": [
    "### Plot the Poisson distribution function"
   ]
  },
  {
   "cell_type": "code",
   "execution_count": 23,
   "metadata": {},
   "outputs": [
    {
     "ename": "IndentationError",
     "evalue": "expected an indented block after 'for' statement on line 12 (4132867794.py, line 13)",
     "output_type": "error",
     "traceback": [
      "\u001b[1;36m  Input \u001b[1;32mIn [23]\u001b[1;36m\u001b[0m\n\u001b[1;33m    sum_p=sum_p+i\u001b[0m\n\u001b[1;37m    ^\u001b[0m\n\u001b[1;31mIndentationError\u001b[0m\u001b[1;31m:\u001b[0m expected an indented block after 'for' statement on line 12\n"
     ]
    }
   ],
   "source": [
    "plt.plot(n,poisson_data, 'o-')\n",
    "plt.title('Poisson')\n",
    "plt.xlabel('Number of Customers arrive')\n",
    "plt.ylabel('Prob of Customers arrive')\n",
    "plt.show()\n",
    "from scipy.stats import poisson\n",
    "rate = 3.2\n",
    "n = np.arange(8,20)\n",
    "print(n)\n",
    "poisson_data = poisson.pmf(n,rate)\n",
    "sum_p=0\n",
    "for i in poisson_data:\n",
    "sum_p=sum_p+i\n",
    "print('Probability of of having more than 7 customers in a 4-minute interval on a weekday afternoon is %1.4f' % sum_p)\n",
    "plt.plot(n,poisson_data, 'o-')\n",
    "plt.title('Poisson')\n",
    "plt.xlabel('Number of Customers arrive')\n",
    "plt.ylabel('Prob of Customers arrive')\n",
    "plt.show()\n",
    "rate = 6.4\n",
    "n = np.arange(0,11)\n",
    "print(n)\n",
    "poisson_data = poisson.pmf(n,rate)\n",
    "print(poisson_data)\n",
    "print('Probability of exactly 10 customers are arriving in a 8-minute interval on a weekday afternoon is %1.4f' % poisson_data[-1])\n",
    "plt.plot(n,poisson_data, 'o-')\n",
    "plt.title('Poisson')\n",
    "plt.xlabel('Number of Customers arrive')\n",
    "plt.ylabel('Prob of Customers arrive')\n",
    "plt.show()"
   ]
  },
  {
   "cell_type": "code",
   "execution_count": 29,
   "metadata": {},
   "outputs": [
    {
     "name": "stdout",
     "output_type": "stream",
     "text": [
      "[ 0  1  2  3  4  5  6  7  8  9 10 11 12 13 14 15 16 17 18 19 20 21 22 23\n",
      " 24]\n"
     ]
    }
   ],
   "source": [
    "\n",
    "\n",
    "n1 = np.arange(0,25)\n",
    "print(n1)"
   ]
  },
  {
   "cell_type": "code",
   "execution_count": 30,
   "metadata": {},
   "outputs": [],
   "source": [
    "from scipy.stats import poisson"
   ]
  },
  {
   "cell_type": "code",
   "execution_count": 31,
   "metadata": {},
   "outputs": [
    {
     "name": "stdout",
     "output_type": "stream",
     "text": [
      "[4.07622040e-02 1.30439053e-01 2.08702484e-01 2.22615983e-01\n",
      " 1.78092787e-01 1.13979383e-01 6.07890045e-02 2.77892592e-02\n",
      " 1.11157037e-02 3.95225020e-03 1.26472006e-03 3.67918564e-04\n",
      " 9.81116170e-05 2.41505519e-05 5.52012615e-06 1.17762691e-06\n",
      " 2.35525382e-07 4.43341896e-08 7.88163371e-09 1.32743305e-09\n",
      " 2.12389287e-10 3.23640819e-11 4.70750282e-12 6.54956914e-13\n",
      " 8.73275885e-14]\n"
     ]
    }
   ],
   "source": [
    "avg = 3.2\n",
    "poissonprob=poisson.pmf(n1,avg)\n",
    "print(poissonprob)"
   ]
  },
  {
   "cell_type": "code",
   "execution_count": null,
   "metadata": {},
   "outputs": [],
   "source": [
    "plt.plot(m1,poissonprob)"
   ]
  }
 ],
 "metadata": {
  "kernelspec": {
   "display_name": "Python 3 (ipykernel)",
   "language": "python",
   "name": "python3"
  },
  "language_info": {
   "codemirror_mode": {
    "name": "ipython",
    "version": 3
   },
   "file_extension": ".py",
   "mimetype": "text/x-python",
   "name": "python",
   "nbconvert_exporter": "python",
   "pygments_lexer": "ipython3",
   "version": "3.10.2"
  }
 },
 "nbformat": 4,
 "nbformat_minor": 2
}
