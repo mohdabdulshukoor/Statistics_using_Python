{
 "cells": [
  {
   "cell_type": "code",
   "execution_count": 2,
   "id": "1487299c",
   "metadata": {},
   "outputs": [],
   "source": [
    "import math\n",
    "import numpy as np\n",
    "import pandas as pd\n",
    "import statistics as st\n",
    "from scipy.stats import norm"
   ]
  },
  {
   "cell_type": "markdown",
   "id": "44225770",
   "metadata": {},
   "source": [
    "# TASK 1"
   ]
  },
  {
   "cell_type": "markdown",
   "id": "d5079326",
   "metadata": {},
   "source": [
    "# 1.1"
   ]
  },
  {
   "cell_type": "markdown",
   "id": "d46ee751",
   "metadata": {
    "collapsed": true
   },
   "source": [
    "Ho: the average rent for a special purpose industrial space is equal to 33.88  \n",
    "Ha: the average rent for a special purpose industrial space is not equal to 33.88\n",
    "\n",
    "Ho: μ = 33.88  \n",
    "Ha: μ != 33.88"
   ]
  },
  {
   "cell_type": "markdown",
   "id": "aba52c59",
   "metadata": {},
   "source": [
    "# 1.2"
   ]
  },
  {
   "cell_type": "code",
   "execution_count": 3,
   "id": "3426595e",
   "metadata": {},
   "outputs": [],
   "source": [
    "p_mean=33.88\n",
    "p_std_=1.28\n",
    "sample_size=49\n",
    "sample_mean=32.18"
   ]
  },
  {
   "cell_type": "markdown",
   "id": "06d1e822",
   "metadata": {},
   "source": [
    "# 1.3 Z-Test:"
   ]
  },
  {
   "cell_type": "code",
   "execution_count": 17,
   "id": "2d5f7f39",
   "metadata": {},
   "outputs": [
    {
     "data": {
      "text/plain": [
       "-9.296875000000016"
      ]
     },
     "execution_count": 17,
     "metadata": {},
     "output_type": "execute_result"
    }
   ],
   "source": [
    "z_statistic=(32.18-33.88)/(1.28/7)\n",
    "z_statistic"
   ]
  },
  {
   "cell_type": "code",
   "execution_count": 18,
   "id": "35341c44",
   "metadata": {},
   "outputs": [
    {
     "data": {
      "text/plain": [
       "1.4463410868771357e-20"
      ]
     },
     "execution_count": 18,
     "metadata": {},
     "output_type": "execute_result"
    }
   ],
   "source": [
    "p_value=norm.sf(abs(h))*2\n",
    "p_value"
   ]
  },
  {
   "cell_type": "code",
   "execution_count": null,
   "id": "998f8018",
   "metadata": {},
   "outputs": [],
   "source": [
    "#now left-side to consider but its two tailed..."
   ]
  },
  {
   "cell_type": "code",
   "execution_count": 20,
   "id": "f783dfac",
   "metadata": {},
   "outputs": [
    {
     "data": {
      "text/plain": [
       "-1.9599639845400545"
      ]
     },
     "execution_count": 20,
     "metadata": {},
     "output_type": "execute_result"
    }
   ],
   "source": [
    "z_critical=norm.ppf(0.025)  #alpha/2\n",
    "z_critical"
   ]
  },
  {
   "cell_type": "markdown",
   "id": "324b41b2",
   "metadata": {},
   "source": [
    "# 1.4"
   ]
  },
  {
   "cell_type": "code",
   "execution_count": 25,
   "id": "52df509c",
   "metadata": {},
   "outputs": [
    {
     "data": {
      "text/plain": [
       "True"
      ]
     },
     "execution_count": 25,
     "metadata": {},
     "output_type": "execute_result"
    }
   ],
   "source": [
    "decision=-1.9599639845400545>z_statistic\n",
    "decision"
   ]
  },
  {
   "cell_type": "markdown",
   "id": "cedcd31e",
   "metadata": {},
   "source": [
    "# 1.5"
   ]
  },
  {
   "cell_type": "code",
   "execution_count": 30,
   "id": "82a1a8b1",
   "metadata": {},
   "outputs": [],
   "source": [
    "tolerance = 0.025"
   ]
  },
  {
   "cell_type": "code",
   "execution_count": 35,
   "id": "8c4993f1",
   "metadata": {},
   "outputs": [
    {
     "name": "stdout",
     "output_type": "stream",
     "text": [
      "As the P_Value is LESS than tolerance then the Null Hypothesis is 'Not Accepted' i.e; 'Rejected'\n"
     ]
    }
   ],
   "source": [
    "if p_value < tolerance:\n",
    "    print(\"As the P_Value is LESS than tolerance then the Null Hypothesis is 'Not Accepted' i.e; 'Rejected'\")\n",
    "else:\n",
    "    print(\"As the P_Value is GREATER than tolerance then the Null Hypothesis is 'Accepted' i.e; 'not Rejected' \")"
   ]
  },
  {
   "cell_type": "markdown",
   "id": "d8824524",
   "metadata": {},
   "source": [
    "Business Decision:\n",
    "\n",
    "Considering the Decision_Rule:    \n",
    "i. If p-value < α/2 : Rejection of Null Hypothesis(H0)  \n",
    "ii. If -z-critical > z-statistic > +z-critical : Rejection of Null Hypothesis(H0)\n",
    "\n",
    "A sample of the average of 49 industrial spaces mean 32.18 for sales across the United States, which comes under confidence level or area or region.\n",
    "\n",
    "By oberserving the P_Value, as a Data Analyst Practioner I would suggest not to accept the Null Hypothesis (status quo) which makes the decision correct."
   ]
  },
  {
   "cell_type": "markdown",
   "id": "3a0231b4",
   "metadata": {},
   "source": [
    "# TASK 2"
   ]
  },
  {
   "cell_type": "markdown",
   "id": "6e971bfe",
   "metadata": {},
   "source": [
    "# 2.1"
   ]
  },
  {
   "cell_type": "markdown",
   "id": "289ce210",
   "metadata": {},
   "source": [
    "Ho: the average distance of javelin thrown by Mac is less than or equal to 85   \n",
    "Ha: the average distance of javelin thrown by Mac is greater than 85 \n",
    "\n",
    "Ho: μ <= 0  \n",
    "Ha: μ > 0"
   ]
  },
  {
   "cell_type": "markdown",
   "id": "c0ce5582",
   "metadata": {},
   "source": [
    "# 2.2"
   ]
  },
  {
   "cell_type": "code",
   "execution_count": 57,
   "id": "35434c5b",
   "metadata": {},
   "outputs": [],
   "source": [
    "p2_mean=85\n",
    "\n",
    "p2_std_=2.1\n",
    "\n",
    "sample_size2=32\n",
    "\n",
    "sample_mean2=87.5"
   ]
  },
  {
   "cell_type": "markdown",
   "id": "856cb7bb",
   "metadata": {},
   "source": [
    "# 2.3 Z-Test:"
   ]
  },
  {
   "cell_type": "code",
   "execution_count": 66,
   "id": "5b42b714",
   "metadata": {},
   "outputs": [
    {
     "data": {
      "text/plain": [
       "6.734350297014738"
      ]
     },
     "execution_count": 66,
     "metadata": {},
     "output_type": "execute_result"
    }
   ],
   "source": [
    "#z-statistic=(x-μ)/(σ/n**2)\n",
    "\n",
    "z_statistic2=(87.5-85)/(2.1/math.sqrt(32))\n",
    "z_statistic2"
   ]
  },
  {
   "cell_type": "code",
   "execution_count": 59,
   "id": "21cf0832",
   "metadata": {},
   "outputs": [
    {
     "data": {
      "text/plain": [
       "8.233201952582752e-12"
      ]
     },
     "execution_count": 59,
     "metadata": {},
     "output_type": "execute_result"
    }
   ],
   "source": [
    "#\n",
    "\n",
    "p_value2=norm.sf(abs(z_statistic2))\n",
    "p_value2"
   ]
  },
  {
   "cell_type": "code",
   "execution_count": 62,
   "id": "386f3562",
   "metadata": {},
   "outputs": [
    {
     "data": {
      "text/plain": [
       "1.6448536269514722"
      ]
     },
     "execution_count": 62,
     "metadata": {},
     "output_type": "execute_result"
    }
   ],
   "source": [
    "#\n",
    "\n",
    "z_critical2=norm.ppf(1-0.05)\n",
    "z_critical2"
   ]
  },
  {
   "cell_type": "markdown",
   "id": "fb12c674",
   "metadata": {},
   "source": [
    "# 2.4"
   ]
  },
  {
   "cell_type": "code",
   "execution_count": 68,
   "id": "58414567",
   "metadata": {},
   "outputs": [
    {
     "data": {
      "text/plain": [
       "True"
      ]
     },
     "execution_count": 68,
     "metadata": {},
     "output_type": "execute_result"
    }
   ],
   "source": [
    "decision2=z_statistic>z_critical2\n",
    "decision2"
   ]
  },
  {
   "cell_type": "markdown",
   "id": "58e3b132",
   "metadata": {},
   "source": [
    "# 2.5"
   ]
  },
  {
   "cell_type": "code",
   "execution_count": 71,
   "id": "39a37a6e",
   "metadata": {},
   "outputs": [],
   "source": [
    "#tolerance = 1-0.05\n",
    "α=0.05"
   ]
  },
  {
   "cell_type": "code",
   "execution_count": 72,
   "id": "5be3e656",
   "metadata": {},
   "outputs": [
    {
     "name": "stdout",
     "output_type": "stream",
     "text": [
      "As the P_Value is LESS than tolerance then the Null Hypothesis is 'Not Accepted' i.e; 'Rejected'\n"
     ]
    }
   ],
   "source": [
    "if p_value < α:\n",
    "    print(\"As the P_Value is LESS than tolerance then the Null Hypothesis is 'Not Accepted' i.e; 'Rejected'\")\n",
    "else:\n",
    "    print(\"As the P_Value is GREATER than tolerance then the Null Hypothesis is 'Accepted' i.e; 'not Rejected' \")"
   ]
  },
  {
   "cell_type": "markdown",
   "id": "8267a9ac",
   "metadata": {},
   "source": [
    "Business Decision:\n",
    "\n",
    "Considering the Decision_Rule:  \n",
    "i. If p-value < α : Rejection of Null Hypothesis(H0)  \n",
    "ii. If -z-critical > z-statistic > +z-critical : Rejection of Null Hypothesis(H0)\n",
    "\n",
    "A sample of the average of 32 javelin throws of an undergrad named Mac's mean 87.5 , which comes under confidence level or area or region.\n",
    "\n",
    "By oberserving the P_Value, as a Data Analyst Practioner I would suggest not to accept the Null Hypothesis (status quo) which makes the decision correct."
   ]
  },
  {
   "cell_type": "markdown",
   "id": "7e3c6e42",
   "metadata": {},
   "source": [
    "# TASK 3"
   ]
  },
  {
   "cell_type": "markdown",
   "id": "8ec88663",
   "metadata": {},
   "source": [
    "### Read data file:"
   ]
  },
  {
   "cell_type": "code",
   "execution_count": 3,
   "id": "95befafc",
   "metadata": {},
   "outputs": [
    {
     "data": {
      "text/html": [
       "<div>\n",
       "<style scoped>\n",
       "    .dataframe tbody tr th:only-of-type {\n",
       "        vertical-align: middle;\n",
       "    }\n",
       "\n",
       "    .dataframe tbody tr th {\n",
       "        vertical-align: top;\n",
       "    }\n",
       "\n",
       "    .dataframe thead th {\n",
       "        text-align: right;\n",
       "    }\n",
       "</style>\n",
       "<table border=\"1\" class=\"dataframe\">\n",
       "  <thead>\n",
       "    <tr style=\"text-align: right;\">\n",
       "      <th></th>\n",
       "      <th>California</th>\n",
       "      <th>Florida</th>\n",
       "    </tr>\n",
       "  </thead>\n",
       "  <tbody>\n",
       "    <tr>\n",
       "      <th>0</th>\n",
       "      <td>2.55</td>\n",
       "      <td>2.25</td>\n",
       "    </tr>\n",
       "    <tr>\n",
       "      <th>1</th>\n",
       "      <td>2.36</td>\n",
       "      <td>2.40</td>\n",
       "    </tr>\n",
       "    <tr>\n",
       "      <th>2</th>\n",
       "      <td>2.38</td>\n",
       "      <td>2.19</td>\n",
       "    </tr>\n",
       "    <tr>\n",
       "      <th>3</th>\n",
       "      <td>2.43</td>\n",
       "      <td>2.39</td>\n",
       "    </tr>\n",
       "    <tr>\n",
       "      <th>4</th>\n",
       "      <td>2.73</td>\n",
       "      <td>2.39</td>\n",
       "    </tr>\n",
       "    <tr>\n",
       "      <th>5</th>\n",
       "      <td>2.67</td>\n",
       "      <td>2.50</td>\n",
       "    </tr>\n",
       "    <tr>\n",
       "      <th>6</th>\n",
       "      <td>2.54</td>\n",
       "      <td>2.33</td>\n",
       "    </tr>\n",
       "    <tr>\n",
       "      <th>7</th>\n",
       "      <td>2.24</td>\n",
       "      <td>2.33</td>\n",
       "    </tr>\n",
       "    <tr>\n",
       "      <th>8</th>\n",
       "      <td>2.43</td>\n",
       "      <td>2.40</td>\n",
       "    </tr>\n",
       "    <tr>\n",
       "      <th>9</th>\n",
       "      <td>2.80</td>\n",
       "      <td>2.49</td>\n",
       "    </tr>\n",
       "    <tr>\n",
       "      <th>10</th>\n",
       "      <td>2.50</td>\n",
       "      <td>2.19</td>\n",
       "    </tr>\n",
       "    <tr>\n",
       "      <th>11</th>\n",
       "      <td>2.64</td>\n",
       "      <td>2.29</td>\n",
       "    </tr>\n",
       "    <tr>\n",
       "      <th>12</th>\n",
       "      <td>2.25</td>\n",
       "      <td>2.59</td>\n",
       "    </tr>\n",
       "    <tr>\n",
       "      <th>13</th>\n",
       "      <td>2.38</td>\n",
       "      <td>2.23</td>\n",
       "    </tr>\n",
       "    <tr>\n",
       "      <th>14</th>\n",
       "      <td>2.61</td>\n",
       "      <td>2.41</td>\n",
       "    </tr>\n",
       "    <tr>\n",
       "      <th>15</th>\n",
       "      <td>2.71</td>\n",
       "      <td>2.56</td>\n",
       "    </tr>\n",
       "    <tr>\n",
       "      <th>16</th>\n",
       "      <td>2.80</td>\n",
       "      <td>2.48</td>\n",
       "    </tr>\n",
       "    <tr>\n",
       "      <th>17</th>\n",
       "      <td>2.49</td>\n",
       "      <td>2.29</td>\n",
       "    </tr>\n",
       "    <tr>\n",
       "      <th>18</th>\n",
       "      <td>2.69</td>\n",
       "      <td>2.28</td>\n",
       "    </tr>\n",
       "    <tr>\n",
       "      <th>19</th>\n",
       "      <td>2.43</td>\n",
       "      <td>2.39</td>\n",
       "    </tr>\n",
       "    <tr>\n",
       "      <th>20</th>\n",
       "      <td>2.23</td>\n",
       "      <td>2.59</td>\n",
       "    </tr>\n",
       "    <tr>\n",
       "      <th>21</th>\n",
       "      <td>2.61</td>\n",
       "      <td>2.58</td>\n",
       "    </tr>\n",
       "    <tr>\n",
       "      <th>22</th>\n",
       "      <td>2.57</td>\n",
       "      <td>2.53</td>\n",
       "    </tr>\n",
       "    <tr>\n",
       "      <th>23</th>\n",
       "      <td>2.36</td>\n",
       "      <td>2.26</td>\n",
       "    </tr>\n",
       "    <tr>\n",
       "      <th>24</th>\n",
       "      <td>2.57</td>\n",
       "      <td>2.39</td>\n",
       "    </tr>\n",
       "    <tr>\n",
       "      <th>25</th>\n",
       "      <td>2.56</td>\n",
       "      <td>2.58</td>\n",
       "    </tr>\n",
       "    <tr>\n",
       "      <th>26</th>\n",
       "      <td>2.38</td>\n",
       "      <td>2.29</td>\n",
       "    </tr>\n",
       "    <tr>\n",
       "      <th>27</th>\n",
       "      <td>2.43</td>\n",
       "      <td>2.27</td>\n",
       "    </tr>\n",
       "    <tr>\n",
       "      <th>28</th>\n",
       "      <td>2.71</td>\n",
       "      <td>2.45</td>\n",
       "    </tr>\n",
       "    <tr>\n",
       "      <th>29</th>\n",
       "      <td>2.25</td>\n",
       "      <td>2.56</td>\n",
       "    </tr>\n",
       "    <tr>\n",
       "      <th>30</th>\n",
       "      <td>2.64</td>\n",
       "      <td>NaN</td>\n",
       "    </tr>\n",
       "    <tr>\n",
       "      <th>31</th>\n",
       "      <td>2.27</td>\n",
       "      <td>NaN</td>\n",
       "    </tr>\n",
       "    <tr>\n",
       "      <th>32</th>\n",
       "      <td>2.18</td>\n",
       "      <td>NaN</td>\n",
       "    </tr>\n",
       "  </tbody>\n",
       "</table>\n",
       "</div>"
      ],
      "text/plain": [
       "    California  Florida\n",
       "0         2.55     2.25\n",
       "1         2.36     2.40\n",
       "2         2.38     2.19\n",
       "3         2.43     2.39\n",
       "4         2.73     2.39\n",
       "5         2.67     2.50\n",
       "6         2.54     2.33\n",
       "7         2.24     2.33\n",
       "8         2.43     2.40\n",
       "9         2.80     2.49\n",
       "10        2.50     2.19\n",
       "11        2.64     2.29\n",
       "12        2.25     2.59\n",
       "13        2.38     2.23\n",
       "14        2.61     2.41\n",
       "15        2.71     2.56\n",
       "16        2.80     2.48\n",
       "17        2.49     2.29\n",
       "18        2.69     2.28\n",
       "19        2.43     2.39\n",
       "20        2.23     2.59\n",
       "21        2.61     2.58\n",
       "22        2.57     2.53\n",
       "23        2.36     2.26\n",
       "24        2.57     2.39\n",
       "25        2.56     2.58\n",
       "26        2.38     2.29\n",
       "27        2.43     2.27\n",
       "28        2.71     2.45\n",
       "29        2.25     2.56\n",
       "30        2.64      NaN\n",
       "31        2.27      NaN\n",
       "32        2.18      NaN"
      ]
     },
     "execution_count": 3,
     "metadata": {},
     "output_type": "execute_result"
    }
   ],
   "source": [
    "city_hd_df=pd.read_csv(\"DS1_C5_S6_Hypothesis_I_Practice_CityPrice_Data.csv\")\n",
    "city_hd_df"
   ]
  },
  {
   "cell_type": "markdown",
   "id": "2ce085ae",
   "metadata": {},
   "source": [
    "# 3.1"
   ]
  },
  {
   "cell_type": "markdown",
   "id": "5cf37075",
   "metadata": {},
   "source": [
    "H0: μ = 0  \n",
    "Ha: μ != 0\n",
    "    \n",
    "H0: μ = sales in florida and california are same  \n",
    "Ha: μ1 = sales in florida and california are not the same"
   ]
  },
  {
   "cell_type": "code",
   "execution_count": 4,
   "id": "d836adb1",
   "metadata": {},
   "outputs": [
    {
     "data": {
      "text/plain": [
       "0     2.55\n",
       "1     2.36\n",
       "2     2.38\n",
       "3     2.43\n",
       "4     2.73\n",
       "5     2.67\n",
       "6     2.54\n",
       "7     2.24\n",
       "8     2.43\n",
       "9     2.80\n",
       "10    2.50\n",
       "11    2.64\n",
       "12    2.25\n",
       "13    2.38\n",
       "14    2.61\n",
       "15    2.71\n",
       "16    2.80\n",
       "17    2.49\n",
       "18    2.69\n",
       "19    2.43\n",
       "20    2.23\n",
       "21    2.61\n",
       "22    2.57\n",
       "23    2.36\n",
       "24    2.57\n",
       "25    2.56\n",
       "26    2.38\n",
       "27    2.43\n",
       "28    2.71\n",
       "29    2.25\n",
       "30    2.64\n",
       "31    2.27\n",
       "32    2.18\n",
       "Name: California, dtype: float64"
      ]
     },
     "execution_count": 4,
     "metadata": {},
     "output_type": "execute_result"
    }
   ],
   "source": [
    "california=city_hd_df.iloc[:33,0]\n",
    "california"
   ]
  },
  {
   "cell_type": "code",
   "execution_count": 5,
   "id": "85589668",
   "metadata": {},
   "outputs": [
    {
     "data": {
      "text/plain": [
       "0     2.25\n",
       "1     2.40\n",
       "2     2.19\n",
       "3     2.39\n",
       "4     2.39\n",
       "5     2.50\n",
       "6     2.33\n",
       "7     2.33\n",
       "8     2.40\n",
       "9     2.49\n",
       "10    2.19\n",
       "11    2.29\n",
       "12    2.59\n",
       "13    2.23\n",
       "14    2.41\n",
       "15    2.56\n",
       "16    2.48\n",
       "17    2.29\n",
       "18    2.28\n",
       "19    2.39\n",
       "20    2.59\n",
       "21    2.58\n",
       "22    2.53\n",
       "23    2.26\n",
       "24    2.39\n",
       "25    2.58\n",
       "26    2.29\n",
       "27    2.27\n",
       "28    2.45\n",
       "29    2.56\n",
       "Name: Florida, dtype: float64"
      ]
     },
     "execution_count": 5,
     "metadata": {},
     "output_type": "execute_result"
    }
   ],
   "source": [
    "florida=city_hd_df.iloc[:30,1]\n",
    "florida"
   ]
  },
  {
   "cell_type": "markdown",
   "id": "e4c5ead1",
   "metadata": {},
   "source": [
    "### California health drink sample statistics:"
   ]
  },
  {
   "cell_type": "code",
   "execution_count": 8,
   "id": "fe4e09ec",
   "metadata": {},
   "outputs": [
    {
     "name": "stdout",
     "output_type": "stream",
     "text": [
      "2.496666666666667\n",
      "0.17584913041202863\n",
      "0.028\n"
     ]
    }
   ],
   "source": [
    "#California...\n",
    "\n",
    "c_samples=33\n",
    "cs_mean=np.nanmean(california)   #extracting mean/average...ignoring NaN values..\n",
    "cs_std=california.std()\n",
    "cs_var=0.028   #given   #cs_std**2\n",
    "#cs_len=len(california)\n",
    "\n",
    "print(cs_mean)\n",
    "print(cs_std)\n",
    "print(cs_var)"
   ]
  },
  {
   "cell_type": "markdown",
   "id": "308ec3ae",
   "metadata": {},
   "source": [
    "### Florida health drink sample statistics:"
   ]
  },
  {
   "cell_type": "code",
   "execution_count": 9,
   "id": "8b957d0f",
   "metadata": {},
   "outputs": [
    {
     "name": "stdout",
     "output_type": "stream",
     "text": [
      "2.3960000000000004\n",
      "0.12713283848278406\n",
      "0.015\n"
     ]
    }
   ],
   "source": [
    "#Florida\n",
    "\n",
    "f_samples=30\n",
    "fs_mean=np.nanmean(florida)   #extracting mean/average...ignoring NaN values...\n",
    "fs_std=florida.std()\n",
    "fs_var=0.015   #given   #fs_std**2\n",
    "#fs_len=len(florida)\n",
    "\n",
    "print(fs_mean)\n",
    "print(fs_std)\n",
    "print(fs_var)"
   ]
  },
  {
   "cell_type": "markdown",
   "id": "280f67cc",
   "metadata": {},
   "source": [
    "### Set the value of alpha(α):"
   ]
  },
  {
   "cell_type": "code",
   "execution_count": 10,
   "id": "1061c8c8",
   "metadata": {},
   "outputs": [],
   "source": [
    "#Given the significance/tolerance level...\n",
    "\n",
    "αα=0.01   #given"
   ]
  },
  {
   "cell_type": "markdown",
   "id": "c6ec7c9d",
   "metadata": {},
   "source": [
    "# TASK 3.A"
   ]
  },
  {
   "cell_type": "markdown",
   "id": "d06fb44f",
   "metadata": {},
   "source": [
    "### Z-Test:"
   ]
  },
  {
   "cell_type": "code",
   "execution_count": 11,
   "id": "0d3f9031",
   "metadata": {},
   "outputs": [
    {
     "data": {
      "text/plain": [
       "2.5758293035489004"
      ]
     },
     "execution_count": 11,
     "metadata": {},
     "output_type": "execute_result"
    }
   ],
   "source": [
    "z_critical=norm.ppf(1-αα/2)\n",
    "z_critical"
   ]
  },
  {
   "cell_type": "markdown",
   "id": "0b3afbf9",
   "metadata": {},
   "source": [
    ">Confidence level given as 99% {α=0.01   #given} in the data dictionary from which we extracted the z_critical i.e; 2.5758293035489004"
   ]
  },
  {
   "cell_type": "markdown",
   "id": "feb3bb17",
   "metadata": {},
   "source": [
    ">(cs_mean - fs_mean) - 2.5758293035489004(math.sqrt(cs_var/s_samples + fs_var/f_samples)  \n",
    "<=  \n",
    "µ-µ1  \n",
    "<=  \n",
    "(cs_mean - fs_mean) + 2.5758293035489004(math.sqrt(cs_var/s_samples + fs_var/f_samples)"
   ]
  },
  {
   "cell_type": "code",
   "execution_count": 12,
   "id": "c292cdd9",
   "metadata": {},
   "outputs": [
    {
     "data": {
      "text/plain": [
       "0.0060777796992183"
      ]
     },
     "execution_count": 12,
     "metadata": {},
     "output_type": "execute_result"
    }
   ],
   "source": [
    "#(cs_mean - fs_mean) - 2.5758293035489004(math.sqrt(cs_var/s_samples + fs_var/f_samples)\n",
    "\n",
    "lhs=(cs_mean-fs_mean)-2.5758293035489004*(math.sqrt(cs_var/c_samples+fs_var/f_samples))\n",
    "lhs                          "
   ]
  },
  {
   "cell_type": "code",
   "execution_count": 13,
   "id": "4fe86b72",
   "metadata": {},
   "outputs": [
    {
     "data": {
      "text/plain": [
       "0.19525555363411506"
      ]
     },
     "execution_count": 13,
     "metadata": {},
     "output_type": "execute_result"
    }
   ],
   "source": [
    "#(cs_mean - fs_mean) + 2.5758293035489004(math.sqrt(cs_var/s_samples + fs_var/f_samples)\n",
    "\n",
    "rhs=(cs_mean-fs_mean)+2.5758293035489004*(math.sqrt(cs_var/c_samples+fs_var/f_samples))\n",
    "rhs"
   ]
  },
  {
   "cell_type": "markdown",
   "id": "361bd962",
   "metadata": {},
   "source": [
    ">So,now as per the formula or say condition comparing the two sides i.e; lhs and rhs:  \n",
    "lhs  <=  µ-µ1  <=  rhs"
   ]
  },
  {
   "cell_type": "markdown",
   "id": "e1a67ab0",
   "metadata": {},
   "source": [
    ">So,the estimated difference value (considering 99% confidence interval)  \n",
    "in the mean price of a liter of the health drink b/w two cities is:  \n",
    "    lhs <= µ-µ1 <= rhs"
   ]
  },
  {
   "cell_type": "code",
   "execution_count": 14,
   "id": "508a56c0",
   "metadata": {},
   "outputs": [
    {
     "name": "stdout",
     "output_type": "stream",
     "text": [
      "0.10066666666666668\n"
     ]
    }
   ],
   "source": [
    "#Therefore;\n",
    "\n",
    "print(cs_mean-fs_mean)"
   ]
  },
  {
   "cell_type": "markdown",
   "id": "d07cbe73",
   "metadata": {},
   "source": [
    "# TASK 3.B"
   ]
  },
  {
   "cell_type": "markdown",
   "id": "030e96b3",
   "metadata": {},
   "source": [
    "# Z-Test:"
   ]
  },
  {
   "cell_type": "code",
   "execution_count": 18,
   "id": "7396c8bb",
   "metadata": {},
   "outputs": [
    {
     "data": {
      "text/plain": [
       "2.7413384193834984"
      ]
     },
     "execution_count": 18,
     "metadata": {},
     "output_type": "execute_result"
    }
   ],
   "source": [
    "zz_statistic=(cs_mean-fs_mean) / (math.sqrt(cs_var/c_samples + fs_var/f_samples))\n",
    "zz_statistic"
   ]
  },
  {
   "cell_type": "code",
   "execution_count": 20,
   "id": "0e0e859e",
   "metadata": {},
   "outputs": [
    {
     "data": {
      "text/plain": [
       "0.006118944821314574"
      ]
     },
     "execution_count": 20,
     "metadata": {},
     "output_type": "execute_result"
    }
   ],
   "source": [
    "pp_value=norm.sf(abs(zz_statistic))*2\n",
    "pp_value"
   ]
  },
  {
   "cell_type": "code",
   "execution_count": 22,
   "id": "0d7ed48d",
   "metadata": {},
   "outputs": [
    {
     "data": {
      "text/plain": [
       "2.5758293035489004"
      ]
     },
     "execution_count": 22,
     "metadata": {},
     "output_type": "execute_result"
    }
   ],
   "source": [
    "zz_critical=norm.ppf(1-αα/2)\n",
    "zz_critical"
   ]
  },
  {
   "cell_type": "markdown",
   "id": "7d15a222",
   "metadata": {},
   "source": [
    "### Decision Rule:"
   ]
  },
  {
   "cell_type": "markdown",
   "id": "b029cda3",
   "metadata": {},
   "source": [
    ">i. If p-value < α : Rejection of Null Hypothesis(H0)  \n",
    ">ii. If -z-critical > z-statistic > +z-critical : Rejection of Null Hypothesis(H0)"
   ]
  },
  {
   "cell_type": "code",
   "execution_count": 23,
   "id": "a9f0ed86",
   "metadata": {
    "scrolled": true
   },
   "outputs": [
    {
     "name": "stdout",
     "output_type": "stream",
     "text": [
      "As the P_Value is LESS than tolerance level(α) then the Null Hypothesis is 'Not Accepted'\n",
      "i.e; 'Rejected'\n"
     ]
    }
   ],
   "source": [
    "if pp_value<αα:\n",
    "    \n",
    "    print(\"\"\"As the P_Value is LESS than tolerance level(α) then the Null Hypothesis is 'Not Accepted'\n",
    "i.e; 'Rejected'\"\"\")\n",
    "    \n",
    "else:\n",
    "    \n",
    "    print(\"\"\"As the P_Value is GREATER than tolerance level(α) then the Null Hypothesis is 'Accepted'\n",
    "i.e; 'not Rejected' \"\"\")"
   ]
  },
  {
   "cell_type": "code",
   "execution_count": 24,
   "id": "c356f667",
   "metadata": {},
   "outputs": [
    {
     "name": "stdout",
     "output_type": "stream",
     "text": [
      "As the P_Value is LESS than tolerance level(α) then the Null Hypothesis is 'Not Accepted'\n",
      "i.e; 'Rejected'\n"
     ]
    }
   ],
   "source": [
    "if zz_statistic>zz_critical:\n",
    "    \n",
    "    print(\"\"\"As the P_Value is LESS than tolerance level(α) then the Null Hypothesis is 'Not Accepted'\n",
    "i.e; 'Rejected'\"\"\")\n",
    "    \n",
    "else:\n",
    "    \n",
    "    print(\"\"\"As the P_Value is GREATER than tolerance level(α) then the Null Hypothesis is 'Accepted'\n",
    "i.e; 'not Rejected' \"\"\")"
   ]
  },
  {
   "cell_type": "code",
   "execution_count": 131,
   "id": "b511a051",
   "metadata": {},
   "outputs": [
    {
     "data": {
      "text/plain": [
       "True"
      ]
     },
     "execution_count": 131,
     "metadata": {},
     "output_type": "execute_result"
    }
   ],
   "source": [
    "zz_statistic>zz_critical"
   ]
  },
  {
   "cell_type": "markdown",
   "id": "f0d77b29",
   "metadata": {},
   "source": [
    "### Make a business decision:"
   ]
  },
  {
   "cell_type": "markdown",
   "id": "14a577ac",
   "metadata": {},
   "source": [
    "As per a market analyst, \n",
    "By oberserving the P_Value, I would suggest not to accept the Null Hypothesis (status quo) which makes the decision correct.  \n",
    "As there is difference in the mean of both cities i.e; California and Florida's health drink in each liter. "
   ]
  },
  {
   "cell_type": "markdown",
   "id": "d1a30e73",
   "metadata": {},
   "source": [
    "α   σ   μ"
   ]
  }
 ],
 "metadata": {
  "kernelspec": {
   "display_name": "Python 3 (ipykernel)",
   "language": "python",
   "name": "python3"
  },
  "language_info": {
   "codemirror_mode": {
    "name": "ipython",
    "version": 3
   },
   "file_extension": ".py",
   "mimetype": "text/x-python",
   "name": "python",
   "nbconvert_exporter": "python",
   "pygments_lexer": "ipython3",
   "version": "3.10.2"
  }
 },
 "nbformat": 4,
 "nbformat_minor": 5
}
