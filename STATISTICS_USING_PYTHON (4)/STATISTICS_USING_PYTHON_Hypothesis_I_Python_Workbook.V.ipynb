{
 "cells": [
  {
   "cell_type": "markdown",
   "metadata": {},
   "source": [
    "# Hypothesis Test - I"
   ]
  },
  {
   "cell_type": "markdown",
   "metadata": {},
   "source": [
    "## Concept session"
   ]
  },
  {
   "cell_type": "markdown",
   "metadata": {},
   "source": [
    "## Demo - 6.3: Right Tailed Hypothesis Test"
   ]
  },
  {
   "cell_type": "markdown",
   "metadata": {},
   "source": [
    "According to the US Department of Agriculture, the average size of farms increased in 2019 compared to 2018. In 2018, the mean farm size was 445.51 acres; In 2019, the average size was 446.92 acres. Suppose an agribusiness researcher believes that the average farm size is higher than the 2018 average of 446.92 acres.\n",
    "\n",
    "To test this notion, data analyst Maya randomly selected 35 farms in the United States and ascertained the average size of each state from county records.\n",
    "\n",
    "Use a 5% level of significance to test her hypothesis. Consider that the number of acres per farm is normally distributed in the population."
   ]
  },
  {
   "cell_type": "code",
   "execution_count": 29,
   "metadata": {},
   "outputs": [],
   "source": [
    "import numpy as np\n",
    "import statistics as st\n",
    "from scipy.stats import norm\n",
    "import pandas as pd\n",
    "import math"
   ]
  },
  {
   "cell_type": "markdown",
   "metadata": {},
   "source": [
    "### Establish the null and alternate hypothesis"
   ]
  },
  {
   "cell_type": "code",
   "execution_count": null,
   "metadata": {},
   "outputs": [],
   "source": [
    "ho: the average size of US farm is equal to 445.5 in 2019\n",
    "ha: the average size of US Farm is more than 445.5 in 2019"
   ]
  },
  {
   "cell_type": "code",
   "execution_count": 20,
   "metadata": {},
   "outputs": [
    {
     "data": {
      "text/plain": [
       "Index(['State', '2018_Number_of_farms', '2019_Number_of_farms',\n",
       "       '2018_Land_in_farms(in1,000acres)', '2019_Land_in_farms(in1,000acres)',\n",
       "       ' 2018_Average_farm_size(acres)', ' 2019_Average_farm_size(acres)'],\n",
       "      dtype='object')"
      ]
     },
     "execution_count": 20,
     "metadata": {},
     "output_type": "execute_result"
    }
   ],
   "source": [
    "farm_df.columns"
   ]
  },
  {
   "cell_type": "markdown",
   "metadata": {},
   "source": [
    "### Read data from the source"
   ]
  },
  {
   "cell_type": "code",
   "execution_count": 5,
   "metadata": {},
   "outputs": [
    {
     "data": {
      "text/html": [
       "<div>\n",
       "<style scoped>\n",
       "    .dataframe tbody tr th:only-of-type {\n",
       "        vertical-align: middle;\n",
       "    }\n",
       "\n",
       "    .dataframe tbody tr th {\n",
       "        vertical-align: top;\n",
       "    }\n",
       "\n",
       "    .dataframe thead th {\n",
       "        text-align: right;\n",
       "    }\n",
       "</style>\n",
       "<table border=\"1\" class=\"dataframe\">\n",
       "  <thead>\n",
       "    <tr style=\"text-align: right;\">\n",
       "      <th></th>\n",
       "      <th>State</th>\n",
       "      <th>2018_Number_of_farms</th>\n",
       "      <th>2019_Number_of_farms</th>\n",
       "      <th>2018_Land_in_farms(in1,000acres)</th>\n",
       "      <th>2019_Land_in_farms(in1,000acres)</th>\n",
       "      <th>2018_Average_farm_size(acres)</th>\n",
       "      <th>2019_Average_farm_size(acres)</th>\n",
       "    </tr>\n",
       "  </thead>\n",
       "  <tbody>\n",
       "    <tr>\n",
       "      <th>0</th>\n",
       "      <td>Alabama</td>\n",
       "      <td>39700</td>\n",
       "      <td>38800</td>\n",
       "      <td>8500</td>\n",
       "      <td>8300</td>\n",
       "      <td>214</td>\n",
       "      <td>214</td>\n",
       "    </tr>\n",
       "    <tr>\n",
       "      <th>1</th>\n",
       "      <td>Alaska</td>\n",
       "      <td>1000</td>\n",
       "      <td>1050</td>\n",
       "      <td>850</td>\n",
       "      <td>850</td>\n",
       "      <td>850</td>\n",
       "      <td>810</td>\n",
       "    </tr>\n",
       "    <tr>\n",
       "      <th>2</th>\n",
       "      <td>Arizona</td>\n",
       "      <td>19200</td>\n",
       "      <td>19000</td>\n",
       "      <td>26200</td>\n",
       "      <td>26200</td>\n",
       "      <td>1365</td>\n",
       "      <td>1379</td>\n",
       "    </tr>\n",
       "    <tr>\n",
       "      <th>3</th>\n",
       "      <td>Arkansas</td>\n",
       "      <td>42500</td>\n",
       "      <td>42300</td>\n",
       "      <td>13900</td>\n",
       "      <td>14000</td>\n",
       "      <td>327</td>\n",
       "      <td>331</td>\n",
       "    </tr>\n",
       "    <tr>\n",
       "      <th>4</th>\n",
       "      <td>California</td>\n",
       "      <td>69400</td>\n",
       "      <td>69900</td>\n",
       "      <td>24300</td>\n",
       "      <td>24300</td>\n",
       "      <td>350</td>\n",
       "      <td>348</td>\n",
       "    </tr>\n",
       "  </tbody>\n",
       "</table>\n",
       "</div>"
      ],
      "text/plain": [
       "        State  2018_Number_of_farms  2019_Number_of_farms  \\\n",
       "0     Alabama                 39700                 38800   \n",
       "1      Alaska                  1000                  1050   \n",
       "2     Arizona                 19200                 19000   \n",
       "3    Arkansas                 42500                 42300   \n",
       "4  California                 69400                 69900   \n",
       "\n",
       "   2018_Land_in_farms(in1,000acres)  2019_Land_in_farms(in1,000acres)  \\\n",
       "0                              8500                              8300   \n",
       "1                               850                               850   \n",
       "2                             26200                             26200   \n",
       "3                             13900                             14000   \n",
       "4                             24300                             24300   \n",
       "\n",
       "    2018_Average_farm_size(acres)   2019_Average_farm_size(acres)  \n",
       "0                             214                             214  \n",
       "1                             850                             810  \n",
       "2                            1365                            1379  \n",
       "3                             327                             331  \n",
       "4                             350                             348  "
      ]
     },
     "execution_count": 5,
     "metadata": {},
     "output_type": "execute_result"
    }
   ],
   "source": [
    "farm_df=pd.read_csv(\"DS1_C5_S6_Hypothesis_I_Concept_FarmSize_Data.csv\")\n",
    "farm_df.head()"
   ]
  },
  {
   "cell_type": "markdown",
   "metadata": {},
   "source": [
    "### Determine the appropriate statistical test"
   ]
  },
  {
   "cell_type": "code",
   "execution_count": 10,
   "metadata": {},
   "outputs": [],
   "source": [
    "\n",
    "mean_p=445.51\n",
    "std_p=466.827\n"
   ]
  },
  {
   "cell_type": "markdown",
   "metadata": {},
   "source": [
    "### Set the value of alpha"
   ]
  },
  {
   "cell_type": "code",
   "execution_count": 1,
   "metadata": {},
   "outputs": [],
   "source": [
    "# given that 5% 0f significance level\n",
    "alpha=0.05"
   ]
  },
  {
   "cell_type": "markdown",
   "metadata": {},
   "source": [
    "### Establish the decision rule"
   ]
  },
  {
   "cell_type": "markdown",
   "metadata": {},
   "source": [
    "i. If p-value < alpha : Rejection of Null Hypothesis(H0)                                                                      \n",
    "ii. If -z-critical > z-statistics > +z-critical : Rejection of Null Hypothesis(H0)\n"
   ]
  },
  {
   "cell_type": "markdown",
   "metadata": {},
   "source": [
    "### Gather the sample data"
   ]
  },
  {
   "cell_type": "code",
   "execution_count": null,
   "metadata": {},
   "outputs": [],
   "source": []
  },
  {
   "cell_type": "markdown",
   "metadata": {},
   "source": [
    "### Calculate sample mean"
   ]
  },
  {
   "cell_type": "code",
   "execution_count": 7,
   "metadata": {},
   "outputs": [],
   "source": [
    "mean_s=st.mean(farm_df[' 2019_Average_farm_size(acres)'])\n"
   ]
  },
  {
   "cell_type": "code",
   "execution_count": 8,
   "metadata": {},
   "outputs": [
    {
     "data": {
      "text/plain": [
       "444"
      ]
     },
     "execution_count": 8,
     "metadata": {},
     "output_type": "execute_result"
    }
   ],
   "source": [
    "mean_s"
   ]
  },
  {
   "cell_type": "markdown",
   "metadata": {},
   "source": [
    "### Analyze the data"
   ]
  },
  {
   "cell_type": "code",
   "execution_count": 11,
   "metadata": {},
   "outputs": [
    {
     "data": {
      "text/plain": [
       "-0.02287209693508902"
      ]
     },
     "execution_count": 11,
     "metadata": {},
     "output_type": "execute_result"
    }
   ],
   "source": [
    "n=50\n",
    "z_statistics=(mean_s-mean_p)/(std_p/math.sqrt(n))\n",
    "z_statistics"
   ]
  },
  {
   "cell_type": "code",
   "execution_count": 12,
   "metadata": {},
   "outputs": [
    {
     "data": {
      "text/plain": [
       "0.490876148995736"
      ]
     },
     "execution_count": 12,
     "metadata": {},
     "output_type": "execute_result"
    }
   ],
   "source": [
    "p_value=norm.sf(abs(z_statistics))\n",
    "p_value"
   ]
  },
  {
   "cell_type": "code",
   "execution_count": 15,
   "metadata": {},
   "outputs": [
    {
     "data": {
      "text/plain": [
       "1.6448536269514722"
      ]
     },
     "execution_count": 15,
     "metadata": {},
     "output_type": "execute_result"
    }
   ],
   "source": [
    "# right tail test we have to consider 1 alpha\n",
    "z_critical=norm.ppf(1-0.05)\n",
    "z_critical"
   ]
  },
  {
   "cell_type": "markdown",
   "metadata": {},
   "source": [
    "### Reach a statistical conclusion"
   ]
  },
  {
   "cell_type": "markdown",
   "metadata": {},
   "source": [
    "#To find the p-value associated with a z-score in Python, we can use the scipy.stats.norm.sf() function, which uses the following syntax:\n",
    "\n",
    "scipy.stats.norm.sf(abs(x))"
   ]
  },
  {
   "cell_type": "markdown",
   "metadata": {},
   "source": [
    "p= 0.490876148995736 > alpha =0.05: Accept the Null Hypothesis\n",
    "\n",
    "z_statistics=-0.02287209693508902 < z_critical=1.6448536269514722 : Accept the Null Hypothesis"
   ]
  },
  {
   "cell_type": "markdown",
   "metadata": {},
   "source": [
    "### Make a business decision"
   ]
  },
  {
   "cell_type": "code",
   "execution_count": null,
   "metadata": {},
   "outputs": [],
   "source": []
  },
  {
   "cell_type": "markdown",
   "metadata": {},
   "source": [
    "## Demo - 6.4: Left tailed Hypothesis Test"
   ]
  },
  {
   "cell_type": "markdown",
   "metadata": {},
   "source": [
    "A survey was conducted among managing directors of manufacturing plants in Glasgow, rated between 1-5 Likert scale. The mean of the survey response was 4.30 with a population standard deviation of 0.574. U.S. supply chain analysts believe that American manufacturing managers would not rate highly and conduct a hypothesis to prove their theory. Determine whether U.S. managers rate significantly lesser than the mean 4.30 ascertained in the U.K with a 10% confidence level. Use the following ratings from U.S. managers for the test.\n",
    "![](rating.png)\n"
   ]
  },
  {
   "cell_type": "markdown",
   "metadata": {},
   "source": [
    "### Establish the null and alternate hypothesis"
   ]
  },
  {
   "cell_type": "markdown",
   "metadata": {},
   "source": [
    "ho: the average rating is equal to 4.3   \n",
    "ha: the average rating is less than 4.3"
   ]
  },
  {
   "cell_type": "markdown",
   "metadata": {},
   "source": [
    "### Determine the appropriate statistical test"
   ]
  },
  {
   "cell_type": "code",
   "execution_count": 17,
   "metadata": {},
   "outputs": [],
   "source": [
    "p_mean=4.30\n",
    "p_sd=0.574\n",
    "s_size=32 # sample size\n"
   ]
  },
  {
   "cell_type": "markdown",
   "metadata": {},
   "source": [
    "### Set the value of alpha"
   ]
  },
  {
   "cell_type": "code",
   "execution_count": 48,
   "metadata": {},
   "outputs": [],
   "source": [
    "# confidence level =90%\n",
    "# significance level = 100 -90=10% =0.1\n",
    "alpha=0.1"
   ]
  },
  {
   "cell_type": "markdown",
   "metadata": {},
   "source": [
    "### Establish the decision rule"
   ]
  },
  {
   "cell_type": "markdown",
   "metadata": {},
   "source": [
    "i. If p-value < α : Rejection of Null Hypothesis(H0)                                                            \n",
    "ii. If -z-critical > z-statistic > +z-critical : Rejection of Null Hypothesis(H0)"
   ]
  },
  {
   "cell_type": "markdown",
   "metadata": {},
   "source": [
    "### Calculate sample  mean"
   ]
  },
  {
   "cell_type": "code",
   "execution_count": 49,
   "metadata": {},
   "outputs": [
    {
     "data": {
      "text/plain": [
       "4.15625"
      ]
     },
     "execution_count": 49,
     "metadata": {},
     "output_type": "execute_result"
    }
   ],
   "source": [
    "sample_ratings=[3,4,5,5,4,5,5,4,4,4,4,4,4,4,4,5,4,4,4,3,4,4,4,3,5,4,4,5,4,4,4,5]\n",
    "s_mean1=st.mean(sample_ratings)\n",
    "s_mean1"
   ]
  },
  {
   "cell_type": "markdown",
   "metadata": {},
   "source": [
    "### Analyze the data"
   ]
  },
  {
   "cell_type": "code",
   "execution_count": 50,
   "metadata": {},
   "outputs": [
    {
     "data": {
      "text/plain": [
       "-1.4166773490671232"
      ]
     },
     "execution_count": 50,
     "metadata": {},
     "output_type": "execute_result"
    }
   ],
   "source": [
    "z_statistics=(s_mean1-p_mean)/(p_sd/math.sqrt(s_size))\n",
    "z_statistics"
   ]
  },
  {
   "cell_type": "code",
   "execution_count": 61,
   "metadata": {},
   "outputs": [
    {
     "data": {
      "text/plain": [
       "0.07828864121333116"
      ]
     },
     "execution_count": 61,
     "metadata": {},
     "output_type": "execute_result"
    }
   ],
   "source": [
    "p_value=norm.sf(abs(z_statistics))   # we can use cdf at place of sf nd then there is no need to use absolute function (abs)\n",
    "p_value"
   ]
  },
  {
   "cell_type": "code",
   "execution_count": 53,
   "metadata": {},
   "outputs": [
    {
     "data": {
      "text/plain": [
       "-1.2815515655446004"
      ]
     },
     "execution_count": 53,
     "metadata": {},
     "output_type": "execute_result"
    }
   ],
   "source": [
    "z_critical=norm.ppf(alpha)\n",
    "z_critical"
   ]
  },
  {
   "cell_type": "code",
   "execution_count": 56,
   "metadata": {},
   "outputs": [
    {
     "data": {
      "text/plain": [
       "True"
      ]
     },
     "execution_count": 56,
     "metadata": {},
     "output_type": "execute_result"
    }
   ],
   "source": [
    "p_value<alpha"
   ]
  },
  {
   "cell_type": "code",
   "execution_count": 18,
   "metadata": {},
   "outputs": [
    {
     "data": {
      "text/plain": [
       "True"
      ]
     },
     "execution_count": 18,
     "metadata": {},
     "output_type": "execute_result"
    }
   ],
   "source": [
    "z_statistics<z_critical   \n"
   ]
  },
  {
   "cell_type": "markdown",
   "metadata": {},
   "source": [
    "### Reach a statistical conclusion"
   ]
  },
  {
   "cell_type": "markdown",
   "metadata": {},
   "source": [
    "p_value<alpha which led to the rejection of null hypothesis                                                   \n",
    "z_statistic <  z_critical which led to rejection\n"
   ]
  },
  {
   "cell_type": "markdown",
   "metadata": {},
   "source": [
    "### Make the business decision"
   ]
  },
  {
   "cell_type": "code",
   "execution_count": null,
   "metadata": {},
   "outputs": [],
   "source": []
  },
  {
   "cell_type": "markdown",
   "metadata": {},
   "source": [
    "## Demo - 6.5: Hypothesis Test with Two Samples"
   ]
  },
  {
   "cell_type": "markdown",
   "metadata": {},
   "source": [
    "A random sample of the annual salary of 33 advertising managers is selected from the United States. The advertising managers are contacted by telephone and asked about their annual salary. A similar random sample was selected for 35 sales managers.\n",
    "\n",
    "Christopher, a business analyst, tests whether there is a difference between the average wage of an advertising manager and a sales manager. Use the 5% significance level for the test."
   ]
  },
  {
   "cell_type": "markdown",
   "metadata": {},
   "source": [
    "### Read data from the source"
   ]
  },
  {
   "cell_type": "code",
   "execution_count": 20,
   "metadata": {},
   "outputs": [],
   "source": [
    "wages_df=pd.read_csv(\"DS1_C5_S6_Hypothesis_I_Concept_Wages_Data.csv\")"
   ]
  },
  {
   "cell_type": "code",
   "execution_count": 21,
   "metadata": {},
   "outputs": [
    {
     "data": {
      "text/html": [
       "<div>\n",
       "<style scoped>\n",
       "    .dataframe tbody tr th:only-of-type {\n",
       "        vertical-align: middle;\n",
       "    }\n",
       "\n",
       "    .dataframe tbody tr th {\n",
       "        vertical-align: top;\n",
       "    }\n",
       "\n",
       "    .dataframe thead th {\n",
       "        text-align: right;\n",
       "    }\n",
       "</style>\n",
       "<table border=\"1\" class=\"dataframe\">\n",
       "  <thead>\n",
       "    <tr style=\"text-align: right;\">\n",
       "      <th></th>\n",
       "      <th>Advertising Manager</th>\n",
       "      <th>Sales Manager</th>\n",
       "    </tr>\n",
       "  </thead>\n",
       "  <tbody>\n",
       "    <tr>\n",
       "      <th>0</th>\n",
       "      <td>74.256</td>\n",
       "      <td>71.492</td>\n",
       "    </tr>\n",
       "    <tr>\n",
       "      <th>1</th>\n",
       "      <td>96.234</td>\n",
       "      <td>67.814</td>\n",
       "    </tr>\n",
       "    <tr>\n",
       "      <th>2</th>\n",
       "      <td>89.807</td>\n",
       "      <td>56.470</td>\n",
       "    </tr>\n",
       "    <tr>\n",
       "      <th>3</th>\n",
       "      <td>93.261</td>\n",
       "      <td>72.401</td>\n",
       "    </tr>\n",
       "    <tr>\n",
       "      <th>4</th>\n",
       "      <td>103.030</td>\n",
       "      <td>71.804</td>\n",
       "    </tr>\n",
       "    <tr>\n",
       "      <th>5</th>\n",
       "      <td>74.195</td>\n",
       "      <td>46.394</td>\n",
       "    </tr>\n",
       "    <tr>\n",
       "      <th>6</th>\n",
       "      <td>75.932</td>\n",
       "      <td>54.449</td>\n",
       "    </tr>\n",
       "    <tr>\n",
       "      <th>7</th>\n",
       "      <td>80.742</td>\n",
       "      <td>59.676</td>\n",
       "    </tr>\n",
       "    <tr>\n",
       "      <th>8</th>\n",
       "      <td>39.672</td>\n",
       "      <td>63.369</td>\n",
       "    </tr>\n",
       "    <tr>\n",
       "      <th>9</th>\n",
       "      <td>45.652</td>\n",
       "      <td>43.649</td>\n",
       "    </tr>\n",
       "    <tr>\n",
       "      <th>10</th>\n",
       "      <td>93.083</td>\n",
       "      <td>63.508</td>\n",
       "    </tr>\n",
       "    <tr>\n",
       "      <th>11</th>\n",
       "      <td>63.384</td>\n",
       "      <td>58.653</td>\n",
       "    </tr>\n",
       "    <tr>\n",
       "      <th>12</th>\n",
       "      <td>57.791</td>\n",
       "      <td>71.351</td>\n",
       "    </tr>\n",
       "    <tr>\n",
       "      <th>13</th>\n",
       "      <td>65.145</td>\n",
       "      <td>72.790</td>\n",
       "    </tr>\n",
       "    <tr>\n",
       "      <th>14</th>\n",
       "      <td>96.767</td>\n",
       "      <td>59.505</td>\n",
       "    </tr>\n",
       "    <tr>\n",
       "      <th>15</th>\n",
       "      <td>77.242</td>\n",
       "      <td>37.386</td>\n",
       "    </tr>\n",
       "    <tr>\n",
       "      <th>16</th>\n",
       "      <td>67.056</td>\n",
       "      <td>67.160</td>\n",
       "    </tr>\n",
       "    <tr>\n",
       "      <th>17</th>\n",
       "      <td>64.276</td>\n",
       "      <td>83.849</td>\n",
       "    </tr>\n",
       "    <tr>\n",
       "      <th>18</th>\n",
       "      <td>74.194</td>\n",
       "      <td>42.494</td>\n",
       "    </tr>\n",
       "    <tr>\n",
       "      <th>19</th>\n",
       "      <td>65.360</td>\n",
       "      <td>54.335</td>\n",
       "    </tr>\n",
       "    <tr>\n",
       "      <th>20</th>\n",
       "      <td>73.904</td>\n",
       "      <td>66.035</td>\n",
       "    </tr>\n",
       "    <tr>\n",
       "      <th>21</th>\n",
       "      <td>54.270</td>\n",
       "      <td>77.136</td>\n",
       "    </tr>\n",
       "    <tr>\n",
       "      <th>22</th>\n",
       "      <td>59.045</td>\n",
       "      <td>61.261</td>\n",
       "    </tr>\n",
       "    <tr>\n",
       "      <th>23</th>\n",
       "      <td>68.508</td>\n",
       "      <td>66.359</td>\n",
       "    </tr>\n",
       "    <tr>\n",
       "      <th>24</th>\n",
       "      <td>71.115</td>\n",
       "      <td>60.053</td>\n",
       "    </tr>\n",
       "    <tr>\n",
       "      <th>25</th>\n",
       "      <td>67.574</td>\n",
       "      <td>48.036</td>\n",
       "    </tr>\n",
       "    <tr>\n",
       "      <th>26</th>\n",
       "      <td>59.621</td>\n",
       "      <td>73.065</td>\n",
       "    </tr>\n",
       "    <tr>\n",
       "      <th>27</th>\n",
       "      <td>62.483</td>\n",
       "      <td>61.254</td>\n",
       "    </tr>\n",
       "    <tr>\n",
       "      <th>28</th>\n",
       "      <td>69.319</td>\n",
       "      <td>99.198</td>\n",
       "    </tr>\n",
       "    <tr>\n",
       "      <th>29</th>\n",
       "      <td>35.394</td>\n",
       "      <td>37.194</td>\n",
       "    </tr>\n",
       "    <tr>\n",
       "      <th>30</th>\n",
       "      <td>86.741</td>\n",
       "      <td>63.362</td>\n",
       "    </tr>\n",
       "    <tr>\n",
       "      <th>31</th>\n",
       "      <td>57.351</td>\n",
       "      <td>57.828</td>\n",
       "    </tr>\n",
       "    <tr>\n",
       "      <th>32</th>\n",
       "      <td>56.780</td>\n",
       "      <td>55.052</td>\n",
       "    </tr>\n",
       "    <tr>\n",
       "      <th>33</th>\n",
       "      <td>NaN</td>\n",
       "      <td>69.962</td>\n",
       "    </tr>\n",
       "    <tr>\n",
       "      <th>34</th>\n",
       "      <td>NaN</td>\n",
       "      <td>39.020</td>\n",
       "    </tr>\n",
       "  </tbody>\n",
       "</table>\n",
       "</div>"
      ],
      "text/plain": [
       "    Advertising Manager  Sales Manager\n",
       "0                74.256         71.492\n",
       "1                96.234         67.814\n",
       "2                89.807         56.470\n",
       "3                93.261         72.401\n",
       "4               103.030         71.804\n",
       "5                74.195         46.394\n",
       "6                75.932         54.449\n",
       "7                80.742         59.676\n",
       "8                39.672         63.369\n",
       "9                45.652         43.649\n",
       "10               93.083         63.508\n",
       "11               63.384         58.653\n",
       "12               57.791         71.351\n",
       "13               65.145         72.790\n",
       "14               96.767         59.505\n",
       "15               77.242         37.386\n",
       "16               67.056         67.160\n",
       "17               64.276         83.849\n",
       "18               74.194         42.494\n",
       "19               65.360         54.335\n",
       "20               73.904         66.035\n",
       "21               54.270         77.136\n",
       "22               59.045         61.261\n",
       "23               68.508         66.359\n",
       "24               71.115         60.053\n",
       "25               67.574         48.036\n",
       "26               59.621         73.065\n",
       "27               62.483         61.254\n",
       "28               69.319         99.198\n",
       "29               35.394         37.194\n",
       "30               86.741         63.362\n",
       "31               57.351         57.828\n",
       "32               56.780         55.052\n",
       "33                  NaN         69.962\n",
       "34                  NaN         39.020"
      ]
     },
     "execution_count": 21,
     "metadata": {},
     "output_type": "execute_result"
    }
   ],
   "source": [
    "wages_df"
   ]
  },
  {
   "cell_type": "code",
   "execution_count": null,
   "metadata": {},
   "outputs": [],
   "source": []
  },
  {
   "cell_type": "code",
   "execution_count": null,
   "metadata": {},
   "outputs": [],
   "source": []
  },
  {
   "cell_type": "markdown",
   "metadata": {},
   "source": [
    "### Calculate Sample statistic"
   ]
  },
  {
   "cell_type": "code",
   "execution_count": 22,
   "metadata": {},
   "outputs": [
    {
     "data": {
      "text/plain": [
       "0      74.256\n",
       "1      96.234\n",
       "2      89.807\n",
       "3      93.261\n",
       "4     103.030\n",
       "5      74.195\n",
       "6      75.932\n",
       "7      80.742\n",
       "8      39.672\n",
       "9      45.652\n",
       "10     93.083\n",
       "11     63.384\n",
       "12     57.791\n",
       "13     65.145\n",
       "14     96.767\n",
       "15     77.242\n",
       "16     67.056\n",
       "17     64.276\n",
       "18     74.194\n",
       "19     65.360\n",
       "20     73.904\n",
       "21     54.270\n",
       "22     59.045\n",
       "23     68.508\n",
       "24     71.115\n",
       "25     67.574\n",
       "26     59.621\n",
       "27     62.483\n",
       "28     69.319\n",
       "29     35.394\n",
       "30     86.741\n",
       "31     57.351\n",
       "32     56.780\n",
       "Name: Advertising Manager, dtype: float64"
      ]
     },
     "execution_count": 22,
     "metadata": {},
     "output_type": "execute_result"
    }
   ],
   "source": [
    "am1=wages_df.iloc[:33,0]\n",
    "am1"
   ]
  },
  {
   "cell_type": "code",
   "execution_count": null,
   "metadata": {},
   "outputs": [],
   "source": []
  },
  {
   "cell_type": "code",
   "execution_count": null,
   "metadata": {},
   "outputs": [],
   "source": []
  },
  {
   "cell_type": "code",
   "execution_count": null,
   "metadata": {},
   "outputs": [],
   "source": []
  },
  {
   "cell_type": "markdown",
   "metadata": {},
   "source": [
    "### Establish the null and alternate hypothesis"
   ]
  },
  {
   "cell_type": "markdown",
   "metadata": {},
   "source": [
    "H0: μ = μ2                                                                                                               \n",
    "Ha: μ != μ2"
   ]
  },
  {
   "cell_type": "markdown",
   "metadata": {},
   "source": [
    "### Determine the appropriate statistical test"
   ]
  },
  {
   "cell_type": "code",
   "execution_count": 26,
   "metadata": {},
   "outputs": [
    {
     "name": "stdout",
     "output_type": "stream",
     "text": [
      "\n",
      "mean of advertising manager is  70.27830303030304\n",
      "\n",
      "standard deviation of advertising manager is  16.179630804434414\n",
      "\n",
      "variance of advertising manager is  261.780452967803\n",
      "\n",
      "size is  33\n"
     ]
    }
   ],
   "source": [
    "s_mean1=st.mean(am1)\n",
    "print('\\nmean of advertising manager is ',s_mean1)\n",
    "\n",
    "s_sd1=st.stdev(am1)\n",
    "print('\\nstandard deviation of advertising manager is ',s_sd1)\n",
    "\n",
    "s_var1=s_sd1**2\n",
    "print('\\nvariance of advertising manager is ',s_var1)\n",
    "\n",
    "n=len(am1)\n",
    "print('\\nsize is ',n)"
   ]
  },
  {
   "cell_type": "code",
   "execution_count": null,
   "metadata": {},
   "outputs": [],
   "source": []
  },
  {
   "cell_type": "code",
   "execution_count": 27,
   "metadata": {},
   "outputs": [
    {
     "name": "stdout",
     "output_type": "stream",
     "text": [
      "\n",
      "mean of sales manager is  61.52468571428572\n",
      "\n",
      "standard deviation of Sales manager is  13.298461504938054\n",
      "\n",
      "variance of Sales Manager is  176.84907839831928\n",
      "\n",
      "size is  35\n"
     ]
    }
   ],
   "source": [
    "s_mean2=st.mean(wages_df['Sales Manager'])\n",
    "print('\\nmean of sales manager is ',s_mean2)\n",
    "\n",
    "s_sd2=st.stdev(wages_df['Sales Manager'])\n",
    "print('\\nstandard deviation of Sales manager is ',s_sd2)\n",
    "\n",
    "s_var2=s_sd2**2\n",
    "print('\\nvariance of Sales Manager is ',s_var2)\n",
    "\n",
    "n2=len(wages_df['Sales Manager'])\n",
    "print('\\nsize is ',n2)\n"
   ]
  },
  {
   "cell_type": "markdown",
   "metadata": {},
   "source": [
    "### Set the value of alpha"
   ]
  },
  {
   "cell_type": "code",
   "execution_count": 28,
   "metadata": {},
   "outputs": [],
   "source": [
    " # 5% significance level is given\n",
    "alpha=0.05"
   ]
  },
  {
   "cell_type": "markdown",
   "metadata": {},
   "source": [
    "### Establish the decision rule"
   ]
  },
  {
   "cell_type": "markdown",
   "metadata": {},
   "source": [
    "i. If p-value < α/2 : Rejection of Null Hypothesis(H0)                                                              \n",
    "ii. If -z-critical > z-statistic > +z-critical : Rejection of Null Hypothesis(H0)\n"
   ]
  },
  {
   "cell_type": "markdown",
   "metadata": {},
   "source": [
    "### Construct a 95% confidence interval to estimate the difference in the mean between the two departments."
   ]
  },
  {
   "cell_type": "code",
   "execution_count": null,
   "metadata": {},
   "outputs": [],
   "source": []
  },
  {
   "cell_type": "code",
   "execution_count": null,
   "metadata": {},
   "outputs": [],
   "source": []
  },
  {
   "cell_type": "markdown",
   "metadata": {},
   "source": [
    "### Analyze the data"
   ]
  },
  {
   "cell_type": "code",
   "execution_count": 32,
   "metadata": {},
   "outputs": [
    {
     "data": {
      "text/plain": [
       "2.429165013110487"
      ]
     },
     "execution_count": 32,
     "metadata": {},
     "output_type": "execute_result"
    }
   ],
   "source": [
    "z_statistics=(s_mean1-s_mean2)/(math.sqrt(s_var1/n+s_var2/n2))\n",
    "z_statistics"
   ]
  },
  {
   "cell_type": "code",
   "execution_count": 33,
   "metadata": {},
   "outputs": [
    {
     "data": {
      "text/plain": [
       "0.015133642738636223"
      ]
     },
     "execution_count": 33,
     "metadata": {},
     "output_type": "execute_result"
    }
   ],
   "source": [
    "p_value=norm.sf(abs(z_statistics))*2\n",
    "p_value"
   ]
  },
  {
   "cell_type": "code",
   "execution_count": 34,
   "metadata": {},
   "outputs": [
    {
     "data": {
      "text/plain": [
       "1.959963984540054"
      ]
     },
     "execution_count": 34,
     "metadata": {},
     "output_type": "execute_result"
    }
   ],
   "source": [
    "z_critical=norm.ppf(1-alpha/2)\n",
    "z_critical"
   ]
  },
  {
   "cell_type": "markdown",
   "metadata": {},
   "source": [
    "### Reach a statistical conclusion"
   ]
  },
  {
   "cell_type": "markdown",
   "metadata": {},
   "source": [
    "i. If p-value < α/2 : Rejection of Null Hypothesis(H0)                                                     \n",
    "ii. If -z-critical > z-statistic > +z-critical : Rejection of Null Hypothesis(H0)\n",
    "\n",
    "    \n",
    "from our study:\n"
   ]
  },
  {
   "cell_type": "code",
   "execution_count": 38,
   "metadata": {},
   "outputs": [
    {
     "name": "stdout",
     "output_type": "stream",
     "text": [
      "True\n",
      "True\n"
     ]
    }
   ],
   "source": [
    "print(p_value<alpha/2)         # hence rejection will take place here\n",
    "print(z_statistics>z_critical)   # hence rejection will take place"
   ]
  },
  {
   "cell_type": "markdown",
   "metadata": {},
   "source": [
    "### Make a business decision"
   ]
  },
  {
   "cell_type": "code",
   "execution_count": null,
   "metadata": {},
   "outputs": [],
   "source": []
  },
  {
   "cell_type": "markdown",
   "metadata": {},
   "source": [
    "# Learning Consolidation"
   ]
  },
  {
   "cell_type": "markdown",
   "metadata": {},
   "source": [
    "## Hypothesis Test with Type II Error"
   ]
  },
  {
   "cell_type": "markdown",
   "metadata": {},
   "source": [
    "The recent fact reported by the New York Stock Exchange is that the average age of a female shareholder is 44 years. Evan, a stock exchange broker, compares the above-reported data with a randomly selected sample of 68 women from Chicago. Suppose the average age for shareholders in the sample is 45.1 years, with a population standard deviation of 8.7 years.\n",
    "\n",
    "You test to determine whether Evan’s sample data differ significantly enough from the 44-year figure released by the New York Stock Exchange. The sample data declare that Chicago female shareholders are different in age from female shareholders in general. Use alpha=0.05. If no significant difference is noted, what is the probability of committing a Type II error if the average age of a female Chicago shareholder is 45 years?"
   ]
  },
  {
   "cell_type": "markdown",
   "metadata": {},
   "source": [
    "### Establish the null and alternate hypothesis"
   ]
  },
  {
   "cell_type": "code",
   "execution_count": null,
   "metadata": {},
   "outputs": [],
   "source": []
  },
  {
   "cell_type": "markdown",
   "metadata": {},
   "source": [
    "### Determine the appropriate statistical test"
   ]
  },
  {
   "cell_type": "code",
   "execution_count": null,
   "metadata": {},
   "outputs": [],
   "source": []
  },
  {
   "cell_type": "markdown",
   "metadata": {},
   "source": [
    "### Set the value of alpha"
   ]
  },
  {
   "cell_type": "code",
   "execution_count": null,
   "metadata": {},
   "outputs": [],
   "source": []
  },
  {
   "cell_type": "markdown",
   "metadata": {},
   "source": [
    "### Establish the decision rule"
   ]
  },
  {
   "cell_type": "code",
   "execution_count": null,
   "metadata": {},
   "outputs": [],
   "source": []
  },
  {
   "cell_type": "markdown",
   "metadata": {},
   "source": [
    "### Analyze the data"
   ]
  },
  {
   "cell_type": "code",
   "execution_count": null,
   "metadata": {},
   "outputs": [],
   "source": []
  },
  {
   "cell_type": "markdown",
   "metadata": {},
   "source": [
    "### Reach a statistical conclusion"
   ]
  },
  {
   "cell_type": "code",
   "execution_count": null,
   "metadata": {},
   "outputs": [],
   "source": []
  },
  {
   "cell_type": "markdown",
   "metadata": {},
   "source": [
    "### Make a business decision"
   ]
  },
  {
   "cell_type": "code",
   "execution_count": null,
   "metadata": {},
   "outputs": [],
   "source": []
  },
  {
   "cell_type": "markdown",
   "metadata": {},
   "source": [
    "### Analyze the data with the average of a female is 45 "
   ]
  },
  {
   "cell_type": "code",
   "execution_count": null,
   "metadata": {},
   "outputs": [],
   "source": []
  },
  {
   "cell_type": "code",
   "execution_count": null,
   "metadata": {},
   "outputs": [],
   "source": []
  }
 ],
 "metadata": {
  "kernelspec": {
   "display_name": "Python 3 (ipykernel)",
   "language": "python",
   "name": "python3"
  },
  "language_info": {
   "codemirror_mode": {
    "name": "ipython",
    "version": 3
   },
   "file_extension": ".py",
   "mimetype": "text/x-python",
   "name": "python",
   "nbconvert_exporter": "python",
   "pygments_lexer": "ipython3",
   "version": "3.10.2"
  }
 },
 "nbformat": 4,
 "nbformat_minor": 2
}
