{
 "cells": [
  {
   "cell_type": "markdown",
   "metadata": {},
   "source": [
    "# Hypothesis Test - I"
   ]
  },
  {
   "cell_type": "markdown",
   "metadata": {},
   "source": [
    "## Concept session"
   ]
  },
  {
   "cell_type": "markdown",
   "metadata": {},
   "source": [
    "## Demo - 6.3: Right Tailed Hypothesis Test"
   ]
  },
  {
   "cell_type": "markdown",
   "metadata": {},
   "source": [
    "According to the US Department of Agriculture, the average size of farms increased in 2019 compared to 2018. In 2018, the mean farm size was 445.51 acres; In 2019, the average size was 446.92 acres. Suppose an agribusiness researcher believes that the average farm size is higher than the 2018 average of 446.92 acres.\n",
    "\n",
    "To test this notion, data analyst Maya randomly selected 35 farms in the United States and ascertained the average size of each state from county records.\n",
    "\n",
    "Use a 5% level of significance to test her hypothesis. Consider that the number of acres per farm is normally distributed in the population."
   ]
  },
  {
   "cell_type": "code",
   "execution_count": 1,
   "metadata": {},
   "outputs": [],
   "source": [
    "import numpy as np\n",
    "import pandas as pd\n",
    "import statistics as st\n",
    "import math\n",
    "from scipy.stats import norm\n"
   ]
  },
  {
   "cell_type": "markdown",
   "metadata": {},
   "source": [
    "### Establish the null and alternate hypothesis"
   ]
  },
  {
   "cell_type": "code",
   "execution_count": null,
   "metadata": {},
   "outputs": [],
   "source": [
    "H0: the average size of a U.S farm is equal to 442.6 acres in 2019\n",
    "Ha: the average size of a U.S farm is more than 442.6 acres in 2019\n",
    "\n",
    "\n",
    "H0: μ=442.6 acres\n",
    "Ha: μ>442.6 acres"
   ]
  },
  {
   "cell_type": "markdown",
   "metadata": {},
   "source": [
    "### Read data from the source"
   ]
  },
  {
   "cell_type": "code",
   "execution_count": 4,
   "metadata": {},
   "outputs": [
    {
     "data": {
      "text/html": [
       "<div>\n",
       "<style scoped>\n",
       "    .dataframe tbody tr th:only-of-type {\n",
       "        vertical-align: middle;\n",
       "    }\n",
       "\n",
       "    .dataframe tbody tr th {\n",
       "        vertical-align: top;\n",
       "    }\n",
       "\n",
       "    .dataframe thead th {\n",
       "        text-align: right;\n",
       "    }\n",
       "</style>\n",
       "<table border=\"1\" class=\"dataframe\">\n",
       "  <thead>\n",
       "    <tr style=\"text-align: right;\">\n",
       "      <th></th>\n",
       "      <th>State</th>\n",
       "      <th>2018_Number_of_farms</th>\n",
       "      <th>2019_Number_of_farms</th>\n",
       "      <th>2018_Land_in_farms(in1,000acres)</th>\n",
       "      <th>2019_Land_in_farms(in1,000acres)</th>\n",
       "      <th>2018_Average_farm_size(acres)</th>\n",
       "      <th>2019_Average_farm_size(acres)</th>\n",
       "    </tr>\n",
       "  </thead>\n",
       "  <tbody>\n",
       "    <tr>\n",
       "      <th>0</th>\n",
       "      <td>Alabama</td>\n",
       "      <td>39700</td>\n",
       "      <td>38800</td>\n",
       "      <td>8500</td>\n",
       "      <td>8300</td>\n",
       "      <td>214</td>\n",
       "      <td>214</td>\n",
       "    </tr>\n",
       "    <tr>\n",
       "      <th>1</th>\n",
       "      <td>Alaska</td>\n",
       "      <td>1000</td>\n",
       "      <td>1050</td>\n",
       "      <td>850</td>\n",
       "      <td>850</td>\n",
       "      <td>850</td>\n",
       "      <td>810</td>\n",
       "    </tr>\n",
       "    <tr>\n",
       "      <th>2</th>\n",
       "      <td>Arizona</td>\n",
       "      <td>19200</td>\n",
       "      <td>19000</td>\n",
       "      <td>26200</td>\n",
       "      <td>26200</td>\n",
       "      <td>1365</td>\n",
       "      <td>1379</td>\n",
       "    </tr>\n",
       "    <tr>\n",
       "      <th>3</th>\n",
       "      <td>Arkansas</td>\n",
       "      <td>42500</td>\n",
       "      <td>42300</td>\n",
       "      <td>13900</td>\n",
       "      <td>14000</td>\n",
       "      <td>327</td>\n",
       "      <td>331</td>\n",
       "    </tr>\n",
       "    <tr>\n",
       "      <th>4</th>\n",
       "      <td>California</td>\n",
       "      <td>69400</td>\n",
       "      <td>69900</td>\n",
       "      <td>24300</td>\n",
       "      <td>24300</td>\n",
       "      <td>350</td>\n",
       "      <td>348</td>\n",
       "    </tr>\n",
       "  </tbody>\n",
       "</table>\n",
       "</div>"
      ],
      "text/plain": [
       "        State  2018_Number_of_farms  2019_Number_of_farms  \\\n",
       "0     Alabama                 39700                 38800   \n",
       "1      Alaska                  1000                  1050   \n",
       "2     Arizona                 19200                 19000   \n",
       "3    Arkansas                 42500                 42300   \n",
       "4  California                 69400                 69900   \n",
       "\n",
       "   2018_Land_in_farms(in1,000acres)  2019_Land_in_farms(in1,000acres)  \\\n",
       "0                              8500                              8300   \n",
       "1                               850                               850   \n",
       "2                             26200                             26200   \n",
       "3                             13900                             14000   \n",
       "4                             24300                             24300   \n",
       "\n",
       "    2018_Average_farm_size(acres)   2019_Average_farm_size(acres)  \n",
       "0                             214                             214  \n",
       "1                             850                             810  \n",
       "2                            1365                            1379  \n",
       "3                             327                             331  \n",
       "4                             350                             348  "
      ]
     },
     "execution_count": 4,
     "metadata": {},
     "output_type": "execute_result"
    }
   ],
   "source": [
    "farm_df=pd.read_csv(\"DS1_C5_S6_Hypothesis_I_Concept_FarmSize_Data.csv\")\n",
    "farm_df.head()"
   ]
  },
  {
   "cell_type": "code",
   "execution_count": 7,
   "metadata": {},
   "outputs": [
    {
     "data": {
      "text/plain": [
       "Index(['State', '2018_Number_of_farms', '2019_Number_of_farms',\n",
       "       '2018_Land_in_farms(in1,000acres)', '2019_Land_in_farms(in1,000acres)',\n",
       "       ' 2018_Average_farm_size(acres)', ' 2019_Average_farm_size(acres)'],\n",
       "      dtype='object')"
      ]
     },
     "execution_count": 7,
     "metadata": {},
     "output_type": "execute_result"
    }
   ],
   "source": [
    "farm_df.columns"
   ]
  },
  {
   "cell_type": "code",
   "execution_count": 11,
   "metadata": {},
   "outputs": [
    {
     "data": {
      "text/plain": [
       "442.6"
      ]
     },
     "execution_count": 11,
     "metadata": {},
     "output_type": "execute_result"
    }
   ],
   "source": [
    "farm_df[\" 2018_Average_farm_size(acres)\"].mean()"
   ]
  },
  {
   "cell_type": "code",
   "execution_count": 14,
   "metadata": {},
   "outputs": [
    {
     "data": {
      "text/plain": [
       "444.0"
      ]
     },
     "execution_count": 14,
     "metadata": {},
     "output_type": "execute_result"
    }
   ],
   "source": [
    "farm_df[\" 2019_Average_farm_size(acres)\"].mean()"
   ]
  },
  {
   "cell_type": "code",
   "execution_count": 15,
   "metadata": {},
   "outputs": [
    {
     "data": {
      "text/plain": [
       "462.496993922939"
      ]
     },
     "execution_count": 15,
     "metadata": {},
     "output_type": "execute_result"
    }
   ],
   "source": [
    "farm_df[\" 2018_Average_farm_size(acres)\"].std()"
   ]
  },
  {
   "cell_type": "code",
   "execution_count": 16,
   "metadata": {},
   "outputs": [
    {
     "data": {
      "text/plain": [
       "463.4576791986117"
      ]
     },
     "execution_count": 16,
     "metadata": {},
     "output_type": "execute_result"
    }
   ],
   "source": [
    "farm_df[\" 2019_Average_farm_size(acres)\"].std()"
   ]
  },
  {
   "cell_type": "markdown",
   "metadata": {},
   "source": [
    "### Determine the appropriate statistical test"
   ]
  },
  {
   "cell_type": "markdown",
   "metadata": {},
   "source": [
    "Population Mean(2018)=442.6\n",
    "Population SD(2018)=462.496993922939\n",
    "\n",
    "Population Mean(2019)=444.0\n",
    "Population SD(2019)=463.4576791986117\n",
    "\n",
    "Sample size=35\n",
    "\n",
    "We know the population mean and standard deviation, \n",
    "also the sample size is greater than 30, \n",
    "then we can test the hypothesis about a population mean using the z-statistics (standard deviation of the population is known)."
   ]
  },
  {
   "cell_type": "markdown",
   "metadata": {},
   "source": [
    "### Set the value of alpha"
   ]
  },
  {
   "cell_type": "code",
   "execution_count": null,
   "metadata": {},
   "outputs": [],
   "source": []
  },
  {
   "cell_type": "markdown",
   "metadata": {},
   "source": [
    "### Establish the decision rule"
   ]
  },
  {
   "cell_type": "code",
   "execution_count": null,
   "metadata": {},
   "outputs": [],
   "source": []
  },
  {
   "cell_type": "markdown",
   "metadata": {},
   "source": [
    "### Gather the sample data"
   ]
  },
  {
   "cell_type": "code",
   "execution_count": 18,
   "metadata": {},
   "outputs": [
    {
     "data": {
      "text/html": [
       "<div>\n",
       "<style scoped>\n",
       "    .dataframe tbody tr th:only-of-type {\n",
       "        vertical-align: middle;\n",
       "    }\n",
       "\n",
       "    .dataframe tbody tr th {\n",
       "        vertical-align: top;\n",
       "    }\n",
       "\n",
       "    .dataframe thead th {\n",
       "        text-align: right;\n",
       "    }\n",
       "</style>\n",
       "<table border=\"1\" class=\"dataframe\">\n",
       "  <thead>\n",
       "    <tr style=\"text-align: right;\">\n",
       "      <th></th>\n",
       "      <th>State</th>\n",
       "      <th>2018_Number_of_farms</th>\n",
       "      <th>2019_Number_of_farms</th>\n",
       "      <th>2018_Land_in_farms(in1,000acres)</th>\n",
       "      <th>2019_Land_in_farms(in1,000acres)</th>\n",
       "      <th>2018_Average_farm_size(acres)</th>\n",
       "      <th>2019_Average_farm_size(acres)</th>\n",
       "    </tr>\n",
       "  </thead>\n",
       "  <tbody>\n",
       "    <tr>\n",
       "      <th>27</th>\n",
       "      <td>Nevada</td>\n",
       "      <td>3400</td>\n",
       "      <td>3350</td>\n",
       "      <td>6100</td>\n",
       "      <td>6100</td>\n",
       "      <td>1794</td>\n",
       "      <td>1821</td>\n",
       "    </tr>\n",
       "    <tr>\n",
       "      <th>35</th>\n",
       "      <td>Oklahoma</td>\n",
       "      <td>77300</td>\n",
       "      <td>77300</td>\n",
       "      <td>34200</td>\n",
       "      <td>34400</td>\n",
       "      <td>442</td>\n",
       "      <td>445</td>\n",
       "    </tr>\n",
       "    <tr>\n",
       "      <th>40</th>\n",
       "      <td>South Dakota</td>\n",
       "      <td>29600</td>\n",
       "      <td>29600</td>\n",
       "      <td>43200</td>\n",
       "      <td>43200</td>\n",
       "      <td>459</td>\n",
       "      <td>459</td>\n",
       "    </tr>\n",
       "    <tr>\n",
       "      <th>38</th>\n",
       "      <td>Rhode Island</td>\n",
       "      <td>1100</td>\n",
       "      <td>1100</td>\n",
       "      <td>60</td>\n",
       "      <td>60</td>\n",
       "      <td>55</td>\n",
       "      <td>55</td>\n",
       "    </tr>\n",
       "    <tr>\n",
       "      <th>2</th>\n",
       "      <td>Arizona</td>\n",
       "      <td>19200</td>\n",
       "      <td>19000</td>\n",
       "      <td>26200</td>\n",
       "      <td>26200</td>\n",
       "      <td>1365</td>\n",
       "      <td>1379</td>\n",
       "    </tr>\n",
       "    <tr>\n",
       "      <th>3</th>\n",
       "      <td>Arkansas</td>\n",
       "      <td>42500</td>\n",
       "      <td>42300</td>\n",
       "      <td>13900</td>\n",
       "      <td>14000</td>\n",
       "      <td>327</td>\n",
       "      <td>331</td>\n",
       "    </tr>\n",
       "    <tr>\n",
       "      <th>48</th>\n",
       "      <td>Wisconsin</td>\n",
       "      <td>64800</td>\n",
       "      <td>64900</td>\n",
       "      <td>14300</td>\n",
       "      <td>14300</td>\n",
       "      <td>223</td>\n",
       "      <td>220</td>\n",
       "    </tr>\n",
       "    <tr>\n",
       "      <th>29</th>\n",
       "      <td>New Jersey</td>\n",
       "      <td>9900</td>\n",
       "      <td>9900</td>\n",
       "      <td>750</td>\n",
       "      <td>750</td>\n",
       "      <td>76</td>\n",
       "      <td>76</td>\n",
       "    </tr>\n",
       "    <tr>\n",
       "      <th>46</th>\n",
       "      <td>Washington</td>\n",
       "      <td>35700</td>\n",
       "      <td>35600</td>\n",
       "      <td>14700</td>\n",
       "      <td>14600</td>\n",
       "      <td>412</td>\n",
       "      <td>410</td>\n",
       "    </tr>\n",
       "    <tr>\n",
       "      <th>31</th>\n",
       "      <td>New York</td>\n",
       "      <td>33400</td>\n",
       "      <td>33400</td>\n",
       "      <td>6900</td>\n",
       "      <td>6900</td>\n",
       "      <td>207</td>\n",
       "      <td>207</td>\n",
       "    </tr>\n",
       "    <tr>\n",
       "      <th>32</th>\n",
       "      <td>North Carolina</td>\n",
       "      <td>46400</td>\n",
       "      <td>46200</td>\n",
       "      <td>8400</td>\n",
       "      <td>8400</td>\n",
       "      <td>181</td>\n",
       "      <td>182</td>\n",
       "    </tr>\n",
       "    <tr>\n",
       "      <th>39</th>\n",
       "      <td>South Carolina</td>\n",
       "      <td>24600</td>\n",
       "      <td>24600</td>\n",
       "      <td>4800</td>\n",
       "      <td>4800</td>\n",
       "      <td>195</td>\n",
       "      <td>195</td>\n",
       "    </tr>\n",
       "    <tr>\n",
       "      <th>21</th>\n",
       "      <td>Michigan</td>\n",
       "      <td>47000</td>\n",
       "      <td>47000</td>\n",
       "      <td>9800</td>\n",
       "      <td>9800</td>\n",
       "      <td>209</td>\n",
       "      <td>209</td>\n",
       "    </tr>\n",
       "    <tr>\n",
       "      <th>36</th>\n",
       "      <td>Oregon</td>\n",
       "      <td>37200</td>\n",
       "      <td>37200</td>\n",
       "      <td>16000</td>\n",
       "      <td>15800</td>\n",
       "      <td>430</td>\n",
       "      <td>425</td>\n",
       "    </tr>\n",
       "    <tr>\n",
       "      <th>19</th>\n",
       "      <td>Maryland</td>\n",
       "      <td>12400</td>\n",
       "      <td>12400</td>\n",
       "      <td>2000</td>\n",
       "      <td>2000</td>\n",
       "      <td>161</td>\n",
       "      <td>161</td>\n",
       "    </tr>\n",
       "    <tr>\n",
       "      <th>42</th>\n",
       "      <td>Texas</td>\n",
       "      <td>247000</td>\n",
       "      <td>247000</td>\n",
       "      <td>127000</td>\n",
       "      <td>126500</td>\n",
       "      <td>514</td>\n",
       "      <td>512</td>\n",
       "    </tr>\n",
       "    <tr>\n",
       "      <th>49</th>\n",
       "      <td>Wyoming</td>\n",
       "      <td>11900</td>\n",
       "      <td>12000</td>\n",
       "      <td>29000</td>\n",
       "      <td>29000</td>\n",
       "      <td>437</td>\n",
       "      <td>417</td>\n",
       "    </tr>\n",
       "    <tr>\n",
       "      <th>26</th>\n",
       "      <td>Nebraska</td>\n",
       "      <td>45900</td>\n",
       "      <td>45700</td>\n",
       "      <td>45000</td>\n",
       "      <td>44900</td>\n",
       "      <td>980</td>\n",
       "      <td>982</td>\n",
       "    </tr>\n",
       "    <tr>\n",
       "      <th>22</th>\n",
       "      <td>Minnesot</td>\n",
       "      <td>68500</td>\n",
       "      <td>68000</td>\n",
       "      <td>25500</td>\n",
       "      <td>25500</td>\n",
       "      <td>372</td>\n",
       "      <td>375</td>\n",
       "    </tr>\n",
       "    <tr>\n",
       "      <th>13</th>\n",
       "      <td>Indiana</td>\n",
       "      <td>56100</td>\n",
       "      <td>56000</td>\n",
       "      <td>15000</td>\n",
       "      <td>14900</td>\n",
       "      <td>267</td>\n",
       "      <td>266</td>\n",
       "    </tr>\n",
       "    <tr>\n",
       "      <th>41</th>\n",
       "      <td>Tennessee</td>\n",
       "      <td>70000</td>\n",
       "      <td>69700</td>\n",
       "      <td>10900</td>\n",
       "      <td>10800</td>\n",
       "      <td>158</td>\n",
       "      <td>155</td>\n",
       "    </tr>\n",
       "    <tr>\n",
       "      <th>17</th>\n",
       "      <td>Louisiana</td>\n",
       "      <td>27400</td>\n",
       "      <td>27400</td>\n",
       "      <td>8000</td>\n",
       "      <td>8000</td>\n",
       "      <td>292</td>\n",
       "      <td>292</td>\n",
       "    </tr>\n",
       "    <tr>\n",
       "      <th>45</th>\n",
       "      <td>Virginia</td>\n",
       "      <td>42500</td>\n",
       "      <td>42400</td>\n",
       "      <td>7800</td>\n",
       "      <td>7800</td>\n",
       "      <td>184</td>\n",
       "      <td>184</td>\n",
       "    </tr>\n",
       "    <tr>\n",
       "      <th>24</th>\n",
       "      <td>Missouri</td>\n",
       "      <td>95000</td>\n",
       "      <td>95200</td>\n",
       "      <td>27700</td>\n",
       "      <td>27600</td>\n",
       "      <td>292</td>\n",
       "      <td>290</td>\n",
       "    </tr>\n",
       "    <tr>\n",
       "      <th>23</th>\n",
       "      <td>Mississippi</td>\n",
       "      <td>34700</td>\n",
       "      <td>34500</td>\n",
       "      <td>10400</td>\n",
       "      <td>10400</td>\n",
       "      <td>300</td>\n",
       "      <td>301</td>\n",
       "    </tr>\n",
       "    <tr>\n",
       "      <th>4</th>\n",
       "      <td>California</td>\n",
       "      <td>69400</td>\n",
       "      <td>69900</td>\n",
       "      <td>24300</td>\n",
       "      <td>24300</td>\n",
       "      <td>350</td>\n",
       "      <td>348</td>\n",
       "    </tr>\n",
       "    <tr>\n",
       "      <th>33</th>\n",
       "      <td>North Dakota</td>\n",
       "      <td>26100</td>\n",
       "      <td>26100</td>\n",
       "      <td>39300</td>\n",
       "      <td>39300</td>\n",
       "      <td>1233</td>\n",
       "      <td>1233</td>\n",
       "    </tr>\n",
       "    <tr>\n",
       "      <th>14</th>\n",
       "      <td>Iowa</td>\n",
       "      <td>86000</td>\n",
       "      <td>85300</td>\n",
       "      <td>30600</td>\n",
       "      <td>30600</td>\n",
       "      <td>356</td>\n",
       "      <td>359</td>\n",
       "    </tr>\n",
       "    <tr>\n",
       "      <th>30</th>\n",
       "      <td>New Mexico</td>\n",
       "      <td>24700</td>\n",
       "      <td>24800</td>\n",
       "      <td>40500</td>\n",
       "      <td>40000</td>\n",
       "      <td>1649</td>\n",
       "      <td>1613</td>\n",
       "    </tr>\n",
       "    <tr>\n",
       "      <th>10</th>\n",
       "      <td>Hawaii</td>\n",
       "      <td>7300</td>\n",
       "      <td>7300</td>\n",
       "      <td>1100</td>\n",
       "      <td>1100</td>\n",
       "      <td>151</td>\n",
       "      <td>151</td>\n",
       "    </tr>\n",
       "    <tr>\n",
       "      <th>28</th>\n",
       "      <td>New Hampshire</td>\n",
       "      <td>4100</td>\n",
       "      <td>4100</td>\n",
       "      <td>430</td>\n",
       "      <td>430</td>\n",
       "      <td>105</td>\n",
       "      <td>105</td>\n",
       "    </tr>\n",
       "    <tr>\n",
       "      <th>44</th>\n",
       "      <td>Vermont</td>\n",
       "      <td>6800</td>\n",
       "      <td>6800</td>\n",
       "      <td>1200</td>\n",
       "      <td>1200</td>\n",
       "      <td>176</td>\n",
       "      <td>176</td>\n",
       "    </tr>\n",
       "    <tr>\n",
       "      <th>34</th>\n",
       "      <td>Ohio</td>\n",
       "      <td>77800</td>\n",
       "      <td>77800</td>\n",
       "      <td>13900</td>\n",
       "      <td>13600</td>\n",
       "      <td>179</td>\n",
       "      <td>175</td>\n",
       "    </tr>\n",
       "    <tr>\n",
       "      <th>18</th>\n",
       "      <td>Maine</td>\n",
       "      <td>7600</td>\n",
       "      <td>7600</td>\n",
       "      <td>1300</td>\n",
       "      <td>1300</td>\n",
       "      <td>171</td>\n",
       "      <td>171</td>\n",
       "    </tr>\n",
       "    <tr>\n",
       "      <th>20</th>\n",
       "      <td>Massachusetts</td>\n",
       "      <td>7200</td>\n",
       "      <td>7200</td>\n",
       "      <td>500</td>\n",
       "      <td>500</td>\n",
       "      <td>69</td>\n",
       "      <td>69</td>\n",
       "    </tr>\n",
       "  </tbody>\n",
       "</table>\n",
       "</div>"
      ],
      "text/plain": [
       "             State  2018_Number_of_farms  2019_Number_of_farms  \\\n",
       "27          Nevada                  3400                  3350   \n",
       "35        Oklahoma                 77300                 77300   \n",
       "40    South Dakota                 29600                 29600   \n",
       "38    Rhode Island                  1100                  1100   \n",
       "2          Arizona                 19200                 19000   \n",
       "3         Arkansas                 42500                 42300   \n",
       "48       Wisconsin                 64800                 64900   \n",
       "29      New Jersey                  9900                  9900   \n",
       "46      Washington                 35700                 35600   \n",
       "31        New York                 33400                 33400   \n",
       "32  North Carolina                 46400                 46200   \n",
       "39  South Carolina                 24600                 24600   \n",
       "21        Michigan                 47000                 47000   \n",
       "36          Oregon                 37200                 37200   \n",
       "19        Maryland                 12400                 12400   \n",
       "42           Texas                247000                247000   \n",
       "49         Wyoming                 11900                 12000   \n",
       "26        Nebraska                 45900                 45700   \n",
       "22        Minnesot                 68500                 68000   \n",
       "13         Indiana                 56100                 56000   \n",
       "41       Tennessee                 70000                 69700   \n",
       "17       Louisiana                 27400                 27400   \n",
       "45        Virginia                 42500                 42400   \n",
       "24        Missouri                 95000                 95200   \n",
       "23     Mississippi                 34700                 34500   \n",
       "4       California                 69400                 69900   \n",
       "33    North Dakota                 26100                 26100   \n",
       "14            Iowa                 86000                 85300   \n",
       "30      New Mexico                 24700                 24800   \n",
       "10          Hawaii                  7300                  7300   \n",
       "28   New Hampshire                  4100                  4100   \n",
       "44         Vermont                  6800                  6800   \n",
       "34            Ohio                 77800                 77800   \n",
       "18           Maine                  7600                  7600   \n",
       "20   Massachusetts                  7200                  7200   \n",
       "\n",
       "    2018_Land_in_farms(in1,000acres)  2019_Land_in_farms(in1,000acres)  \\\n",
       "27                              6100                              6100   \n",
       "35                             34200                             34400   \n",
       "40                             43200                             43200   \n",
       "38                                60                                60   \n",
       "2                              26200                             26200   \n",
       "3                              13900                             14000   \n",
       "48                             14300                             14300   \n",
       "29                               750                               750   \n",
       "46                             14700                             14600   \n",
       "31                              6900                              6900   \n",
       "32                              8400                              8400   \n",
       "39                              4800                              4800   \n",
       "21                              9800                              9800   \n",
       "36                             16000                             15800   \n",
       "19                              2000                              2000   \n",
       "42                            127000                            126500   \n",
       "49                             29000                             29000   \n",
       "26                             45000                             44900   \n",
       "22                             25500                             25500   \n",
       "13                             15000                             14900   \n",
       "41                             10900                             10800   \n",
       "17                              8000                              8000   \n",
       "45                              7800                              7800   \n",
       "24                             27700                             27600   \n",
       "23                             10400                             10400   \n",
       "4                              24300                             24300   \n",
       "33                             39300                             39300   \n",
       "14                             30600                             30600   \n",
       "30                             40500                             40000   \n",
       "10                              1100                              1100   \n",
       "28                               430                               430   \n",
       "44                              1200                              1200   \n",
       "34                             13900                             13600   \n",
       "18                              1300                              1300   \n",
       "20                               500                               500   \n",
       "\n",
       "     2018_Average_farm_size(acres)   2019_Average_farm_size(acres)  \n",
       "27                            1794                            1821  \n",
       "35                             442                             445  \n",
       "40                             459                             459  \n",
       "38                              55                              55  \n",
       "2                             1365                            1379  \n",
       "3                              327                             331  \n",
       "48                             223                             220  \n",
       "29                              76                              76  \n",
       "46                             412                             410  \n",
       "31                             207                             207  \n",
       "32                             181                             182  \n",
       "39                             195                             195  \n",
       "21                             209                             209  \n",
       "36                             430                             425  \n",
       "19                             161                             161  \n",
       "42                             514                             512  \n",
       "49                             437                             417  \n",
       "26                             980                             982  \n",
       "22                             372                             375  \n",
       "13                             267                             266  \n",
       "41                             158                             155  \n",
       "17                             292                             292  \n",
       "45                             184                             184  \n",
       "24                             292                             290  \n",
       "23                             300                             301  \n",
       "4                              350                             348  \n",
       "33                            1233                            1233  \n",
       "14                             356                             359  \n",
       "30                            1649                            1613  \n",
       "10                             151                             151  \n",
       "28                             105                             105  \n",
       "44                             176                             176  \n",
       "34                             179                             175  \n",
       "18                             171                             171  \n",
       "20                              69                              69  "
      ]
     },
     "execution_count": 18,
     "metadata": {},
     "output_type": "execute_result"
    }
   ],
   "source": [
    "farm_df_sample= farm_df.sample(n=35,\n",
    "                               random_state=1)\n",
    "\n",
    "farm_df_sample"
   ]
  },
  {
   "cell_type": "markdown",
   "metadata": {},
   "source": [
    "### Calculate sample mean"
   ]
  },
  {
   "cell_type": "code",
   "execution_count": 25,
   "metadata": {},
   "outputs": [
    {
     "name": "stdout",
     "output_type": "stream",
     "text": [
      "Sample Mean : 421.4\n",
      "Sample Standard Deviation : 438.62426638163043\n"
     ]
    }
   ],
   "source": [
    "#sample mean:\n",
    "\n",
    "\n",
    "sample_mean=farm_df_sample[' 2019_Average_farm_size(acres)'].mean()\n",
    "\n",
    "print(\"Sample Mean :\",sample_mean)\n",
    "\n",
    "\n",
    "#sample standard deviation:\n",
    "\n",
    "\n",
    "sample_std=farm_df_sample[' 2019_Average_farm_size(acres)'].std()\n",
    "\n",
    "print(\"Sample Standard Deviation :\",sample_std)"
   ]
  },
  {
   "cell_type": "markdown",
   "metadata": {},
   "source": [
    "### Analyze the data"
   ]
  },
  {
   "cell_type": "code",
   "execution_count": null,
   "metadata": {},
   "outputs": [],
   "source": []
  },
  {
   "cell_type": "markdown",
   "metadata": {},
   "source": [
    "#To find the p-value associated with a z-score in Python, we can use the scipy.stats.norm.sf() function, which uses the following syntax:\n",
    "\n",
    "scipy.stats.norm.sf(abs(x))"
   ]
  },
  {
   "cell_type": "markdown",
   "metadata": {},
   "source": [
    "### Reach a statistical conclusion"
   ]
  },
  {
   "cell_type": "code",
   "execution_count": null,
   "metadata": {},
   "outputs": [],
   "source": []
  },
  {
   "cell_type": "markdown",
   "metadata": {},
   "source": [
    "### Make a business decision"
   ]
  },
  {
   "cell_type": "code",
   "execution_count": null,
   "metadata": {},
   "outputs": [],
   "source": []
  },
  {
   "cell_type": "markdown",
   "metadata": {},
   "source": [
    "## Demo - 6.4: Left tailed Hypothesis Test"
   ]
  },
  {
   "cell_type": "markdown",
   "metadata": {},
   "source": [
    "A survey was conducted among managing directors of manufacturing plants in Glasgow, rated between 1-5 Likert scale. The mean of the survey response was 4.30 with a population standard deviation of 0.574. U.S. supply chain analysts believe that American manufacturing managers would not rate highly and conduct a hypothesis to prove their theory. Determine whether U.S. managers rate significantly lesser than the mean 4.30 ascertained in the U.K with a 10% confidence level. Use the following ratings from U.S. managers for the test.\n",
    "![](rating.png)\n"
   ]
  },
  {
   "cell_type": "markdown",
   "metadata": {},
   "source": [
    "### Establish the null and alternate hypothesis"
   ]
  },
  {
   "cell_type": "markdown",
   "metadata": {},
   "source": [
    "H0: the average rating is equal to 4.3\n",
    "Ha: the average rating is less than 4.3"
   ]
  },
  {
   "cell_type": "markdown",
   "metadata": {},
   "source": [
    "### Determine the appropriate statistical test"
   ]
  },
  {
   "cell_type": "markdown",
   "metadata": {},
   "source": [
    "Our known parameter/statistic:\n",
    "    \n",
    "Population mean (µ) = 4.3\n",
    "Population standard deviation (σ) = 0.574\n",
    "Sample size(n) = 32, which is greater than 30\n",
    "\n",
    "Population data is normally distributed.\n",
    "\n",
    "We will test the hypothesis about a population mean using the z-statistics \n",
    "(standard deviation of the populationis known)."
   ]
  },
  {
   "cell_type": "markdown",
   "metadata": {},
   "source": [
    "### Set the value of alpha"
   ]
  },
  {
   "cell_type": "markdown",
   "metadata": {},
   "source": [
    "It is given that a 10% level of significance is to be used to test the hypothesis.\n",
    "alpha (α) = 0.10"
   ]
  },
  {
   "cell_type": "markdown",
   "metadata": {},
   "source": [
    "### Establish the decision rule"
   ]
  },
  {
   "cell_type": "markdown",
   "metadata": {},
   "source": [
    "i. If p-value < α : Rejection of Null Hypothesis(H0)\n",
    "ii. If -z-critical > z-statistic > +z-critical : Rejection of Null Hypothesis(H0)"
   ]
  },
  {
   "cell_type": "markdown",
   "metadata": {},
   "source": [
    "### Calculate sample  mean"
   ]
  },
  {
   "cell_type": "code",
   "execution_count": 26,
   "metadata": {},
   "outputs": [
    {
     "name": "stdout",
     "output_type": "stream",
     "text": [
      "Sample Mean = 4.15625\n"
     ]
    }
   ],
   "source": [
    "sample_ratings=[3,4,5,5,4,5,5,4,4,4,4,4,4,4,4,5,4,4,4,3,4,4,4,3,5,4,4,5,4,4,4,5]\n",
    "\n",
    "sample_mean=st.mean(sample_ratings)\n",
    "\n",
    "print(\"Sample Mean =\",sample_mean)"
   ]
  },
  {
   "cell_type": "markdown",
   "metadata": {},
   "source": [
    "### Analyze the data"
   ]
  },
  {
   "cell_type": "code",
   "execution_count": 30,
   "metadata": {},
   "outputs": [
    {
     "name": "stdout",
     "output_type": "stream",
     "text": [
      "The Z statistics is  -1.4166773490671232\n",
      "The p_value is 0.07828864121333116\n",
      "The z-critical value is -1.2815515655446004\n"
     ]
    }
   ],
   "source": [
    "alpha=0.1\n",
    "p_mean =4.3\n",
    "p_sd=0.574\n",
    "n=len(sample_ratings)\n",
    "\n",
    "z_statistics = (sample_mean-p_mean) / (p_sd/math.sqrt(n))\n",
    "print(\"The Z statistics is \", z_statistics)\n",
    "\n",
    "p_value = norm.sf(abs(z_statistics))\n",
    "print(\"The p_value is \"+str(p_value))\n",
    "\n",
    "z_critical = norm.ppf(alpha)\n",
    "print(\"The z-critical value is \"+str(z_critical))"
   ]
  },
  {
   "cell_type": "code",
   "execution_count": 29,
   "metadata": {},
   "outputs": [
    {
     "name": "stdout",
     "output_type": "stream",
     "text": [
      "True\n",
      "True\n"
     ]
    }
   ],
   "source": [
    "print(p_value<alpha)\n",
    "print(z_statistics<z_critical)"
   ]
  },
  {
   "cell_type": "markdown",
   "metadata": {},
   "source": [
    "### Reach a statistical conclusion"
   ]
  },
  {
   "cell_type": "code",
   "execution_count": null,
   "metadata": {},
   "outputs": [],
   "source": []
  },
  {
   "cell_type": "markdown",
   "metadata": {},
   "source": [
    "### Make the business decision"
   ]
  },
  {
   "cell_type": "code",
   "execution_count": null,
   "metadata": {},
   "outputs": [],
   "source": []
  },
  {
   "cell_type": "markdown",
   "metadata": {},
   "source": [
    "## Demo - 6.5: Hypothesis Test with Two Samples"
   ]
  },
  {
   "cell_type": "markdown",
   "metadata": {},
   "source": [
    "A random sample of the annual salary of 33 advertising managers is selected from the United States. The advertising managers are contacted by telephone and asked about their annual salary. A similar random sample was selected for 35 sales managers.\n",
    "\n",
    "Christopher, a business analyst, tests whether there is a difference between the average wage of an advertising manager and a sales manager. Use the 5% significance level for the test."
   ]
  },
  {
   "cell_type": "markdown",
   "metadata": {},
   "source": [
    "### Read data from the source"
   ]
  },
  {
   "cell_type": "code",
   "execution_count": 2,
   "metadata": {
    "scrolled": true
   },
   "outputs": [
    {
     "data": {
      "text/html": [
       "<div>\n",
       "<style scoped>\n",
       "    .dataframe tbody tr th:only-of-type {\n",
       "        vertical-align: middle;\n",
       "    }\n",
       "\n",
       "    .dataframe tbody tr th {\n",
       "        vertical-align: top;\n",
       "    }\n",
       "\n",
       "    .dataframe thead th {\n",
       "        text-align: right;\n",
       "    }\n",
       "</style>\n",
       "<table border=\"1\" class=\"dataframe\">\n",
       "  <thead>\n",
       "    <tr style=\"text-align: right;\">\n",
       "      <th></th>\n",
       "      <th>Advertising Manager</th>\n",
       "      <th>Sales Manager</th>\n",
       "    </tr>\n",
       "  </thead>\n",
       "  <tbody>\n",
       "    <tr>\n",
       "      <th>0</th>\n",
       "      <td>74.256</td>\n",
       "      <td>71.492</td>\n",
       "    </tr>\n",
       "    <tr>\n",
       "      <th>1</th>\n",
       "      <td>96.234</td>\n",
       "      <td>67.814</td>\n",
       "    </tr>\n",
       "    <tr>\n",
       "      <th>2</th>\n",
       "      <td>89.807</td>\n",
       "      <td>56.470</td>\n",
       "    </tr>\n",
       "    <tr>\n",
       "      <th>3</th>\n",
       "      <td>93.261</td>\n",
       "      <td>72.401</td>\n",
       "    </tr>\n",
       "    <tr>\n",
       "      <th>4</th>\n",
       "      <td>103.030</td>\n",
       "      <td>71.804</td>\n",
       "    </tr>\n",
       "    <tr>\n",
       "      <th>5</th>\n",
       "      <td>74.195</td>\n",
       "      <td>46.394</td>\n",
       "    </tr>\n",
       "    <tr>\n",
       "      <th>6</th>\n",
       "      <td>75.932</td>\n",
       "      <td>54.449</td>\n",
       "    </tr>\n",
       "    <tr>\n",
       "      <th>7</th>\n",
       "      <td>80.742</td>\n",
       "      <td>59.676</td>\n",
       "    </tr>\n",
       "    <tr>\n",
       "      <th>8</th>\n",
       "      <td>39.672</td>\n",
       "      <td>63.369</td>\n",
       "    </tr>\n",
       "    <tr>\n",
       "      <th>9</th>\n",
       "      <td>45.652</td>\n",
       "      <td>43.649</td>\n",
       "    </tr>\n",
       "    <tr>\n",
       "      <th>10</th>\n",
       "      <td>93.083</td>\n",
       "      <td>63.508</td>\n",
       "    </tr>\n",
       "    <tr>\n",
       "      <th>11</th>\n",
       "      <td>63.384</td>\n",
       "      <td>58.653</td>\n",
       "    </tr>\n",
       "    <tr>\n",
       "      <th>12</th>\n",
       "      <td>57.791</td>\n",
       "      <td>71.351</td>\n",
       "    </tr>\n",
       "    <tr>\n",
       "      <th>13</th>\n",
       "      <td>65.145</td>\n",
       "      <td>72.790</td>\n",
       "    </tr>\n",
       "    <tr>\n",
       "      <th>14</th>\n",
       "      <td>96.767</td>\n",
       "      <td>59.505</td>\n",
       "    </tr>\n",
       "    <tr>\n",
       "      <th>15</th>\n",
       "      <td>77.242</td>\n",
       "      <td>37.386</td>\n",
       "    </tr>\n",
       "    <tr>\n",
       "      <th>16</th>\n",
       "      <td>67.056</td>\n",
       "      <td>67.160</td>\n",
       "    </tr>\n",
       "    <tr>\n",
       "      <th>17</th>\n",
       "      <td>64.276</td>\n",
       "      <td>83.849</td>\n",
       "    </tr>\n",
       "    <tr>\n",
       "      <th>18</th>\n",
       "      <td>74.194</td>\n",
       "      <td>42.494</td>\n",
       "    </tr>\n",
       "    <tr>\n",
       "      <th>19</th>\n",
       "      <td>65.360</td>\n",
       "      <td>54.335</td>\n",
       "    </tr>\n",
       "    <tr>\n",
       "      <th>20</th>\n",
       "      <td>73.904</td>\n",
       "      <td>66.035</td>\n",
       "    </tr>\n",
       "    <tr>\n",
       "      <th>21</th>\n",
       "      <td>54.270</td>\n",
       "      <td>77.136</td>\n",
       "    </tr>\n",
       "    <tr>\n",
       "      <th>22</th>\n",
       "      <td>59.045</td>\n",
       "      <td>61.261</td>\n",
       "    </tr>\n",
       "    <tr>\n",
       "      <th>23</th>\n",
       "      <td>68.508</td>\n",
       "      <td>66.359</td>\n",
       "    </tr>\n",
       "    <tr>\n",
       "      <th>24</th>\n",
       "      <td>71.115</td>\n",
       "      <td>60.053</td>\n",
       "    </tr>\n",
       "    <tr>\n",
       "      <th>25</th>\n",
       "      <td>67.574</td>\n",
       "      <td>48.036</td>\n",
       "    </tr>\n",
       "    <tr>\n",
       "      <th>26</th>\n",
       "      <td>59.621</td>\n",
       "      <td>73.065</td>\n",
       "    </tr>\n",
       "    <tr>\n",
       "      <th>27</th>\n",
       "      <td>62.483</td>\n",
       "      <td>61.254</td>\n",
       "    </tr>\n",
       "    <tr>\n",
       "      <th>28</th>\n",
       "      <td>69.319</td>\n",
       "      <td>99.198</td>\n",
       "    </tr>\n",
       "    <tr>\n",
       "      <th>29</th>\n",
       "      <td>35.394</td>\n",
       "      <td>37.194</td>\n",
       "    </tr>\n",
       "    <tr>\n",
       "      <th>30</th>\n",
       "      <td>86.741</td>\n",
       "      <td>63.362</td>\n",
       "    </tr>\n",
       "    <tr>\n",
       "      <th>31</th>\n",
       "      <td>57.351</td>\n",
       "      <td>57.828</td>\n",
       "    </tr>\n",
       "    <tr>\n",
       "      <th>32</th>\n",
       "      <td>56.780</td>\n",
       "      <td>55.052</td>\n",
       "    </tr>\n",
       "    <tr>\n",
       "      <th>33</th>\n",
       "      <td>NaN</td>\n",
       "      <td>69.962</td>\n",
       "    </tr>\n",
       "    <tr>\n",
       "      <th>34</th>\n",
       "      <td>NaN</td>\n",
       "      <td>39.020</td>\n",
       "    </tr>\n",
       "  </tbody>\n",
       "</table>\n",
       "</div>"
      ],
      "text/plain": [
       "    Advertising Manager  Sales Manager\n",
       "0                74.256         71.492\n",
       "1                96.234         67.814\n",
       "2                89.807         56.470\n",
       "3                93.261         72.401\n",
       "4               103.030         71.804\n",
       "5                74.195         46.394\n",
       "6                75.932         54.449\n",
       "7                80.742         59.676\n",
       "8                39.672         63.369\n",
       "9                45.652         43.649\n",
       "10               93.083         63.508\n",
       "11               63.384         58.653\n",
       "12               57.791         71.351\n",
       "13               65.145         72.790\n",
       "14               96.767         59.505\n",
       "15               77.242         37.386\n",
       "16               67.056         67.160\n",
       "17               64.276         83.849\n",
       "18               74.194         42.494\n",
       "19               65.360         54.335\n",
       "20               73.904         66.035\n",
       "21               54.270         77.136\n",
       "22               59.045         61.261\n",
       "23               68.508         66.359\n",
       "24               71.115         60.053\n",
       "25               67.574         48.036\n",
       "26               59.621         73.065\n",
       "27               62.483         61.254\n",
       "28               69.319         99.198\n",
       "29               35.394         37.194\n",
       "30               86.741         63.362\n",
       "31               57.351         57.828\n",
       "32               56.780         55.052\n",
       "33                  NaN         69.962\n",
       "34                  NaN         39.020"
      ]
     },
     "execution_count": 2,
     "metadata": {},
     "output_type": "execute_result"
    }
   ],
   "source": [
    "wages_df=pd.read_csv(\"DS1_C5_S6_Hypothesis_I_Concept_Wages_Data.csv\")\n",
    "wages_df"
   ]
  },
  {
   "cell_type": "code",
   "execution_count": 3,
   "metadata": {},
   "outputs": [
    {
     "data": {
      "text/plain": [
       "Advertising Manager    70.278303\n",
       "Sales Manager          61.524686\n",
       "dtype: float64"
      ]
     },
     "execution_count": 3,
     "metadata": {},
     "output_type": "execute_result"
    }
   ],
   "source": [
    "x_x=wages_df.mean()\n",
    "x_x"
   ]
  },
  {
   "cell_type": "markdown",
   "metadata": {},
   "source": [
    "### Calculate Sample statistic"
   ]
  },
  {
   "cell_type": "code",
   "execution_count": 4,
   "metadata": {},
   "outputs": [
    {
     "data": {
      "text/plain": [
       "0      74.256\n",
       "1      96.234\n",
       "2      89.807\n",
       "3      93.261\n",
       "4     103.030\n",
       "5      74.195\n",
       "6      75.932\n",
       "7      80.742\n",
       "8      39.672\n",
       "9      45.652\n",
       "10     93.083\n",
       "11     63.384\n",
       "12     57.791\n",
       "13     65.145\n",
       "14     96.767\n",
       "15     77.242\n",
       "16     67.056\n",
       "17     64.276\n",
       "18     74.194\n",
       "19     65.360\n",
       "20     73.904\n",
       "21     54.270\n",
       "22     59.045\n",
       "23     68.508\n",
       "24     71.115\n",
       "25     67.574\n",
       "26     59.621\n",
       "27     62.483\n",
       "28     69.319\n",
       "29     35.394\n",
       "30     86.741\n",
       "31     57.351\n",
       "32     56.780\n",
       "Name: Advertising Manager, dtype: float64"
      ]
     },
     "execution_count": 4,
     "metadata": {},
     "output_type": "execute_result"
    }
   ],
   "source": [
    "sample_adv_m=wages_df.iloc[:33,0]\n",
    "sample_adv_m"
   ]
  },
  {
   "cell_type": "code",
   "execution_count": 5,
   "metadata": {},
   "outputs": [
    {
     "data": {
      "text/plain": [
       "70.27830303030304"
      ]
     },
     "execution_count": 5,
     "metadata": {},
     "output_type": "execute_result"
    }
   ],
   "source": [
    "sample_adv_mean=sample_adv_m.mean()\n",
    "sample_adv_mean"
   ]
  },
  {
   "cell_type": "code",
   "execution_count": 6,
   "metadata": {},
   "outputs": [
    {
     "data": {
      "text/plain": [
       "16.179630804434417"
      ]
     },
     "execution_count": 6,
     "metadata": {},
     "output_type": "execute_result"
    }
   ],
   "source": [
    "sample_adv_std=sample_adv_m.std()\n",
    "sample_adv_std"
   ]
  },
  {
   "cell_type": "code",
   "execution_count": 7,
   "metadata": {},
   "outputs": [
    {
     "data": {
      "text/plain": [
       "261.7804529678031"
      ]
     },
     "execution_count": 7,
     "metadata": {},
     "output_type": "execute_result"
    }
   ],
   "source": [
    "sample_adv_var=sample_adv_std**2\n",
    "sample_adv_var"
   ]
  },
  {
   "cell_type": "code",
   "execution_count": 8,
   "metadata": {},
   "outputs": [
    {
     "name": "stdout",
     "output_type": "stream",
     "text": [
      "0     71.492\n",
      "1     67.814\n",
      "2     56.470\n",
      "3     72.401\n",
      "4     71.804\n",
      "5     46.394\n",
      "6     54.449\n",
      "7     59.676\n",
      "8     63.369\n",
      "9     43.649\n",
      "10    63.508\n",
      "11    58.653\n",
      "12    71.351\n",
      "13    72.790\n",
      "14    59.505\n",
      "15    37.386\n",
      "16    67.160\n",
      "17    83.849\n",
      "18    42.494\n",
      "19    54.335\n",
      "20    66.035\n",
      "21    77.136\n",
      "22    61.261\n",
      "23    66.359\n",
      "24    60.053\n",
      "25    48.036\n",
      "26    73.065\n",
      "27    61.254\n",
      "28    99.198\n",
      "29    37.194\n",
      "30    63.362\n",
      "31    57.828\n",
      "32    55.052\n",
      "33    69.962\n",
      "34    39.020\n",
      "Name: Sales Manager, dtype: float64\n",
      "length of sales manager column: 35\n"
     ]
    }
   ],
   "source": [
    "sample_sales_m=wages_df[\"Sales Manager\"]\n",
    "print(sample_sales_m)\n",
    "#l=sample_sales_m.len()\n",
    "l=len(sample_sales_m)\n",
    "print(\"length of sales manager column:\",l)"
   ]
  },
  {
   "cell_type": "code",
   "execution_count": 9,
   "metadata": {},
   "outputs": [
    {
     "data": {
      "text/plain": [
       "61.52468571428572"
      ]
     },
     "execution_count": 9,
     "metadata": {},
     "output_type": "execute_result"
    }
   ],
   "source": [
    "sample_sales_mean=sample_sales_m.mean()\n",
    "sample_sales_mean"
   ]
  },
  {
   "cell_type": "code",
   "execution_count": 10,
   "metadata": {},
   "outputs": [
    {
     "data": {
      "text/plain": [
       "13.298461504938054"
      ]
     },
     "execution_count": 10,
     "metadata": {},
     "output_type": "execute_result"
    }
   ],
   "source": [
    "sample_sales_std=sample_sales_m.std()\n",
    "sample_sales_std"
   ]
  },
  {
   "cell_type": "code",
   "execution_count": 11,
   "metadata": {},
   "outputs": [
    {
     "data": {
      "text/plain": [
       "176.84907839831928"
      ]
     },
     "execution_count": 11,
     "metadata": {},
     "output_type": "execute_result"
    }
   ],
   "source": [
    "sample_sales_var=sample_sales_std**2\n",
    "sample_sales_var"
   ]
  },
  {
   "cell_type": "code",
   "execution_count": null,
   "metadata": {},
   "outputs": [],
   "source": []
  },
  {
   "cell_type": "markdown",
   "metadata": {},
   "source": [
    "### Establish the null and alternate hypothesis"
   ]
  },
  {
   "cell_type": "code",
   "execution_count": null,
   "metadata": {},
   "outputs": [],
   "source": []
  },
  {
   "cell_type": "markdown",
   "metadata": {},
   "source": [
    "### Determine the appropriate statistical test"
   ]
  },
  {
   "cell_type": "code",
   "execution_count": null,
   "metadata": {},
   "outputs": [],
   "source": []
  },
  {
   "cell_type": "markdown",
   "metadata": {},
   "source": [
    "### Set the value of alpha"
   ]
  },
  {
   "cell_type": "code",
   "execution_count": null,
   "metadata": {},
   "outputs": [],
   "source": [
    " #"
   ]
  },
  {
   "cell_type": "markdown",
   "metadata": {},
   "source": [
    "### Establish the decision rule"
   ]
  },
  {
   "cell_type": "code",
   "execution_count": null,
   "metadata": {},
   "outputs": [],
   "source": []
  },
  {
   "cell_type": "markdown",
   "metadata": {},
   "source": [
    "### Construct a 95% confidence interval to estimate the difference in the mean between the two departments."
   ]
  },
  {
   "cell_type": "code",
   "execution_count": null,
   "metadata": {},
   "outputs": [],
   "source": []
  },
  {
   "cell_type": "code",
   "execution_count": null,
   "metadata": {},
   "outputs": [],
   "source": []
  },
  {
   "cell_type": "markdown",
   "metadata": {},
   "source": [
    "### Analyze the data"
   ]
  },
  {
   "cell_type": "code",
   "execution_count": null,
   "metadata": {},
   "outputs": [],
   "source": []
  },
  {
   "cell_type": "markdown",
   "metadata": {},
   "source": [
    "### Reach a statistical conclusion"
   ]
  },
  {
   "cell_type": "code",
   "execution_count": null,
   "metadata": {},
   "outputs": [],
   "source": []
  },
  {
   "cell_type": "markdown",
   "metadata": {},
   "source": [
    "### Make a business decision"
   ]
  },
  {
   "cell_type": "code",
   "execution_count": null,
   "metadata": {},
   "outputs": [],
   "source": []
  },
  {
   "cell_type": "markdown",
   "metadata": {},
   "source": [
    "# Learning Consolidation"
   ]
  },
  {
   "cell_type": "markdown",
   "metadata": {},
   "source": [
    "## Hypothesis Test with Type II Error"
   ]
  },
  {
   "cell_type": "markdown",
   "metadata": {},
   "source": [
    "The recent fact reported by the New York Stock Exchange is that the average age of a female shareholder is 44 years. Evan, a stock exchange broker, compares the above-reported data with a randomly selected sample of 68 women from Chicago. Suppose the average age for shareholders in the sample is 45.1 years, with a population standard deviation of 8.7 years.\n",
    "\n",
    "You test to determine whether Evan’s sample data differ significantly enough from the 44-year figure released by the New York Stock Exchange. The sample data declare that Chicago female shareholders are different in age from female shareholders in general. Use alpha=0.05. If no significant difference is noted, what is the probability of committing a Type II error if the average age of a female Chicago shareholder is 45 years?"
   ]
  },
  {
   "cell_type": "code",
   "execution_count": null,
   "metadata": {},
   "outputs": [],
   "source": []
  },
  {
   "cell_type": "markdown",
   "metadata": {},
   "source": [
    "### Establish the null and alternate hypothesis"
   ]
  },
  {
   "cell_type": "code",
   "execution_count": null,
   "metadata": {},
   "outputs": [],
   "source": []
  },
  {
   "cell_type": "markdown",
   "metadata": {},
   "source": [
    "### Determine the appropriate statistical test"
   ]
  },
  {
   "cell_type": "code",
   "execution_count": null,
   "metadata": {},
   "outputs": [],
   "source": []
  },
  {
   "cell_type": "markdown",
   "metadata": {},
   "source": [
    "### Set the value of alpha"
   ]
  },
  {
   "cell_type": "code",
   "execution_count": null,
   "metadata": {},
   "outputs": [],
   "source": []
  },
  {
   "cell_type": "markdown",
   "metadata": {},
   "source": [
    "### Establish the decision rule"
   ]
  },
  {
   "cell_type": "code",
   "execution_count": null,
   "metadata": {},
   "outputs": [],
   "source": []
  },
  {
   "cell_type": "markdown",
   "metadata": {},
   "source": [
    "### Analyze the data"
   ]
  },
  {
   "cell_type": "code",
   "execution_count": null,
   "metadata": {},
   "outputs": [],
   "source": [
    "# We have used,\n",
    "# z_statistic1 = (45-p_mean) / (p_sd/math.sqrt(n))\n",
    "# 1-norm(loc = 44 , scale = 1).cdf(45)\n",
    "# Here, loc represents the population mean value."
   ]
  },
  {
   "cell_type": "markdown",
   "metadata": {},
   "source": [
    "### Reach a statistical conclusion"
   ]
  },
  {
   "cell_type": "code",
   "execution_count": null,
   "metadata": {},
   "outputs": [],
   "source": []
  },
  {
   "cell_type": "markdown",
   "metadata": {},
   "source": [
    "### Make a business decision"
   ]
  },
  {
   "cell_type": "code",
   "execution_count": null,
   "metadata": {},
   "outputs": [],
   "source": []
  },
  {
   "cell_type": "markdown",
   "metadata": {},
   "source": [
    "### Analyze the data with the average of a female is 45 "
   ]
  },
  {
   "cell_type": "code",
   "execution_count": null,
   "metadata": {},
   "outputs": [],
   "source": []
  },
  {
   "cell_type": "code",
   "execution_count": null,
   "metadata": {},
   "outputs": [],
   "source": [
    "#jupyter symbols...\n",
    "\n",
    "type\\mu =\n",
    "type\\sigma ="
   ]
  }
 ],
 "metadata": {
  "kernelspec": {
   "display_name": "Python 3 (ipykernel)",
   "language": "python",
   "name": "python3"
  },
  "language_info": {
   "codemirror_mode": {
    "name": "ipython",
    "version": 3
   },
   "file_extension": ".py",
   "mimetype": "text/x-python",
   "name": "python",
   "nbconvert_exporter": "python",
   "pygments_lexer": "ipython3",
   "version": "3.10.2"
  }
 },
 "nbformat": 4,
 "nbformat_minor": 2
}
