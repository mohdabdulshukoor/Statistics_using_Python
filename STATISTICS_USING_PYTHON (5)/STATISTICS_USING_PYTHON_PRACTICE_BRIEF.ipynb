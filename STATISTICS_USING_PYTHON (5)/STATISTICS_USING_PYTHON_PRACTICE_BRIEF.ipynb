{
 "cells": [
  {
   "cell_type": "code",
   "execution_count": 1,
   "id": "c33b7c7f",
   "metadata": {},
   "outputs": [],
   "source": [
    "import math\n",
    "import pandas as pd\n",
    "import numpy as np\n",
    "import statistics as st\n",
    "from scipy.stats import t\n",
    "from scipy.stats import f\n",
    "import matplotlib.pyplot as plt"
   ]
  },
  {
   "cell_type": "markdown",
   "id": "3752780d",
   "metadata": {},
   "source": [
    "# TASK 1"
   ]
  },
  {
   "cell_type": "markdown",
   "id": "8070def5",
   "metadata": {},
   "source": [
    ">H0: μ <= 0   \n",
    ">Ha: μ > 0"
   ]
  },
  {
   "cell_type": "markdown",
   "id": "ca56d14a",
   "metadata": {},
   "source": [
    ">H0: The average marks of the students in maths in Oscar's class <= 0   \n",
    ">ha: The average marks of the students in maths in Oscar's class > 0"
   ]
  },
  {
   "cell_type": "markdown",
   "id": "6ee1e40c",
   "metadata": {},
   "source": [
    ">Now right-sided/tailed hypothesis to be considered..."
   ]
  },
  {
   "cell_type": "code",
   "execution_count": 20,
   "id": "b9345596",
   "metadata": {},
   "outputs": [
    {
     "name": "stdout",
     "output_type": "stream",
     "text": [
      "Sample Mean: 79.16666666666667\n",
      "Sample Standard Deviation: 13.862419221285535\n",
      "Sample Size: 6\n"
     ]
    }
   ],
   "source": [
    "#\n",
    "\n",
    "class_mean=71\n",
    "class_sample_data=[61,93,75,67,84,95]\n",
    "\n",
    "class_sample_mean=st.mean(class_sample_data)\n",
    "class_sample_std=st.stdev(class_sample_data)\n",
    "\n",
    "sample_size=len(class_sample_data)\n",
    "df=sample_len-1\n",
    "\n",
    "print('Sample Mean:',class_sample_mean)\n",
    "print('Sample Standard Deviation:',class_sample_std)\n",
    "print('Sample Size:',sample_size)"
   ]
  },
  {
   "cell_type": "markdown",
   "id": "41d2041e",
   "metadata": {},
   "source": [
    "### Significance value"
   ]
  },
  {
   "cell_type": "code",
   "execution_count": 28,
   "id": "9207b603",
   "metadata": {},
   "outputs": [],
   "source": [
    "alpha=0.1"
   ]
  },
  {
   "cell_type": "markdown",
   "id": "c2ccae17",
   "metadata": {},
   "source": [
    "### Decision rule"
   ]
  },
  {
   "cell_type": "markdown",
   "id": "a713b0dd",
   "metadata": {},
   "source": [
    ">If p_value < alpha : Rejection of Null Hypothesis(H0)      \n",
    ">If -t-critical > t-statistics > +t-critical : Rejection of Null Hypothesis(H0)"
   ]
  },
  {
   "cell_type": "markdown",
   "id": "35dcc14d",
   "metadata": {},
   "source": [
    "### Analyzing data"
   ]
  },
  {
   "cell_type": "code",
   "execution_count": 142,
   "id": "08c952d5",
   "metadata": {},
   "outputs": [
    {
     "name": "stdout",
     "output_type": "stream",
     "text": [
      "The t-statistic is: 1.443050156931714\n",
      "The t-critical value is: 1.4758840487820273\n",
      "0.10429845495147672\n"
     ]
    }
   ],
   "source": [
    "#t-test for right tailed hypothesis...\n",
    "\n",
    "t_statistic=(class_sample_mean-class_mean)/(class_sample_std/math.sqrt(sample_size))\n",
    "print(\"The t-statistic is:\", t_statistic)\n",
    "\n",
    "t_critical=t.ppf(1-alpha, df)\n",
    "print(\"The t-critical value is:\",t_critical)\n",
    "\n",
    "p_value=t.sf(t_statistic,df)\n",
    "print(p_value)"
   ]
  },
  {
   "cell_type": "markdown",
   "id": "25ced2c6",
   "metadata": {},
   "source": [
    "### Statistical Conslusion"
   ]
  },
  {
   "cell_type": "code",
   "execution_count": 146,
   "id": "cd6a0fd0",
   "metadata": {},
   "outputs": [
    {
     "name": "stdout",
     "output_type": "stream",
     "text": [
      "Accept\n"
     ]
    }
   ],
   "source": [
    "if p_value<alpha:\n",
    "    print(\"Reject\")\n",
    "else:\n",
    "    print(\"Accept\")"
   ]
  },
  {
   "cell_type": "code",
   "execution_count": 147,
   "id": "5f174c56",
   "metadata": {},
   "outputs": [
    {
     "name": "stdout",
     "output_type": "stream",
     "text": [
      "Accept\n"
     ]
    }
   ],
   "source": [
    "if t_statistic>t_critical:\n",
    "    print(\"Reject\")\n",
    "else:\n",
    "    print(\"Accept\")"
   ]
  },
  {
   "cell_type": "markdown",
   "id": "d6fd430d",
   "metadata": {},
   "source": [
    "### Business Decision"
   ]
  },
  {
   "cell_type": "markdown",
   "id": "9373e2f7",
   "metadata": {},
   "source": [
    ">As the t_statistic is GREATER than tolerance then the Null Hypothesis is 'Accepted' i.e; 'Not Rejected'\n",
    "\n",
    "Business Decision:\n",
    "\n",
    ">Considering the Decision_Rule:  \n",
    "i. If t_statistic < 1-α : Rejection of Null Hypothesis(H0)  \n",
    "ii. If -t-critical > t-statistic > +t-critical : Rejection of Null Hypothesis(H0)\n",
    "\n",
    ">A sample of the average of 71(mean) marks of the randomly selected students (given) in the conducted math proficiency test, which comes under confidence level or area or region.\n",
    "\n",
    ">By oberserving the t_statistic,I would suggest accept the Null Hypothesis (status quo) which makes it a correct decision."
   ]
  },
  {
   "cell_type": "markdown",
   "id": "0acaec0e",
   "metadata": {},
   "source": [
    "# TASK 2"
   ]
  },
  {
   "cell_type": "markdown",
   "id": "ce3aa197",
   "metadata": {},
   "source": [
    ">H0: μ1 - μ2 = 0  \n",
    ">Ha: μ1 - μ2 != 0\n",
    "\n",
    ">H0: μ1 - μ2 = Average difference in the filling of milk in machine 1 & 2 is similar to each other.  \n",
    ">Ha: μ1 - μ2 != Average difference in the filling of milk in machine 1 & 2 is !similar to each other. "
   ]
  },
  {
   "cell_type": "markdown",
   "id": "f03457b7",
   "metadata": {},
   "source": [
    "### Statistical Calculations"
   ]
  },
  {
   "cell_type": "code",
   "execution_count": 61,
   "id": "e7080d21",
   "metadata": {},
   "outputs": [
    {
     "name": "stdout",
     "output_type": "stream",
     "text": [
      "it_sample Mean: 4.029999999999999\n",
      "fin_sample Mean: 4.001666666666667\n",
      "it_sample standard deviation: 0.018257418583505634\n",
      "fin_sample standard deviation: 0.011690451944499872\n",
      "it_sample size: 4\n",
      "fin_sample size: 6\n",
      "dof2: 8\n",
      "it variance: 0.00033333333333333685\n",
      "fin variance: 0.00013666666666666084\n"
     ]
    }
   ],
   "source": [
    "#Statistical Calculations:\n",
    "\n",
    "machine1=[4.05,4.01,4.04,4.02]\n",
    "machine2=[4.02,3.99,4.01,3.99,4.00,4.00]\n",
    "\n",
    "machine1_mean=st.mean(machine1)\n",
    "machine2_mean=st.mean(machine2)\n",
    "\n",
    "machine1_std=st.stdev(machine1)\n",
    "machine2_std=st.stdev(machine2)\n",
    "\n",
    "machine1_len=len(machine1)\n",
    "machine2_len=len(machine2)\n",
    "\n",
    "machine1_var=machine1_std**2\n",
    "machine2_var=machine2_std**2\n",
    "\n",
    "dof2=(machine1_len+machine2_len)-2\n",
    "\n",
    "# μ1 - μ2 = 0\n",
    "\n",
    "print('it_sample Mean:',machine1_mean)\n",
    "print('fin_sample Mean:',machine2_mean)\n",
    "print('it_sample standard deviation:',machine1_std)\n",
    "print('fin_sample standard deviation:',machine2_std)       \n",
    "print('it_sample size:',machine1_len)\n",
    "print('fin_sample size:',machine2_len)\n",
    "print(\"dof2:\",dof2)\n",
    "print('it variance:',machine1_var)\n",
    "print('fin variance:',machine2_var)"
   ]
  },
  {
   "cell_type": "markdown",
   "id": "17b27c85",
   "metadata": {},
   "source": [
    "### Significance value"
   ]
  },
  {
   "cell_type": "code",
   "execution_count": 68,
   "id": "256a25b3",
   "metadata": {},
   "outputs": [
    {
     "data": {
      "text/plain": [
       "0.1"
      ]
     },
     "execution_count": 68,
     "metadata": {},
     "output_type": "execute_result"
    }
   ],
   "source": [
    "#Significance value...\n",
    "alpha=0.1\n",
    "alpha"
   ]
  },
  {
   "cell_type": "code",
   "execution_count": 69,
   "id": "6654ba89",
   "metadata": {},
   "outputs": [
    {
     "data": {
      "text/plain": [
       "8"
      ]
     },
     "execution_count": 69,
     "metadata": {},
     "output_type": "execute_result"
    }
   ],
   "source": [
    "#degree of freedom...\n",
    "dof2"
   ]
  },
  {
   "cell_type": "markdown",
   "id": "acbef969",
   "metadata": {},
   "source": [
    "### Decision rule"
   ]
  },
  {
   "cell_type": "markdown",
   "id": "3579b760",
   "metadata": {},
   "source": [
    ">If p_value < alpha : Rejection of Null Hypothesis(H0)      \n",
    ">If -t-critical > t-statistics > +t-critical : Rejection of Null Hypothesis(H0)"
   ]
  },
  {
   "cell_type": "markdown",
   "id": "f78641e4",
   "metadata": {},
   "source": [
    "### Analyzing data"
   ]
  },
  {
   "cell_type": "code",
   "execution_count": 75,
   "id": "6c5c8f88",
   "metadata": {},
   "outputs": [
    {
     "name": "stdout",
     "output_type": "stream",
     "text": [
      "t_statistic: 3.0259602845318176\n",
      "t_critical: 1.8595480375228421\n",
      "p_value: 0.008204978970763983\n"
     ]
    }
   ],
   "source": [
    "#t-test for two tailed hypothesis:\n",
    "\n",
    "#calculating t_statistic...\n",
    "t_statistic=((machine1_mean - machine2_mean)- 0)/(math.sqrt((machine1_var*(machine1_len-1)+ machine2_var*(machine2_len-1))/dof2*(1/machine1_len+1/machine2_len)))\n",
    "print(\"t_statistic:\",t_statistic)\n",
    "\n",
    "#Calculating t-critical...\n",
    "#As the t_critical lies on the right side of the graph so significance level is deducted from p_value...\n",
    "#And divided by 2 as it is a two tailed hypothesis...\n",
    "t_critical=t.ppf((1-alpha/2),dof2)\n",
    "print(\"t_critical:\",t_critical)\n",
    "\n",
    "#calculating p_value...\n",
    "#not divided by two as in t_critical it has been calculated or considered already...\n",
    "p_value=t.sf(abs(t_statistic),dof2)\n",
    "print(\"p_value:\",p_value)"
   ]
  },
  {
   "cell_type": "markdown",
   "id": "101ec10b",
   "metadata": {},
   "source": [
    "### Statistical Conslusion"
   ]
  },
  {
   "cell_type": "code",
   "execution_count": 76,
   "id": "ba608cd9",
   "metadata": {},
   "outputs": [
    {
     "name": "stdout",
     "output_type": "stream",
     "text": [
      "Reject\n"
     ]
    }
   ],
   "source": [
    "if p_value<alpha:\n",
    "    print(\"Reject\")\n",
    "else:\n",
    "    print(\"Accept\")"
   ]
  },
  {
   "cell_type": "code",
   "execution_count": 79,
   "id": "9bce6f55",
   "metadata": {},
   "outputs": [
    {
     "name": "stdout",
     "output_type": "stream",
     "text": [
      "Reject\n"
     ]
    }
   ],
   "source": [
    "if t_statistic>t_critical:\n",
    "    print(\"Reject\")\n",
    "else:\n",
    "    print(\"Accept\")"
   ]
  },
  {
   "cell_type": "markdown",
   "id": "483a5799",
   "metadata": {},
   "source": [
    "### Business Decision"
   ]
  },
  {
   "cell_type": "markdown",
   "id": "97dedf08",
   "metadata": {},
   "source": [
    ">As the p_value is LESS than tolerance then the Null Hypothesis is 'Not Accepted' i.e; 'Rejected'\n",
    "\n",
    "Business Decision:\n",
    "\n",
    ">Considering the Decision_Rule:  \n",
    "\n",
    ">i. If t_statistic < 1-α/2 : Rejection of Null Hypothesis(H0)  \n",
    ">ii. If -t-critical > t-statistic > +t-critical : Rejection of Null Hypothesis(H0)  \n",
    "\n",
    ">Based on the above analysis...  \n",
    "\n",
    ">As the hypothesis have been rejected so it is clearly stating that there's no difference in the average filling of milk in the both the machines."
   ]
  },
  {
   "cell_type": "markdown",
   "id": "b1969c26",
   "metadata": {},
   "source": [
    "# TASK 3"
   ]
  },
  {
   "cell_type": "markdown",
   "id": "cccd2e6d",
   "metadata": {},
   "source": [
    ">H0: μ1 = μ2 = μ2 = 0  \n",
    ">Ha: μ1 != μ2 != μ2 = 0\n",
    "    \n",
    ">H0: μ1 = μ2 = μ2 = A...............  \n",
    ">Ha: μ1 != μ2 != μ2 = A.........................."
   ]
  },
  {
   "cell_type": "code",
   "execution_count": null,
   "id": "a8913f70",
   "metadata": {},
   "outputs": [],
   "source": []
  },
  {
   "cell_type": "code",
   "execution_count": 123,
   "id": "e6c594b4",
   "metadata": {},
   "outputs": [
    {
     "name": "stdout",
     "output_type": "stream",
     "text": [
      "Length of machine1: 4\n",
      "Length of machine2: 6\n",
      "Length of machine3: 5\n",
      "Length of machine4: 4\n",
      "Sum of machine1: 16.119999999999997\n",
      "Sum of machine2: 24.009999999999998\n",
      "Sum of machine3: 19.87\n",
      "Sum of machine4: 16.02\n",
      "Sum of all the machines: 76.02\n",
      "Mean of machine1: 4.029999999999999\n",
      "Mean of machine2: 4.001666666666667\n",
      "Mean of machine3: 3.974\n",
      "Mean of machine4: 4.005\n",
      "Mean of all the machines: 4.002666666666666\n"
     ]
    }
   ],
   "source": [
    "#Extracting the data...\n",
    "\n",
    "mach1=[4.05,4.01,4.04,4.02]\n",
    "mach2=[4.02,3.99,4.01,3.99,4.00,4.00]\n",
    "mach3=[4.00,3.97,3.95,3.98,3.97]\n",
    "mach4=[4.01,4.00,3.99,4.02]\n",
    "\n",
    "mach1_len=len(mach1)\n",
    "mach2_len=len(mach2)\n",
    "mach3_len=len(mach3)\n",
    "mach4_len=len(mach4)\n",
    "\n",
    "print(\"Length of machine1:\",mach1_len)\n",
    "print(\"Length of machine2:\",mach2_len)\n",
    "print(\"Length of machine3:\",mach3_len)\n",
    "print(\"Length of machine4:\",mach4_len)\n",
    "\n",
    "mach1_sum=sum(mach1)\n",
    "mach2_sum=sum(mach2)\n",
    "mach3_sum=sum(mach3)\n",
    "mach4_sum=sum(mach4)\n",
    "\n",
    "mach_grand_sum=mach1_sum+mach2_sum+mach3_sum+mach4_sum\n",
    "\n",
    "mach1_mean=st.mean(mach1)\n",
    "mach2_mean=st.mean(mach2)\n",
    "mach3_mean=st.mean(mach3)\n",
    "mach4_mean=st.mean(mach4)\n",
    "\n",
    "mach_grand_mean=(mach1_mean+mach2_mean+mach3_mean+mach4_mean)/4\n",
    "\n",
    "print(\"Sum of machine1:\",mach1_sum)\n",
    "print(\"Sum of machine2:\",mach2_sum)\n",
    "print(\"Sum of machine3:\",mach3_sum)\n",
    "print(\"Sum of machine4:\",mach4_sum)\n",
    "\n",
    "print(\"Sum of all the machines:\",mach_grand_sum)\n",
    "\n",
    "print(\"Mean of machine1:\",mach1_mean)\n",
    "print(\"Mean of machine2:\",mach2_mean)\n",
    "print(\"Mean of machine3:\",mach3_mean)\n",
    "print(\"Mean of machine4:\",mach4_mean)\n",
    "\n",
    "print(\"Mean of all the machines:\",mach_grand_mean)"
   ]
  },
  {
   "cell_type": "markdown",
   "id": "d02f377f",
   "metadata": {},
   "source": [
    "### Step 5: Column sum of squares"
   ]
  },
  {
   "cell_type": "code",
   "execution_count": 124,
   "id": "2caef47b",
   "metadata": {},
   "outputs": [
    {
     "name": "stdout",
     "output_type": "stream",
     "text": [
      "ssc: 0.007125111111110891\n"
     ]
    }
   ],
   "source": [
    "ssc=mach1_len*(mach1_mean-mach_grand_mean)**2+mach2_len*(mach2_mean-mach_grand_mean)**2+mach3_len*(mach3_mean-mach_grand_mean)**2+mach4_len*(mach4_mean-mach_grand_mean)**2\n",
    "\n",
    "print(\"ssc:\",ssc)\n",
    "\n",
    "#squaring individually and summation...\n",
    "#sum of squares between groups..."
   ]
  },
  {
   "cell_type": "markdown",
   "id": "20727dc0",
   "metadata": {},
   "source": [
    "### Step 6: Error sum of squares"
   ]
  },
  {
   "cell_type": "code",
   "execution_count": 150,
   "id": "19cb86c6",
   "metadata": {},
   "outputs": [
    {
     "name": "stdout",
     "output_type": "stream",
     "text": [
      "sse = 0.0035033333333332815\n"
     ]
    }
   ],
   "source": [
    "sse=0\n",
    "for i in mach1:   #sample\n",
    "    sse=sse+(i-mach1_mean)**2\n",
    "\n",
    "for i in mach2:   #sample\n",
    "    sse=sse+(i-mach2_mean)**2\n",
    "\n",
    "for i in mach3:   #sample\n",
    "    sse=sse+(i-mach3_mean)**2\n",
    "\n",
    "for i in mach4:   #sample\n",
    "    sse=sse+(i-mach4_mean)**2\n",
    "\n",
    "print(\"sse =\",sse)\n",
    "#sum of squares within groups..."
   ]
  },
  {
   "cell_type": "markdown",
   "id": "ff74a2bf",
   "metadata": {},
   "source": [
    "### Step 7: Total sum of squares"
   ]
  },
  {
   "cell_type": "code",
   "execution_count": 126,
   "id": "2faeaf45",
   "metadata": {},
   "outputs": [],
   "source": [
    "#sst is negotiable..."
   ]
  },
  {
   "cell_type": "markdown",
   "id": "fdaffb48",
   "metadata": {},
   "source": [
    "### Step 8: Degree of freedom"
   ]
  },
  {
   "cell_type": "code",
   "execution_count": 151,
   "id": "77dd8349",
   "metadata": {},
   "outputs": [
    {
     "name": "stdout",
     "output_type": "stream",
     "text": [
      "dfc = 3\n",
      "dfe = 15\n",
      "dft = 18\n"
     ]
    }
   ],
   "source": [
    "dfc= 4-1   #no. of columns-1\n",
    "dfe= 19-4   #no of samples-no. of columns\n",
    "dft= 19-1   #no. of samples-1\n",
    "\n",
    "print('dfc =',dfc)\n",
    "print('dfe =',dfe)\n",
    "print('dft =',dft)"
   ]
  },
  {
   "cell_type": "markdown",
   "id": "4a401244",
   "metadata": {},
   "source": [
    "### Step 9: MSC: Mean sum of squares between samples"
   ]
  },
  {
   "cell_type": "code",
   "execution_count": 128,
   "id": "50c58676",
   "metadata": {},
   "outputs": [
    {
     "name": "stdout",
     "output_type": "stream",
     "text": [
      "msc = 0.0023750370370369638\n"
     ]
    }
   ],
   "source": [
    "#MSC\n",
    "\n",
    "MSC=ssc/dfc\n",
    "print('msc =',MSC)"
   ]
  },
  {
   "cell_type": "markdown",
   "id": "0a194a75",
   "metadata": {},
   "source": [
    "### Step 10: MSE: Mean sum of squares within samples"
   ]
  },
  {
   "cell_type": "code",
   "execution_count": 129,
   "id": "d79a9d29",
   "metadata": {},
   "outputs": [
    {
     "name": "stdout",
     "output_type": "stream",
     "text": [
      "mse = 0.0002335555555555521\n"
     ]
    }
   ],
   "source": [
    "#MSE\n",
    "\n",
    "MSE=sse/dfe\n",
    "print('mse =',MSE)"
   ]
  },
  {
   "cell_type": "markdown",
   "id": "e56c10d0",
   "metadata": {},
   "source": [
    "### F-statistic"
   ]
  },
  {
   "cell_type": "code",
   "execution_count": 130,
   "id": "fe6e4916",
   "metadata": {},
   "outputs": [
    {
     "name": "stdout",
     "output_type": "stream",
     "text": [
      "F-statistic = 10.169045353631299\n"
     ]
    }
   ],
   "source": [
    "f_statistic=MSC/MSE\n",
    "print('F-statistic =',f_statistic)"
   ]
  },
  {
   "cell_type": "markdown",
   "id": "4bf6218b",
   "metadata": {},
   "source": [
    "### F-critical"
   ]
  },
  {
   "cell_type": "code",
   "execution_count": 131,
   "id": "2994f310",
   "metadata": {},
   "outputs": [
    {
     "name": "stdout",
     "output_type": "stream",
     "text": [
      "F-critical = 5.416964857818421\n"
     ]
    }
   ],
   "source": [
    "f_critical=f.ppf(1-0.01, dfc, dfe)\n",
    "print('F-critical =',f_critical)"
   ]
  },
  {
   "cell_type": "markdown",
   "id": "b11b3b1a",
   "metadata": {},
   "source": [
    "### Statistical conclusion"
   ]
  },
  {
   "cell_type": "code",
   "execution_count": 149,
   "id": "3f071b97",
   "metadata": {},
   "outputs": [
    {
     "name": "stdout",
     "output_type": "stream",
     "text": [
      "Reject\n"
     ]
    }
   ],
   "source": [
    "if f_statistic>f_critical:\n",
    "    print(\"Reject\")\n",
    "else:\n",
    "    print(\"Accept\")"
   ]
  },
  {
   "cell_type": "markdown",
   "id": "e44a82e8",
   "metadata": {},
   "source": [
    "### Business Decision"
   ]
  },
  {
   "cell_type": "markdown",
   "id": "996025bd",
   "metadata": {},
   "source": [
    ">Business Decision:\n",
    "\n",
    ">>Based on the above analysis... \n",
    "\n",
    ">>As the f_statistic is GREATER than f_critical then the Null Hypothesis is 'Not Accepted' i.e; 'Rejected'\n",
    "\n",
    "\n",
    "\n",
    "\n",
    " "
   ]
  },
  {
   "cell_type": "markdown",
   "id": "c453b1c5",
   "metadata": {},
   "source": [
    ">>>>>>>>>>>>>>>>>>>"
   ]
  },
  {
   "cell_type": "code",
   "execution_count": null,
   "id": "2798cb8e",
   "metadata": {},
   "outputs": [],
   "source": []
  }
 ],
 "metadata": {
  "kernelspec": {
   "display_name": "Python 3 (ipykernel)",
   "language": "python",
   "name": "python3"
  },
  "language_info": {
   "codemirror_mode": {
    "name": "ipython",
    "version": 3
   },
   "file_extension": ".py",
   "mimetype": "text/x-python",
   "name": "python",
   "nbconvert_exporter": "python",
   "pygments_lexer": "ipython3",
   "version": "3.10.2"
  }
 },
 "nbformat": 4,
 "nbformat_minor": 5
}
