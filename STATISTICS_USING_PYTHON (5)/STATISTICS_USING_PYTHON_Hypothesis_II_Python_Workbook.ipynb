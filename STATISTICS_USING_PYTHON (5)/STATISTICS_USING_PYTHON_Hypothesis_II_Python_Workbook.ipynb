{
 "cells": [
  {
   "cell_type": "markdown",
   "metadata": {},
   "source": [
    "# Hypothesis test - II"
   ]
  },
  {
   "cell_type": "markdown",
   "metadata": {},
   "source": [
    "## Concept Session"
   ]
  },
  {
   "cell_type": "markdown",
   "metadata": {},
   "source": [
    "## Demo – 7.1: Hypothesis Test Using Single Sample Mean"
   ]
  },
  {
   "cell_type": "markdown",
   "metadata": {},
   "source": [
    "In the US, the average annual expenditure per patient on dental care is around $1,272.\n",
    "The regional dental association wants to determine if this figure is accurate for their area of the country.\n",
    "To test this, 22 families with four members are randomly selected from the population in that area of the country. A log is kept of the families’ dental expenditures for one year.\n",
    "The collected sample data are as follows.\n",
    "Suppose that the dental expenditures are normally distributed in the population. Use a 5% significance level to test the dental association’s hypothesis.\n",
    "\n",
    "1208,812,1217,1323,1308,1515,831,1021,1387,951,930,730"
   ]
  },
  {
   "cell_type": "code",
   "execution_count": 230,
   "metadata": {},
   "outputs": [],
   "source": [
    "import pandas as pd\n",
    "import numpy as np\n",
    "import statistics as st\n",
    "import math\n",
    "from scipy.stats import t\n",
    "from scipy.stats import f\n",
    "import matplotlib.pyplot as plt"
   ]
  },
  {
   "cell_type": "markdown",
   "metadata": {},
   "source": [
    "### Establish the null and alternate hypothesis"
   ]
  },
  {
   "cell_type": "code",
   "execution_count": null,
   "metadata": {},
   "outputs": [],
   "source": [
    "H0: μ =\n",
    "Ha: μ ="
   ]
  },
  {
   "cell_type": "markdown",
   "metadata": {},
   "source": [
    "### Calculate Sample Mean and standard deviation"
   ]
  },
  {
   "cell_type": "code",
   "execution_count": 14,
   "metadata": {},
   "outputs": [
    {
     "name": "stdout",
     "output_type": "stream",
     "text": [
      "Sample Mean = 1102.75\n",
      "Sample Standard Deviation = 256.26624117046\n",
      "Sample Size = 12\n"
     ]
    }
   ],
   "source": [
    "\n",
    "sample_data=[1208,812,1217,1323,1308,1515,831,1021,1387,951,930,730]\n",
    "s_mean=st.mean(sample_data)\n",
    "s_sd=st.stdev(sample_data)\n",
    "n=len(sample_data)\n",
    "p_mean=1272\n",
    "n=len(sample_data)\n",
    "df=n-1\n",
    "\n",
    "print('Sample Mean = '+str(s_mean))\n",
    "print('Sample Standard Deviation = '+str(s_sd))\n",
    "print('Sample Size = '+str(n))"
   ]
  },
  {
   "cell_type": "markdown",
   "metadata": {},
   "source": [
    "### Determine the appropriate statistical test"
   ]
  },
  {
   "cell_type": "code",
   "execution_count": 17,
   "metadata": {},
   "outputs": [],
   "source": [
    "#t-statistical="
   ]
  },
  {
   "cell_type": "markdown",
   "metadata": {},
   "source": [
    "### Set the value of alpha"
   ]
  },
  {
   "cell_type": "code",
   "execution_count": 18,
   "metadata": {},
   "outputs": [],
   "source": [
    "alpha=0.05"
   ]
  },
  {
   "cell_type": "markdown",
   "metadata": {},
   "source": [
    "### Establish the decision rule"
   ]
  },
  {
   "cell_type": "code",
   "execution_count": null,
   "metadata": {},
   "outputs": [],
   "source": []
  },
  {
   "cell_type": "markdown",
   "metadata": {},
   "source": [
    "### Analyze the data"
   ]
  },
  {
   "cell_type": "code",
   "execution_count": 45,
   "metadata": {},
   "outputs": [
    {
     "name": "stdout",
     "output_type": "stream",
     "text": [
      "The t-statistics is  -2.28785186719962\n",
      "The t-critical value is -2.200985160082949\n",
      "0.04293953117010542\n"
     ]
    }
   ],
   "source": [
    "t_statistic = (s_mean - p_mean) / (s_sd/math.sqrt(n))\n",
    "print(\"The t-statistics is \", t_statistics)\n",
    "\n",
    "\n",
    "t_critical = t.ppf(alpha/2, df)\n",
    "print(\"The t-critical value is \"+str(t_critical))\n",
    "\n",
    "\n",
    "#p_value for two tail test considering both of the tail and taking alpha...\n",
    "#calutlating absolute value...\n",
    "p_value=t.sf(abs(t_statistic),df)*2\n",
    "print(p_value)\n",
    "\n",
    "\n",
    "#calutlating absolute value...\n",
    "#in this situation for two tail test considering any one of the tail and taking alpha/2...\n",
    "#p_value=t.sf(abs(t_statistic),df)\n",
    "#print(p_value)"
   ]
  },
  {
   "cell_type": "markdown",
   "metadata": {},
   "source": [
    "### Reach a statistical conclusion"
   ]
  },
  {
   "cell_type": "code",
   "execution_count": 43,
   "metadata": {},
   "outputs": [
    {
     "name": "stdout",
     "output_type": "stream",
     "text": [
      "reject\n"
     ]
    }
   ],
   "source": [
    "if t_statistic<0.05:\n",
    "    print(\"reject\")\n",
    "else:\n",
    "    print(\"accept\")"
   ]
  },
  {
   "cell_type": "code",
   "execution_count": 50,
   "metadata": {},
   "outputs": [
    {
     "data": {
      "text/plain": [
       "0.05"
      ]
     },
     "execution_count": 50,
     "metadata": {},
     "output_type": "execute_result"
    }
   ],
   "source": [
    "#p_value for two tail test considering both of the tail and taking alpha...\n",
    "alpha=0.05\n",
    "alpha\n",
    "\n",
    "#in this situation for two tail test considering any one of the tail and taking alpha/2...\n",
    "#alpha2=alpha/2\n",
    "#alpha2"
   ]
  },
  {
   "cell_type": "code",
   "execution_count": 234,
   "metadata": {},
   "outputs": [
    {
     "name": "stdout",
     "output_type": "stream",
     "text": [
      "accept\n"
     ]
    }
   ],
   "source": [
    "if t_statistic>t_critical:\n",
    "    print(\"reject\")\n",
    "else:\n",
    "    print(\"accept\")"
   ]
  },
  {
   "cell_type": "code",
   "execution_count": null,
   "metadata": {},
   "outputs": [],
   "source": []
  },
  {
   "cell_type": "markdown",
   "metadata": {},
   "source": [
    "### Make a business decision"
   ]
  },
  {
   "cell_type": "code",
   "execution_count": null,
   "metadata": {},
   "outputs": [],
   "source": []
  },
  {
   "cell_type": "markdown",
   "metadata": {},
   "source": [
    "## Plotting t-distribution"
   ]
  },
  {
   "cell_type": "code",
   "execution_count": null,
   "metadata": {},
   "outputs": [],
   "source": []
  },
  {
   "cell_type": "markdown",
   "metadata": {},
   "source": [
    "## Demo – 7.2: Hypothesis Test Using Two Sample Means"
   ]
  },
  {
   "cell_type": "markdown",
   "metadata": {},
   "source": [
    "A survey was conducted by randomly sampling self-initiated expatriates in two industries: information technology (IT) and finance. Everyone is asked to use a 7-point Likert scale to evaluate their current job satisfaction, with 7 being very satisfied and 1 being very dissatisfied.\n",
    "We need to find whether there is a difference in the above job satisfaction ratings. Using a 5% significance level, determine whether there is a significant difference in the mean job satisfaction ratings of the two industries.\n",
    "Assume that the ratings for this test are normally distributed and that the population variances are approximately equal."
   ]
  },
  {
   "cell_type": "markdown",
   "metadata": {},
   "source": [
    "### Establish the null and alternate hypothesis"
   ]
  },
  {
   "cell_type": "markdown",
   "metadata": {},
   "source": [
    "H0: μ1 - μ2 = 0  \n",
    "Ha: μ1 - μ2 != 0"
   ]
  },
  {
   "cell_type": "markdown",
   "metadata": {},
   "source": [
    "### Determine the appropriate statistical test"
   ]
  },
  {
   "cell_type": "code",
   "execution_count": 89,
   "metadata": {},
   "outputs": [
    {
     "name": "stdout",
     "output_type": "stream",
     "text": [
      "it_sample Mean =  4.2727272727272725\n",
      "fin_sample Mean =  4.222222222222222\n",
      "it_sample standard deviation =  1.4206272622267313\n",
      "fin_sample standard deviation =  1.5634719199411433\n",
      "it_sample size =  11\n",
      "fin_sample size =  9\n",
      "18\n",
      "it variance 2.018181818181818\n",
      "fin variance 2.4444444444444446\n"
     ]
    }
   ],
   "source": [
    "it_sample_data=[4,5,6,4,4,3,2,5,3,4,7]\n",
    "fin_sample_data=[2,3,4,5,4,7,6,4,3]\n",
    "\n",
    "it_mean=st.mean(it_sample_data)\n",
    "fin_mean=st.mean(fin_sample_data)\n",
    "\n",
    "it_std=st.stdev(it_sample_data)\n",
    "fin_std=st.stdev(fin_sample_data)\n",
    "\n",
    "it_len=len(it_sample_data)\n",
    "fin_len=len(fin_sample_data)\n",
    "\n",
    "it_var=it_std**2\n",
    "fin_var=fin_std**2\n",
    "\n",
    "p2_mean=1272\n",
    "\n",
    "df2=(itlen+finlen)-2\n",
    "\n",
    "# μ1 - μ2 = 0\n",
    "\n",
    "print('it_sample Mean = ',it_mean)\n",
    "print('fin_sample Mean = ',fin_mean)\n",
    "print('it_sample standard deviation = ',it_std)\n",
    "print('fin_sample standard deviation = ',fin_std)       \n",
    "print('it_sample size = ',it_len)\n",
    "print('fin_sample size = ',fin_len)\n",
    "print(df2)\n",
    "print('it variance',it_var)\n",
    "print('fin variance',fin_var)"
   ]
  },
  {
   "cell_type": "code",
   "execution_count": 103,
   "metadata": {},
   "outputs": [
    {
     "data": {
      "text/plain": [
       "0.07562651385838885"
      ]
     },
     "execution_count": 103,
     "metadata": {},
     "output_type": "execute_result"
    }
   ],
   "source": [
    "t_statistic = ((it_mean - fin_mean)- 0) / (math.sqrt((it_var*(it_len-1) + fin_var*(fin_len-1))/df2*(1/it_len+1/fin_len)))\n",
    "t_statistic"
   ]
  },
  {
   "cell_type": "markdown",
   "metadata": {},
   "source": [
    "### Set the value of alpha (α)"
   ]
  },
  {
   "cell_type": "code",
   "execution_count": 104,
   "metadata": {},
   "outputs": [],
   "source": [
    "alpha=0.05"
   ]
  },
  {
   "cell_type": "markdown",
   "metadata": {},
   "source": [
    "### Establish the decision rule"
   ]
  },
  {
   "cell_type": "markdown",
   "metadata": {},
   "source": [
    "If p_value < alpha  \n",
    "If -t-critical > t-statistics > +t-critical : Rejection of Null Hypothesis(H0)"
   ]
  },
  {
   "cell_type": "markdown",
   "metadata": {},
   "source": [
    "### Set degrees of freedom"
   ]
  },
  {
   "cell_type": "code",
   "execution_count": 105,
   "metadata": {},
   "outputs": [
    {
     "data": {
      "text/plain": [
       "18"
      ]
     },
     "execution_count": 105,
     "metadata": {},
     "output_type": "execute_result"
    }
   ],
   "source": [
    "df2"
   ]
  },
  {
   "cell_type": "markdown",
   "metadata": {},
   "source": [
    "### Analyze the data"
   ]
  },
  {
   "cell_type": "markdown",
   "metadata": {},
   "source": [
    "#### Calculate sample statistic"
   ]
  },
  {
   "cell_type": "code",
   "execution_count": null,
   "metadata": {},
   "outputs": [],
   "source": []
  },
  {
   "cell_type": "markdown",
   "metadata": {},
   "source": [
    "#### Calculate t-statistic and t-critical"
   ]
  },
  {
   "cell_type": "code",
   "execution_count": 116,
   "metadata": {},
   "outputs": [
    {
     "data": {
      "text/plain": [
       "0.9405504456951823"
      ]
     },
     "execution_count": 116,
     "metadata": {},
     "output_type": "execute_result"
    }
   ],
   "source": [
    "p_value=t.sf(abs(t_statistic),df2)*2\n",
    "p_value"
   ]
  },
  {
   "cell_type": "code",
   "execution_count": 117,
   "metadata": {},
   "outputs": [
    {
     "data": {
      "text/plain": [
       "0.07562651385838885"
      ]
     },
     "execution_count": 117,
     "metadata": {},
     "output_type": "execute_result"
    }
   ],
   "source": [
    "t_statistic"
   ]
  },
  {
   "cell_type": "code",
   "execution_count": 120,
   "metadata": {},
   "outputs": [
    {
     "data": {
      "text/plain": [
       "1.7340636066175354"
      ]
     },
     "execution_count": 120,
     "metadata": {},
     "output_type": "execute_result"
    }
   ],
   "source": [
    "t_critical=t.ppf((1-alpha),df2)\n",
    "t_critical"
   ]
  },
  {
   "cell_type": "markdown",
   "metadata": {},
   "source": [
    "### Reach a statistical conclusion"
   ]
  },
  {
   "cell_type": "code",
   "execution_count": null,
   "metadata": {},
   "outputs": [],
   "source": []
  },
  {
   "cell_type": "markdown",
   "metadata": {},
   "source": [
    "### Make the business decision"
   ]
  },
  {
   "cell_type": "code",
   "execution_count": null,
   "metadata": {},
   "outputs": [],
   "source": []
  },
  {
   "cell_type": "markdown",
   "metadata": {},
   "source": [
    "## Demo – 7.3: Hypothesis Test Using ANOVA"
   ]
  },
  {
   "cell_type": "markdown",
   "metadata": {},
   "source": [
    "Consider the company officials determine whether there is a difference in the average age of workers at different manufacturing plants. The following data are the ages of six randomly selected workers from each plant of the three manufacturing plants.\n",
    "Use the one-way ANOVA technique to determine whether there is a significant difference in the mean ages of the workers at the three plants. Use a 99% of significance level and assume that the sample sizes are equal."
   ]
  },
  {
   "cell_type": "markdown",
   "metadata": {},
   "source": [
    "### Set the Null and Alternate Hypothesis"
   ]
  },
  {
   "cell_type": "code",
   "execution_count": null,
   "metadata": {},
   "outputs": [],
   "source": []
  },
  {
   "cell_type": "markdown",
   "metadata": {},
   "source": [
    "### Determine the appropriate statistical test"
   ]
  },
  {
   "cell_type": "code",
   "execution_count": null,
   "metadata": {},
   "outputs": [],
   "source": []
  },
  {
   "cell_type": "markdown",
   "metadata": {},
   "source": [
    "### Establish the decision rule"
   ]
  },
  {
   "cell_type": "code",
   "execution_count": null,
   "metadata": {},
   "outputs": [],
   "source": []
  },
  {
   "cell_type": "markdown",
   "metadata": {},
   "source": [
    "### Access the sample data"
   ]
  },
  {
   "cell_type": "code",
   "execution_count": null,
   "metadata": {},
   "outputs": [],
   "source": []
  },
  {
   "cell_type": "markdown",
   "metadata": {},
   "source": [
    "### Calculate the total age for each sample(Tj)"
   ]
  },
  {
   "cell_type": "code",
   "execution_count": null,
   "metadata": {},
   "outputs": [],
   "source": []
  },
  {
   "cell_type": "markdown",
   "metadata": {},
   "source": [
    "### Samples size (nj)"
   ]
  },
  {
   "cell_type": "code",
   "execution_count": null,
   "metadata": {},
   "outputs": [],
   "source": []
  },
  {
   "cell_type": "markdown",
   "metadata": {},
   "source": [
    "### Calculate sample means (xj)"
   ]
  },
  {
   "cell_type": "code",
   "execution_count": null,
   "metadata": {},
   "outputs": [],
   "source": []
  },
  {
   "cell_type": "markdown",
   "metadata": {},
   "source": [
    "### Analyze the data"
   ]
  },
  {
   "cell_type": "markdown",
   "metadata": {},
   "source": [
    "#### Calculate the sum of squares columns (SSC)"
   ]
  },
  {
   "cell_type": "code",
   "execution_count": null,
   "metadata": {},
   "outputs": [],
   "source": []
  },
  {
   "cell_type": "markdown",
   "metadata": {},
   "source": [
    "#### Calculate the sum of squares errors (SSE)"
   ]
  },
  {
   "cell_type": "code",
   "execution_count": null,
   "metadata": {},
   "outputs": [],
   "source": []
  },
  {
   "cell_type": "markdown",
   "metadata": {},
   "source": [
    "#### Calculate the total sum of squares (SST)"
   ]
  },
  {
   "cell_type": "code",
   "execution_count": null,
   "metadata": {},
   "outputs": [],
   "source": []
  },
  {
   "cell_type": "markdown",
   "metadata": {},
   "source": [
    "#### Calculate column, error, and the total degree of freedoms (dfc,dfe,dft)"
   ]
  },
  {
   "cell_type": "code",
   "execution_count": null,
   "metadata": {},
   "outputs": [],
   "source": []
  },
  {
   "cell_type": "markdown",
   "metadata": {},
   "source": [
    "#### Calculate MSC"
   ]
  },
  {
   "cell_type": "code",
   "execution_count": null,
   "metadata": {},
   "outputs": [],
   "source": []
  },
  {
   "cell_type": "markdown",
   "metadata": {},
   "source": [
    "#### Calculate MSE"
   ]
  },
  {
   "cell_type": "code",
   "execution_count": null,
   "metadata": {},
   "outputs": [],
   "source": []
  },
  {
   "cell_type": "markdown",
   "metadata": {},
   "source": [
    "#### Calculate F-statistic"
   ]
  },
  {
   "cell_type": "code",
   "execution_count": null,
   "metadata": {},
   "outputs": [],
   "source": []
  },
  {
   "cell_type": "markdown",
   "metadata": {},
   "source": [
    "#### Calculate F-critical"
   ]
  },
  {
   "cell_type": "code",
   "execution_count": null,
   "metadata": {},
   "outputs": [],
   "source": []
  },
  {
   "cell_type": "markdown",
   "metadata": {},
   "source": [
    "#### Distribution using boxplot"
   ]
  },
  {
   "cell_type": "code",
   "execution_count": null,
   "metadata": {},
   "outputs": [],
   "source": []
  },
  {
   "cell_type": "markdown",
   "metadata": {},
   "source": [
    "### Reach a statistical conclusion"
   ]
  },
  {
   "cell_type": "code",
   "execution_count": null,
   "metadata": {},
   "outputs": [],
   "source": []
  },
  {
   "cell_type": "markdown",
   "metadata": {},
   "source": [
    "### Make a business decision"
   ]
  },
  {
   "cell_type": "code",
   "execution_count": null,
   "metadata": {},
   "outputs": [],
   "source": []
  },
  {
   "cell_type": "markdown",
   "metadata": {},
   "source": [
    "### Plotting f-distribution"
   ]
  },
  {
   "cell_type": "code",
   "execution_count": null,
   "metadata": {},
   "outputs": [],
   "source": []
  },
  {
   "cell_type": "markdown",
   "metadata": {},
   "source": [
    "## Learning Consolidation"
   ]
  },
  {
   "cell_type": "markdown",
   "metadata": {},
   "source": [
    "overtime after 40 hours a week. These extra hours are sometimes called green-time or comp-time. Most managers do overwork than the eight-hour workday preparing proposals, overseeing crucial tasks, and handling paperwork. Recognition of such overtime is vital. Most managers are usually not paid extra for this work, but a record is kept of this information, and infrequently managers are allowed to use part of the comp-time as extra leave or vacation time.\n",
    "Nina, a data analyst, is asked to estimate the average weekly cumulative comp-time of aerospace industry managers with a 90% confidence level. She randomly samples 18 managers, measures their overtime hours in the selected week, and obtains the displayed results (in hours).\n",
    "\n",
    "6, 21, 17, 20, 7, 0, 8, 16, 29,3, 8, 12, 11, 9, 21, 25, 15, 16"
   ]
  },
  {
   "cell_type": "markdown",
   "metadata": {},
   "source": [
    "### Determine the appropriate statistical test"
   ]
  },
  {
   "cell_type": "code",
   "execution_count": null,
   "metadata": {},
   "outputs": [],
   "source": []
  },
  {
   "cell_type": "markdown",
   "metadata": {},
   "source": [
    "### Set the value of alpha (α)"
   ]
  },
  {
   "cell_type": "code",
   "execution_count": null,
   "metadata": {},
   "outputs": [],
   "source": []
  },
  {
   "cell_type": "markdown",
   "metadata": {},
   "source": [
    "### Set degrees of freedom"
   ]
  },
  {
   "cell_type": "code",
   "execution_count": null,
   "metadata": {},
   "outputs": [],
   "source": []
  },
  {
   "cell_type": "markdown",
   "metadata": {},
   "source": [
    "### Calculate t-critical value"
   ]
  },
  {
   "cell_type": "code",
   "execution_count": null,
   "metadata": {},
   "outputs": [],
   "source": []
  },
  {
   "cell_type": "markdown",
   "metadata": {},
   "source": [
    "### Calculate Sample statistic(mean and standard deviation)"
   ]
  },
  {
   "cell_type": "code",
   "execution_count": null,
   "metadata": {},
   "outputs": [],
   "source": []
  },
  {
   "cell_type": "markdown",
   "metadata": {},
   "source": [
    "### Calculate population mean using confidence interval"
   ]
  },
  {
   "cell_type": "code",
   "execution_count": null,
   "metadata": {},
   "outputs": [],
   "source": []
  },
  {
   "cell_type": "markdown",
   "metadata": {},
   "source": [
    "### Reach a statistical conclusion"
   ]
  },
  {
   "cell_type": "code",
   "execution_count": null,
   "metadata": {},
   "outputs": [],
   "source": []
  },
  {
   "cell_type": "markdown",
   "metadata": {},
   "source": [
    "### Make a business decision"
   ]
  },
  {
   "cell_type": "code",
   "execution_count": null,
   "metadata": {},
   "outputs": [],
   "source": []
  },
  {
   "cell_type": "markdown",
   "metadata": {},
   "source": [
    "# DEMO:"
   ]
  },
  {
   "cell_type": "code",
   "execution_count": null,
   "metadata": {},
   "outputs": [],
   "source": [
    "# 99% confidence level"
   ]
  },
  {
   "cell_type": "code",
   "execution_count": 225,
   "metadata": {},
   "outputs": [
    {
     "name": "stdout",
     "output_type": "stream",
     "text": [
      "6 6 6\n"
     ]
    }
   ],
   "source": [
    "t1=[30,27,27,28,29,28]\n",
    "t2=[31,34,30,33,32,32]\n",
    "t3=[24,24,25,25,26,26]\n",
    "\n",
    "n1=len(t1)\n",
    "n2=len(t2)\n",
    "n3=len(t3)\n",
    "\n",
    "print(n1,n2,n3)"
   ]
  },
  {
   "cell_type": "code",
   "execution_count": 175,
   "metadata": {},
   "outputs": [
    {
     "name": "stdout",
     "output_type": "stream",
     "text": [
      "169 192 150\n",
      "sum of all the samples: 511\n",
      "mean of all the samples: 170.33333333333334\n"
     ]
    }
   ],
   "source": [
    "t1_sum=sum(t1)\n",
    "t2_sum=sum(t2)\n",
    "t3_sum=sum(t3)\n",
    "\n",
    "print(t1_sum,\n",
    "      t2_sum,\n",
    "      t3_sum)\n",
    "\n",
    "g_sum=t1_sum+t2_sum+t3_sum\n",
    "\n",
    "print(\"sum of all the samples:\",g_sum)"
   ]
  },
  {
   "cell_type": "code",
   "execution_count": 176,
   "metadata": {
    "scrolled": true
   },
   "outputs": [
    {
     "name": "stdout",
     "output_type": "stream",
     "text": [
      "28.166666666666668 32 25\n",
      "mean of all the samples: 28.38888888888889\n"
     ]
    }
   ],
   "source": [
    "t1_mean=st.mean(t1)\n",
    "t2_mean=st.mean(t2)\n",
    "t3_mean=st.mean(t3)\n",
    "\n",
    "print(t1_mean,\n",
    "      t2_mean,\n",
    "      t3_mean)\n",
    "\n",
    "g_mean=(t1_mean+t2_mean+t3_mean)/3\n",
    "print(\"mean of all the samples:\",g_mean)"
   ]
  },
  {
   "cell_type": "markdown",
   "metadata": {},
   "source": [
    ">Now after her,we have squaring technique in all the calculations so there is no chance of geeting a negative\"-\"value...!"
   ]
  },
  {
   "cell_type": "markdown",
   "metadata": {},
   "source": [
    "### Step 5:"
   ]
  },
  {
   "cell_type": "code",
   "execution_count": 216,
   "metadata": {
    "scrolled": false
   },
   "outputs": [
    {
     "data": {
      "text/plain": [
       "147.44444444444443"
      ]
     },
     "execution_count": 216,
     "metadata": {},
     "output_type": "execute_result"
    }
   ],
   "source": [
    "ssc=n1*((t1_mean-g_mean)**2) + n2*((t2_mean-g_mean)**2) + n3*((t3_mean-g_mean)**2)\n",
    "ssc   #squaring individually and summation...\n",
    "      #sum of squares between groups..."
   ]
  },
  {
   "cell_type": "markdown",
   "metadata": {},
   "source": [
    "### Step 6:"
   ]
  },
  {
   "cell_type": "code",
   "execution_count": 217,
   "metadata": {},
   "outputs": [
    {
     "name": "stdout",
     "output_type": "stream",
     "text": [
      "sse = 20.833333333333336\n"
     ]
    }
   ],
   "source": [
    "sse=0\n",
    "\n",
    "for i in t1:   #sample\n",
    "    sse=sse+(i-t1_mean)**2\n",
    "\n",
    "for i in t2:   #sample\n",
    "    sse=sse+(i-t2_mean)**2\n",
    "\n",
    "for i in t3:   #sample\n",
    "    sse=sse+(i-t3_mean)**2\n",
    "\n",
    "print(\"sse =\",sse)"
   ]
  },
  {
   "cell_type": "code",
   "execution_count": 226,
   "metadata": {},
   "outputs": [],
   "source": [
    "#FROM BEN.C.Z\n",
    "\n",
    "# SSE2=0                                # alternate way for sse\n",
    "# for i in (sample1,sample2,sample3):\n",
    "#     for j in i:\n",
    "#         SSE2 = SSE2 + (j - st.mean(i))**2)\n",
    "# SSE2\n",
    "\n",
    "#SAMUEL WOOD\n",
    "\n",
    "# ssc2 = 0                              # much better way # alternate way for ssc\n",
    "# for i in (sample1,sample2,sample3):\n",
    "#     ssc2 = ssc2 + len(i)*(st.mean(i) - x)**2\n",
    "# ssc2"
   ]
  },
  {
   "cell_type": "markdown",
   "metadata": {},
   "source": [
    "### Step 7:"
   ]
  },
  {
   "cell_type": "code",
   "execution_count": 220,
   "metadata": {},
   "outputs": [
    {
     "name": "stdout",
     "output_type": "stream",
     "text": [
      "sst = 168.27777777777777\n"
     ]
    }
   ],
   "source": [
    "sst=0\n",
    "\n",
    "for i in t1:\n",
    "    sst=sst+(i-g_mean)**2\n",
    "\n",
    "for i in t2:\n",
    "    sst=sst+(i-g_mean)**2\n",
    "\n",
    "for i in t3:\n",
    "    sst=sst+(i-g_mean)**2\n",
    "\n",
    "print(\"sst =\",sst)   #total sum of squares..."
   ]
  },
  {
   "cell_type": "markdown",
   "metadata": {},
   "source": [
    "### Step 8:"
   ]
  },
  {
   "cell_type": "code",
   "execution_count": 221,
   "metadata": {},
   "outputs": [
    {
     "name": "stdout",
     "output_type": "stream",
     "text": [
      "dfc = 2\n",
      "dfe = 15\n",
      "dft = 17\n"
     ]
    }
   ],
   "source": [
    "#DEGREE OF FREEDOM: \n",
    "\n",
    "dfc= 3-1   #no. of columns-1\n",
    "dfe= 18-3   #no of samples-no. of columns\n",
    "dft= 18-1   #no. of samples-1\n",
    "\n",
    "print('dfc =',dfc)\n",
    "print('dfe =',dfe)\n",
    "print('dft =',dft)"
   ]
  },
  {
   "cell_type": "code",
   "execution_count": 222,
   "metadata": {},
   "outputs": [
    {
     "name": "stdout",
     "output_type": "stream",
     "text": [
      "msc = 73.72222222222221\n"
     ]
    }
   ],
   "source": [
    "#MSC\n",
    "\n",
    "MSC=ssc/dfc\n",
    "print('msc =',MSC)"
   ]
  },
  {
   "cell_type": "code",
   "execution_count": 223,
   "metadata": {},
   "outputs": [
    {
     "name": "stdout",
     "output_type": "stream",
     "text": [
      "mse = 1.388888888888889\n"
     ]
    }
   ],
   "source": [
    "#MSE\n",
    "\n",
    "MSE=sse/dfe\n",
    "print('mse =',MSE)"
   ]
  },
  {
   "cell_type": "code",
   "execution_count": 224,
   "metadata": {},
   "outputs": [
    {
     "name": "stdout",
     "output_type": "stream",
     "text": [
      "F-statistic = 53.07999999999999\n"
     ]
    }
   ],
   "source": [
    "#F_VALUE\n",
    "\n",
    "f_statistic=MSC/MSE\n",
    "print('F-statistic =',f_statistic)"
   ]
  },
  {
   "cell_type": "code",
   "execution_count": 231,
   "metadata": {},
   "outputs": [
    {
     "name": "stdout",
     "output_type": "stream",
     "text": [
      "F-critical = 6.358873480667171\n"
     ]
    }
   ],
   "source": [
    "f_critical=f.ppf(1-0.01, dfc, dfe)\n",
    "print('F-critical =',f_critical)"
   ]
  },
  {
   "cell_type": "code",
   "execution_count": 233,
   "metadata": {},
   "outputs": [
    {
     "data": {
      "image/png": "[encoded data removed]",
      "text/plain": [
       "<Figure size 720x504 with 1 Axes>"
      ]
     },
     "metadata": {
      "needs_background": "light"
     },
     "output_type": "display_data"
    }
   ],
   "source": [
    "fig = plt.figure(figsize =(10, 7))\n",
    "\n",
    "ax = fig.add_axes([0, 0, 1, 1])\n",
    "\n",
    "data=[t1, t2, t3]\n",
    "\n",
    "plt.boxplot(data,vert = 0)\n",
    "\n",
    "ax.set_yticklabels(['Plant-1',\n",
    "                    'Plant-2',\n",
    "                    'Plant-3'])\n",
    "\n",
    "plt.show()"
   ]
  },
  {
   "cell_type": "code",
   "execution_count": null,
   "metadata": {},
   "outputs": [],
   "source": []
  }
 ],
 "metadata": {
  "kernelspec": {
   "display_name": "Python 3 (ipykernel)",
   "language": "python",
   "name": "python3"
  },
  "language_info": {
   "codemirror_mode": {
    "name": "ipython",
    "version": 3
   },
   "file_extension": ".py",
   "mimetype": "text/x-python",
   "name": "python",
   "nbconvert_exporter": "python",
   "pygments_lexer": "ipython3",
   "version": "3.10.2"
  }
 },
 "nbformat": 4,
 "nbformat_minor": 2
}
